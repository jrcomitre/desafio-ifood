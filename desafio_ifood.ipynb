{
 "cells": [
  {
   "cell_type": "code",
   "execution_count": 3,
   "id": "943f3b7f",
   "metadata": {},
   "outputs": [
    {
     "name": "stdout",
     "output_type": "stream",
     "text": [
      "Requirement already satisfied: pandas in c:\\users\\user\\appdata\\local\\programs\\python\\python312\\lib\\site-packages (2.2.3)\n",
      "Requirement already satisfied: numpy>=1.26.0 in c:\\users\\user\\appdata\\local\\programs\\python\\python312\\lib\\site-packages (from pandas) (2.1.1)\n",
      "Requirement already satisfied: python-dateutil>=2.8.2 in c:\\users\\user\\appdata\\local\\programs\\python\\python312\\lib\\site-packages (from pandas) (2.9.0.post0)\n",
      "Requirement already satisfied: pytz>=2020.1 in c:\\users\\user\\appdata\\local\\programs\\python\\python312\\lib\\site-packages (from pandas) (2024.2)\n",
      "Requirement already satisfied: tzdata>=2022.7 in c:\\users\\user\\appdata\\local\\programs\\python\\python312\\lib\\site-packages (from pandas) (2024.2)\n",
      "Requirement already satisfied: six>=1.5 in c:\\users\\user\\appdata\\local\\programs\\python\\python312\\lib\\site-packages (from python-dateutil>=2.8.2->pandas) (1.16.0)\n",
      "Requirement already satisfied: numpy in c:\\users\\user\\appdata\\local\\programs\\python\\python312\\lib\\site-packages (2.1.1)\n",
      "Requirement already satisfied: matplotlib in c:\\users\\user\\appdata\\local\\programs\\python\\python312\\lib\\site-packages (3.10.1)\n",
      "Requirement already satisfied: contourpy>=1.0.1 in c:\\users\\user\\appdata\\local\\programs\\python\\python312\\lib\\site-packages (from matplotlib) (1.3.2)\n",
      "Requirement already satisfied: cycler>=0.10 in c:\\users\\user\\appdata\\local\\programs\\python\\python312\\lib\\site-packages (from matplotlib) (0.12.1)\n",
      "Requirement already satisfied: fonttools>=4.22.0 in c:\\users\\user\\appdata\\local\\programs\\python\\python312\\lib\\site-packages (from matplotlib) (4.57.0)\n",
      "Requirement already satisfied: kiwisolver>=1.3.1 in c:\\users\\user\\appdata\\local\\programs\\python\\python312\\lib\\site-packages (from matplotlib) (1.4.8)\n",
      "Requirement already satisfied: numpy>=1.23 in c:\\users\\user\\appdata\\local\\programs\\python\\python312\\lib\\site-packages (from matplotlib) (2.1.1)\n",
      "Requirement already satisfied: packaging>=20.0 in c:\\users\\user\\appdata\\roaming\\python\\python312\\site-packages (from matplotlib) (24.1)\n",
      "Requirement already satisfied: pillow>=8 in c:\\users\\user\\appdata\\local\\programs\\python\\python312\\lib\\site-packages (from matplotlib) (11.2.1)\n",
      "Requirement already satisfied: pyparsing>=2.3.1 in c:\\users\\user\\appdata\\local\\programs\\python\\python312\\lib\\site-packages (from matplotlib) (3.2.3)\n",
      "Requirement already satisfied: python-dateutil>=2.7 in c:\\users\\user\\appdata\\local\\programs\\python\\python312\\lib\\site-packages (from matplotlib) (2.9.0.post0)\n",
      "Requirement already satisfied: six>=1.5 in c:\\users\\user\\appdata\\local\\programs\\python\\python312\\lib\\site-packages (from python-dateutil>=2.7->matplotlib) (1.16.0)\n"
     ]
    }
   ],
   "source": [
    "!pip install pandas\n",
    "!pip install numpy\n",
    "!pip install matplotlib"
   ]
  },
  {
   "cell_type": "code",
   "execution_count": 4,
   "id": "b0e8dc48",
   "metadata": {},
   "outputs": [],
   "source": [
    "import pandas as pd\n",
    "import numpy as np\n",
    "import matplotlib.pyplot as plt\n",
    "import seaborn as sns"
   ]
  },
  {
   "cell_type": "markdown",
   "id": "bb4a77d3",
   "metadata": {},
   "source": [
    "Abrindo o arquivo .csv"
   ]
  },
  {
   "cell_type": "code",
   "execution_count": 5,
   "id": "bfd896a3",
   "metadata": {},
   "outputs": [],
   "source": [
    "df = pd.read_csv('mkt_data.csv')"
   ]
  },
  {
   "cell_type": "code",
   "execution_count": 6,
   "id": "f1ddcf96",
   "metadata": {},
   "outputs": [
    {
     "data": {
      "text/html": [
       "<div>\n",
       "<style scoped>\n",
       "    .dataframe tbody tr th:only-of-type {\n",
       "        vertical-align: middle;\n",
       "    }\n",
       "\n",
       "    .dataframe tbody tr th {\n",
       "        vertical-align: top;\n",
       "    }\n",
       "\n",
       "    .dataframe thead th {\n",
       "        text-align: right;\n",
       "    }\n",
       "</style>\n",
       "<table border=\"1\" class=\"dataframe\">\n",
       "  <thead>\n",
       "    <tr style=\"text-align: right;\">\n",
       "      <th></th>\n",
       "      <th>Unnamed: 0</th>\n",
       "      <th>Income</th>\n",
       "      <th>Kidhome</th>\n",
       "      <th>Teenhome</th>\n",
       "      <th>Recency</th>\n",
       "      <th>MntWines</th>\n",
       "      <th>MntFruits</th>\n",
       "      <th>MntMeatProducts</th>\n",
       "      <th>MntFishProducts</th>\n",
       "      <th>MntSweetProducts</th>\n",
       "      <th>...</th>\n",
       "      <th>education_Graduation</th>\n",
       "      <th>education_Master</th>\n",
       "      <th>education_PhD</th>\n",
       "      <th>MntTotal</th>\n",
       "      <th>MntRegularProds</th>\n",
       "      <th>AcceptedCmpOverall</th>\n",
       "      <th>marital_status</th>\n",
       "      <th>education_level</th>\n",
       "      <th>kids</th>\n",
       "      <th>expenses</th>\n",
       "    </tr>\n",
       "  </thead>\n",
       "  <tbody>\n",
       "    <tr>\n",
       "      <th>0</th>\n",
       "      <td>0</td>\n",
       "      <td>58138.0</td>\n",
       "      <td>0</td>\n",
       "      <td>0</td>\n",
       "      <td>58</td>\n",
       "      <td>635</td>\n",
       "      <td>88</td>\n",
       "      <td>546</td>\n",
       "      <td>172</td>\n",
       "      <td>88</td>\n",
       "      <td>...</td>\n",
       "      <td>3.0</td>\n",
       "      <td>NaN</td>\n",
       "      <td>NaN</td>\n",
       "      <td>1529</td>\n",
       "      <td>1441</td>\n",
       "      <td>0</td>\n",
       "      <td>Single</td>\n",
       "      <td>Graduation</td>\n",
       "      <td>0</td>\n",
       "      <td>1529</td>\n",
       "    </tr>\n",
       "    <tr>\n",
       "      <th>1</th>\n",
       "      <td>1</td>\n",
       "      <td>46344.0</td>\n",
       "      <td>1</td>\n",
       "      <td>1</td>\n",
       "      <td>38</td>\n",
       "      <td>11</td>\n",
       "      <td>1</td>\n",
       "      <td>6</td>\n",
       "      <td>2</td>\n",
       "      <td>1</td>\n",
       "      <td>...</td>\n",
       "      <td>3.0</td>\n",
       "      <td>NaN</td>\n",
       "      <td>NaN</td>\n",
       "      <td>21</td>\n",
       "      <td>15</td>\n",
       "      <td>0</td>\n",
       "      <td>Single</td>\n",
       "      <td>Graduation</td>\n",
       "      <td>2</td>\n",
       "      <td>21</td>\n",
       "    </tr>\n",
       "    <tr>\n",
       "      <th>2</th>\n",
       "      <td>2</td>\n",
       "      <td>71613.0</td>\n",
       "      <td>0</td>\n",
       "      <td>0</td>\n",
       "      <td>26</td>\n",
       "      <td>426</td>\n",
       "      <td>49</td>\n",
       "      <td>127</td>\n",
       "      <td>111</td>\n",
       "      <td>21</td>\n",
       "      <td>...</td>\n",
       "      <td>3.0</td>\n",
       "      <td>NaN</td>\n",
       "      <td>NaN</td>\n",
       "      <td>734</td>\n",
       "      <td>692</td>\n",
       "      <td>0</td>\n",
       "      <td>Together</td>\n",
       "      <td>Graduation</td>\n",
       "      <td>0</td>\n",
       "      <td>734</td>\n",
       "    </tr>\n",
       "    <tr>\n",
       "      <th>3</th>\n",
       "      <td>3</td>\n",
       "      <td>26646.0</td>\n",
       "      <td>1</td>\n",
       "      <td>0</td>\n",
       "      <td>26</td>\n",
       "      <td>11</td>\n",
       "      <td>4</td>\n",
       "      <td>20</td>\n",
       "      <td>10</td>\n",
       "      <td>3</td>\n",
       "      <td>...</td>\n",
       "      <td>3.0</td>\n",
       "      <td>NaN</td>\n",
       "      <td>NaN</td>\n",
       "      <td>48</td>\n",
       "      <td>43</td>\n",
       "      <td>0</td>\n",
       "      <td>Together</td>\n",
       "      <td>Graduation</td>\n",
       "      <td>1</td>\n",
       "      <td>48</td>\n",
       "    </tr>\n",
       "    <tr>\n",
       "      <th>4</th>\n",
       "      <td>4</td>\n",
       "      <td>58293.0</td>\n",
       "      <td>1</td>\n",
       "      <td>0</td>\n",
       "      <td>94</td>\n",
       "      <td>173</td>\n",
       "      <td>43</td>\n",
       "      <td>118</td>\n",
       "      <td>46</td>\n",
       "      <td>27</td>\n",
       "      <td>...</td>\n",
       "      <td>NaN</td>\n",
       "      <td>NaN</td>\n",
       "      <td>5.0</td>\n",
       "      <td>407</td>\n",
       "      <td>392</td>\n",
       "      <td>0</td>\n",
       "      <td>Married</td>\n",
       "      <td>PhD</td>\n",
       "      <td>1</td>\n",
       "      <td>407</td>\n",
       "    </tr>\n",
       "    <tr>\n",
       "      <th>...</th>\n",
       "      <td>...</td>\n",
       "      <td>...</td>\n",
       "      <td>...</td>\n",
       "      <td>...</td>\n",
       "      <td>...</td>\n",
       "      <td>...</td>\n",
       "      <td>...</td>\n",
       "      <td>...</td>\n",
       "      <td>...</td>\n",
       "      <td>...</td>\n",
       "      <td>...</td>\n",
       "      <td>...</td>\n",
       "      <td>...</td>\n",
       "      <td>...</td>\n",
       "      <td>...</td>\n",
       "      <td>...</td>\n",
       "      <td>...</td>\n",
       "      <td>...</td>\n",
       "      <td>...</td>\n",
       "      <td>...</td>\n",
       "      <td>...</td>\n",
       "    </tr>\n",
       "    <tr>\n",
       "      <th>2200</th>\n",
       "      <td>2200</td>\n",
       "      <td>61223.0</td>\n",
       "      <td>0</td>\n",
       "      <td>1</td>\n",
       "      <td>46</td>\n",
       "      <td>709</td>\n",
       "      <td>43</td>\n",
       "      <td>182</td>\n",
       "      <td>42</td>\n",
       "      <td>118</td>\n",
       "      <td>...</td>\n",
       "      <td>3.0</td>\n",
       "      <td>NaN</td>\n",
       "      <td>NaN</td>\n",
       "      <td>1094</td>\n",
       "      <td>847</td>\n",
       "      <td>0</td>\n",
       "      <td>Married</td>\n",
       "      <td>Graduation</td>\n",
       "      <td>1</td>\n",
       "      <td>1094</td>\n",
       "    </tr>\n",
       "    <tr>\n",
       "      <th>2201</th>\n",
       "      <td>2201</td>\n",
       "      <td>64014.0</td>\n",
       "      <td>2</td>\n",
       "      <td>1</td>\n",
       "      <td>56</td>\n",
       "      <td>406</td>\n",
       "      <td>0</td>\n",
       "      <td>30</td>\n",
       "      <td>0</td>\n",
       "      <td>0</td>\n",
       "      <td>...</td>\n",
       "      <td>NaN</td>\n",
       "      <td>NaN</td>\n",
       "      <td>5.0</td>\n",
       "      <td>436</td>\n",
       "      <td>428</td>\n",
       "      <td>1</td>\n",
       "      <td>Together</td>\n",
       "      <td>PhD</td>\n",
       "      <td>3</td>\n",
       "      <td>436</td>\n",
       "    </tr>\n",
       "    <tr>\n",
       "      <th>2202</th>\n",
       "      <td>2202</td>\n",
       "      <td>56981.0</td>\n",
       "      <td>0</td>\n",
       "      <td>0</td>\n",
       "      <td>91</td>\n",
       "      <td>908</td>\n",
       "      <td>48</td>\n",
       "      <td>217</td>\n",
       "      <td>32</td>\n",
       "      <td>12</td>\n",
       "      <td>...</td>\n",
       "      <td>3.0</td>\n",
       "      <td>NaN</td>\n",
       "      <td>NaN</td>\n",
       "      <td>1217</td>\n",
       "      <td>1193</td>\n",
       "      <td>1</td>\n",
       "      <td>Divorced</td>\n",
       "      <td>Graduation</td>\n",
       "      <td>0</td>\n",
       "      <td>1217</td>\n",
       "    </tr>\n",
       "    <tr>\n",
       "      <th>2203</th>\n",
       "      <td>2203</td>\n",
       "      <td>69245.0</td>\n",
       "      <td>0</td>\n",
       "      <td>1</td>\n",
       "      <td>8</td>\n",
       "      <td>428</td>\n",
       "      <td>30</td>\n",
       "      <td>214</td>\n",
       "      <td>80</td>\n",
       "      <td>30</td>\n",
       "      <td>...</td>\n",
       "      <td>NaN</td>\n",
       "      <td>4.0</td>\n",
       "      <td>NaN</td>\n",
       "      <td>782</td>\n",
       "      <td>721</td>\n",
       "      <td>0</td>\n",
       "      <td>Together</td>\n",
       "      <td>Master</td>\n",
       "      <td>1</td>\n",
       "      <td>782</td>\n",
       "    </tr>\n",
       "    <tr>\n",
       "      <th>2204</th>\n",
       "      <td>2204</td>\n",
       "      <td>52869.0</td>\n",
       "      <td>1</td>\n",
       "      <td>1</td>\n",
       "      <td>40</td>\n",
       "      <td>84</td>\n",
       "      <td>3</td>\n",
       "      <td>61</td>\n",
       "      <td>2</td>\n",
       "      <td>1</td>\n",
       "      <td>...</td>\n",
       "      <td>NaN</td>\n",
       "      <td>NaN</td>\n",
       "      <td>5.0</td>\n",
       "      <td>151</td>\n",
       "      <td>130</td>\n",
       "      <td>0</td>\n",
       "      <td>Married</td>\n",
       "      <td>PhD</td>\n",
       "      <td>2</td>\n",
       "      <td>151</td>\n",
       "    </tr>\n",
       "  </tbody>\n",
       "</table>\n",
       "<p>2205 rows × 44 columns</p>\n",
       "</div>"
      ],
      "text/plain": [
       "      Unnamed: 0   Income  Kidhome  Teenhome  Recency  MntWines  MntFruits  \\\n",
       "0              0  58138.0        0         0       58       635         88   \n",
       "1              1  46344.0        1         1       38        11          1   \n",
       "2              2  71613.0        0         0       26       426         49   \n",
       "3              3  26646.0        1         0       26        11          4   \n",
       "4              4  58293.0        1         0       94       173         43   \n",
       "...          ...      ...      ...       ...      ...       ...        ...   \n",
       "2200        2200  61223.0        0         1       46       709         43   \n",
       "2201        2201  64014.0        2         1       56       406          0   \n",
       "2202        2202  56981.0        0         0       91       908         48   \n",
       "2203        2203  69245.0        0         1        8       428         30   \n",
       "2204        2204  52869.0        1         1       40        84          3   \n",
       "\n",
       "      MntMeatProducts  MntFishProducts  MntSweetProducts  ...  \\\n",
       "0                 546              172                88  ...   \n",
       "1                   6                2                 1  ...   \n",
       "2                 127              111                21  ...   \n",
       "3                  20               10                 3  ...   \n",
       "4                 118               46                27  ...   \n",
       "...               ...              ...               ...  ...   \n",
       "2200              182               42               118  ...   \n",
       "2201               30                0                 0  ...   \n",
       "2202              217               32                12  ...   \n",
       "2203              214               80                30  ...   \n",
       "2204               61                2                 1  ...   \n",
       "\n",
       "      education_Graduation  education_Master  education_PhD  MntTotal  \\\n",
       "0                      3.0               NaN            NaN      1529   \n",
       "1                      3.0               NaN            NaN        21   \n",
       "2                      3.0               NaN            NaN       734   \n",
       "3                      3.0               NaN            NaN        48   \n",
       "4                      NaN               NaN            5.0       407   \n",
       "...                    ...               ...            ...       ...   \n",
       "2200                   3.0               NaN            NaN      1094   \n",
       "2201                   NaN               NaN            5.0       436   \n",
       "2202                   3.0               NaN            NaN      1217   \n",
       "2203                   NaN               4.0            NaN       782   \n",
       "2204                   NaN               NaN            5.0       151   \n",
       "\n",
       "      MntRegularProds  AcceptedCmpOverall  marital_status  education_level  \\\n",
       "0                1441                   0          Single       Graduation   \n",
       "1                  15                   0          Single       Graduation   \n",
       "2                 692                   0        Together       Graduation   \n",
       "3                  43                   0        Together       Graduation   \n",
       "4                 392                   0         Married              PhD   \n",
       "...               ...                 ...             ...              ...   \n",
       "2200              847                   0         Married       Graduation   \n",
       "2201              428                   1        Together              PhD   \n",
       "2202             1193                   1        Divorced       Graduation   \n",
       "2203              721                   0        Together           Master   \n",
       "2204              130                   0         Married              PhD   \n",
       "\n",
       "      kids  expenses  \n",
       "0        0      1529  \n",
       "1        2        21  \n",
       "2        0       734  \n",
       "3        1        48  \n",
       "4        1       407  \n",
       "...    ...       ...  \n",
       "2200     1      1094  \n",
       "2201     3       436  \n",
       "2202     0      1217  \n",
       "2203     1       782  \n",
       "2204     2       151  \n",
       "\n",
       "[2205 rows x 44 columns]"
      ]
     },
     "execution_count": 6,
     "metadata": {},
     "output_type": "execute_result"
    }
   ],
   "source": [
    "# Exibindo o arquivo\n",
    "df"
   ]
  },
  {
   "cell_type": "code",
   "execution_count": 7,
   "id": "ca748047",
   "metadata": {},
   "outputs": [
    {
     "data": {
      "text/plain": [
       "(2205, 44)"
      ]
     },
     "execution_count": 7,
     "metadata": {},
     "output_type": "execute_result"
    }
   ],
   "source": [
    "# Exibindo linhas e colunas\n",
    "df.shape"
   ]
  },
  {
   "cell_type": "code",
   "execution_count": 8,
   "id": "14942b01",
   "metadata": {},
   "outputs": [
    {
     "name": "stdout",
     "output_type": "stream",
     "text": [
      "<class 'pandas.core.frame.DataFrame'>\n",
      "RangeIndex: 2205 entries, 0 to 2204\n",
      "Data columns (total 44 columns):\n",
      " #   Column                Non-Null Count  Dtype  \n",
      "---  ------                --------------  -----  \n",
      " 0   Unnamed: 0            2205 non-null   int64  \n",
      " 1   Income                2205 non-null   float64\n",
      " 2   Kidhome               2205 non-null   int64  \n",
      " 3   Teenhome              2205 non-null   int64  \n",
      " 4   Recency               2205 non-null   int64  \n",
      " 5   MntWines              2205 non-null   int64  \n",
      " 6   MntFruits             2205 non-null   int64  \n",
      " 7   MntMeatProducts       2205 non-null   int64  \n",
      " 8   MntFishProducts       2205 non-null   int64  \n",
      " 9   MntSweetProducts      2205 non-null   int64  \n",
      " 10  MntGoldProds          2205 non-null   int64  \n",
      " 11  NumDealsPurchases     2205 non-null   int64  \n",
      " 12  NumWebPurchases       2205 non-null   int64  \n",
      " 13  NumCatalogPurchases   2205 non-null   int64  \n",
      " 14  NumStorePurchases     2205 non-null   int64  \n",
      " 15  NumWebVisitsMonth     2205 non-null   int64  \n",
      " 16  AcceptedCmp3          2205 non-null   int64  \n",
      " 17  AcceptedCmp4          2205 non-null   int64  \n",
      " 18  AcceptedCmp5          2205 non-null   int64  \n",
      " 19  AcceptedCmp1          2205 non-null   int64  \n",
      " 20  AcceptedCmp2          2205 non-null   int64  \n",
      " 21  Complain              2205 non-null   int64  \n",
      " 22  Z_CostContact         2205 non-null   int64  \n",
      " 23  Z_Revenue             2205 non-null   int64  \n",
      " 24  Response              2205 non-null   int64  \n",
      " 25  Age                   2205 non-null   int64  \n",
      " 26  Customer_Days         2205 non-null   int64  \n",
      " 27  marital_Divorced      230 non-null    float64\n",
      " 28  marital_Married       854 non-null    float64\n",
      " 29  marital_Single        477 non-null    float64\n",
      " 30  marital_Together      568 non-null    float64\n",
      " 31  marital_Widow         76 non-null     float64\n",
      " 32  education_2n Cycle    198 non-null    float64\n",
      " 33  education_Basic       54 non-null     float64\n",
      " 34  education_Graduation  1113 non-null   float64\n",
      " 35  education_Master      364 non-null    float64\n",
      " 36  education_PhD         476 non-null    float64\n",
      " 37  MntTotal              2205 non-null   int64  \n",
      " 38  MntRegularProds       2205 non-null   int64  \n",
      " 39  AcceptedCmpOverall    2205 non-null   int64  \n",
      " 40  marital_status        2205 non-null   object \n",
      " 41  education_level       2205 non-null   object \n",
      " 42  kids                  2205 non-null   int64  \n",
      " 43  expenses              2205 non-null   int64  \n",
      "dtypes: float64(11), int64(31), object(2)\n",
      "memory usage: 758.1+ KB\n"
     ]
    }
   ],
   "source": [
    "# mostrando os tipos de colunas\n",
    "df.info()"
   ]
  },
  {
   "cell_type": "code",
   "execution_count": 9,
   "id": "839c075e",
   "metadata": {},
   "outputs": [
    {
     "data": {
      "text/plain": [
       "Index(['Unnamed: 0', 'Income', 'Kidhome', 'Teenhome', 'Recency', 'MntWines',\n",
       "       'MntFruits', 'MntMeatProducts', 'MntFishProducts', 'MntSweetProducts',\n",
       "       'MntGoldProds', 'NumDealsPurchases', 'NumWebPurchases',\n",
       "       'NumCatalogPurchases', 'NumStorePurchases', 'NumWebVisitsMonth',\n",
       "       'AcceptedCmp3', 'AcceptedCmp4', 'AcceptedCmp5', 'AcceptedCmp1',\n",
       "       'AcceptedCmp2', 'Complain', 'Z_CostContact', 'Z_Revenue', 'Response',\n",
       "       'Age', 'Customer_Days', 'marital_Divorced', 'marital_Married',\n",
       "       'marital_Single', 'marital_Together', 'marital_Widow',\n",
       "       'education_2n Cycle', 'education_Basic', 'education_Graduation',\n",
       "       'education_Master', 'education_PhD', 'MntTotal', 'MntRegularProds',\n",
       "       'AcceptedCmpOverall', 'kids', 'expenses'],\n",
       "      dtype='object')"
      ]
     },
     "execution_count": 9,
     "metadata": {},
     "output_type": "execute_result"
    }
   ],
   "source": [
    "# Selecionando apenas as numéricas: aqui colocamos todos os formatos que o Python reconhece como numérico.\n",
    "numerics = ['int16', 'int32', 'int64', 'float16', 'float32', 'float64']\n",
    "\n",
    "# .select_dtypes seleciona no dataframe os tipos de dados passados no parâmetro, enquanto o .columns vai mostrar o nome das colunas que possuem aquele tipo de dado.\n",
    "df.select_dtypes(include=numerics).columns"
   ]
  },
  {
   "cell_type": "code",
   "execution_count": 10,
   "id": "6a3f937e",
   "metadata": {},
   "outputs": [
    {
     "data": {
      "text/plain": [
       "np.int64(0)"
      ]
     },
     "execution_count": 10,
     "metadata": {},
     "output_type": "execute_result"
    }
   ],
   "source": [
    "# Verificando duplicados no dataset e removendo se caso existir.\n",
    "\n",
    "# Somando os duplicados do dataset: verificando a soma total de dados nulos\n",
    "df.duplicated().sum()"
   ]
  },
  {
   "cell_type": "code",
   "execution_count": 11,
   "id": "2551914c",
   "metadata": {},
   "outputs": [
    {
     "data": {
      "text/plain": [
       "np.False_"
      ]
     },
     "execution_count": 11,
     "metadata": {},
     "output_type": "execute_result"
    }
   ],
   "source": [
    "# outra possibilidade é verificar acerca da existência, aqui você apenas consegue verificar se os duplicados existem, mas não quanto são:\n",
    "df.duplicated().any()"
   ]
  },
  {
   "cell_type": "markdown",
   "id": "2ea2be48",
   "metadata": {},
   "source": [
    "OBSERVAÇÃO:\n",
    "Observando que há uma coluna no Dataframe chamada \"Unnamed: 0\", ao rodar o código acima, estamos considerando os valores nela contidos e os dados não apresentarão valores duplicados, uma vez que há valores distintos para cada uma destas linhas. Logo, mesmo que hajam dados duplicados, ao considerar esta coluna, o código não reconhecerá como linhas repetidas.\n",
    "\n",
    "Como esta coluna em si, não traz nenhuma informação pertinente, por ser índices do dataframe (observa-se que os valores são repetidos na coluna e no índice) você pode eliminar esta coluna, e seguir com as análises.\n",
    "\n",
    "Para eliminar a coluna \"Unnamed: 0\", basta seguir estas etapas:"
   ]
  },
  {
   "cell_type": "code",
   "execution_count": 12,
   "id": "eaa93a80",
   "metadata": {},
   "outputs": [],
   "source": [
    "# Eliminando a coluna \"Unnamed: 0\"\n",
    "d = df.drop('Unnamed: 0', axis=1)"
   ]
  },
  {
   "cell_type": "code",
   "execution_count": 13,
   "id": "17c3d9d0",
   "metadata": {},
   "outputs": [
    {
     "data": {
      "text/plain": [
       "np.int64(0)"
      ]
     },
     "execution_count": 13,
     "metadata": {},
     "output_type": "execute_result"
    }
   ],
   "source": [
    "# Verificando a quantidade de duplicados\n",
    "df.duplicated().sum()"
   ]
  },
  {
   "cell_type": "code",
   "execution_count": 14,
   "id": "94e67d10",
   "metadata": {},
   "outputs": [],
   "source": [
    "# Removendo dados duplicados\n",
    "df = df.drop_duplicates()"
   ]
  },
  {
   "cell_type": "code",
   "execution_count": 15,
   "id": "ab561738",
   "metadata": {},
   "outputs": [
    {
     "data": {
      "text/plain": [
       "Unnamed: 0                 0\n",
       "Income                     0\n",
       "Kidhome                    0\n",
       "Teenhome                   0\n",
       "Recency                    0\n",
       "MntWines                   0\n",
       "MntFruits                  0\n",
       "MntMeatProducts            0\n",
       "MntFishProducts            0\n",
       "MntSweetProducts           0\n",
       "MntGoldProds               0\n",
       "NumDealsPurchases          0\n",
       "NumWebPurchases            0\n",
       "NumCatalogPurchases        0\n",
       "NumStorePurchases          0\n",
       "NumWebVisitsMonth          0\n",
       "AcceptedCmp3               0\n",
       "AcceptedCmp4               0\n",
       "AcceptedCmp5               0\n",
       "AcceptedCmp1               0\n",
       "AcceptedCmp2               0\n",
       "Complain                   0\n",
       "Z_CostContact              0\n",
       "Z_Revenue                  0\n",
       "Response                   0\n",
       "Age                        0\n",
       "Customer_Days              0\n",
       "marital_Divorced        1975\n",
       "marital_Married         1351\n",
       "marital_Single          1728\n",
       "marital_Together        1637\n",
       "marital_Widow           2129\n",
       "education_2n Cycle      2007\n",
       "education_Basic         2151\n",
       "education_Graduation    1092\n",
       "education_Master        1841\n",
       "education_PhD           1729\n",
       "MntTotal                   0\n",
       "MntRegularProds            0\n",
       "AcceptedCmpOverall         0\n",
       "marital_status             0\n",
       "education_level            0\n",
       "kids                       0\n",
       "expenses                   0\n",
       "dtype: int64"
      ]
     },
     "execution_count": 15,
     "metadata": {},
     "output_type": "execute_result"
    }
   ],
   "source": [
    "# Somando os nulos da base\n",
    "df.isnull().sum()"
   ]
  },
  {
   "cell_type": "markdown",
   "id": "3e0e1928",
   "metadata": {},
   "source": [
    "Temos nulos na base, nas colunas:\n",
    "\n",
    "marital_Divorced\n",
    "marital_Married\n",
    "marital_Single\n",
    "marital_Together\n",
    "marital_Widow\n",
    "education_2n Cycle\n",
    "education_Basic\n",
    "education_Graduation\n",
    "education_Master\n",
    "education_PhD\n",
    "\n",
    "Os nulos indicados acima podem significar que a pessoa não tem aquela determinada característica. Essas colunas só tem nulos ou um outro determinado valor. Por exemplo:"
   ]
  },
  {
   "cell_type": "code",
   "execution_count": 16,
   "id": "1d793f1f",
   "metadata": {},
   "outputs": [
    {
     "data": {
      "text/plain": [
       "education_PhD\n",
       "5.0    476\n",
       "Name: count, dtype: int64"
      ]
     },
     "execution_count": 16,
     "metadata": {},
     "output_type": "execute_result"
    }
   ],
   "source": [
    "# Contando as ocorrências de um valor na coluna education_PhD: o .value_counts() conta apenas os registros não nulos.\n",
    "df.education_PhD.value_counts()"
   ]
  },
  {
   "cell_type": "markdown",
   "id": "2c63709f",
   "metadata": {},
   "source": [
    "A coluna education_PhD só tem o número 5.0, que aparece 476 vezes. O restante é nulo. Isso é um ótimo indício que o nulo significa que a pessoa não tem aquela determinada variável. No caso acima, ela não tem PHD\n",
    "\n",
    "Portanto, essas colunas podem se tornar um booleano - 1 se fez e 0 se não fez (nulo)"
   ]
  },
  {
   "cell_type": "code",
   "execution_count": 17,
   "id": "c85b0dc7",
   "metadata": {},
   "outputs": [],
   "source": [
    "# Selecionando colunas com nulos\n",
    "colunas_com_nulos = ['marital_Divorced'\n",
    ", 'marital_Married'\n",
    ", 'marital_Single'\n",
    ", 'marital_Together'\n",
    ", 'marital_Widow'\n",
    ", 'education_2n Cycle'\n",
    ", 'education_Basic'\n",
    ", 'education_Graduation'\n",
    ", 'education_Master'\n",
    ", 'education_PhD']"
   ]
  },
  {
   "cell_type": "code",
   "execution_count": 18,
   "id": "8a75ee70",
   "metadata": {},
   "outputs": [],
   "source": [
    "# Substituindo por booleano\n",
    "\n",
    "for item in colunas_com_nulos:\n",
    "    df['booleano'+str(item)] = np.where(df[item].isnull(), 0, 1) # se for nulo, substitui por 0, caso contrário substitui por 1"
   ]
  },
  {
   "cell_type": "code",
   "execution_count": 19,
   "id": "6e386a16",
   "metadata": {},
   "outputs": [
    {
     "data": {
      "text/html": [
       "<div>\n",
       "<style scoped>\n",
       "    .dataframe tbody tr th:only-of-type {\n",
       "        vertical-align: middle;\n",
       "    }\n",
       "\n",
       "    .dataframe tbody tr th {\n",
       "        vertical-align: top;\n",
       "    }\n",
       "\n",
       "    .dataframe thead th {\n",
       "        text-align: right;\n",
       "    }\n",
       "</style>\n",
       "<table border=\"1\" class=\"dataframe\">\n",
       "  <thead>\n",
       "    <tr style=\"text-align: right;\">\n",
       "      <th></th>\n",
       "      <th>Unnamed: 0</th>\n",
       "      <th>Income</th>\n",
       "      <th>Kidhome</th>\n",
       "      <th>Teenhome</th>\n",
       "      <th>Recency</th>\n",
       "      <th>MntWines</th>\n",
       "      <th>MntFruits</th>\n",
       "      <th>MntMeatProducts</th>\n",
       "      <th>MntFishProducts</th>\n",
       "      <th>MntSweetProducts</th>\n",
       "      <th>...</th>\n",
       "      <th>booleanomarital_Divorced</th>\n",
       "      <th>booleanomarital_Married</th>\n",
       "      <th>booleanomarital_Single</th>\n",
       "      <th>booleanomarital_Together</th>\n",
       "      <th>booleanomarital_Widow</th>\n",
       "      <th>booleanoeducation_2n Cycle</th>\n",
       "      <th>booleanoeducation_Basic</th>\n",
       "      <th>booleanoeducation_Graduation</th>\n",
       "      <th>booleanoeducation_Master</th>\n",
       "      <th>booleanoeducation_PhD</th>\n",
       "    </tr>\n",
       "  </thead>\n",
       "  <tbody>\n",
       "    <tr>\n",
       "      <th>0</th>\n",
       "      <td>0</td>\n",
       "      <td>58138.0</td>\n",
       "      <td>0</td>\n",
       "      <td>0</td>\n",
       "      <td>58</td>\n",
       "      <td>635</td>\n",
       "      <td>88</td>\n",
       "      <td>546</td>\n",
       "      <td>172</td>\n",
       "      <td>88</td>\n",
       "      <td>...</td>\n",
       "      <td>0</td>\n",
       "      <td>0</td>\n",
       "      <td>1</td>\n",
       "      <td>0</td>\n",
       "      <td>0</td>\n",
       "      <td>0</td>\n",
       "      <td>0</td>\n",
       "      <td>1</td>\n",
       "      <td>0</td>\n",
       "      <td>0</td>\n",
       "    </tr>\n",
       "    <tr>\n",
       "      <th>1</th>\n",
       "      <td>1</td>\n",
       "      <td>46344.0</td>\n",
       "      <td>1</td>\n",
       "      <td>1</td>\n",
       "      <td>38</td>\n",
       "      <td>11</td>\n",
       "      <td>1</td>\n",
       "      <td>6</td>\n",
       "      <td>2</td>\n",
       "      <td>1</td>\n",
       "      <td>...</td>\n",
       "      <td>0</td>\n",
       "      <td>0</td>\n",
       "      <td>1</td>\n",
       "      <td>0</td>\n",
       "      <td>0</td>\n",
       "      <td>0</td>\n",
       "      <td>0</td>\n",
       "      <td>1</td>\n",
       "      <td>0</td>\n",
       "      <td>0</td>\n",
       "    </tr>\n",
       "    <tr>\n",
       "      <th>2</th>\n",
       "      <td>2</td>\n",
       "      <td>71613.0</td>\n",
       "      <td>0</td>\n",
       "      <td>0</td>\n",
       "      <td>26</td>\n",
       "      <td>426</td>\n",
       "      <td>49</td>\n",
       "      <td>127</td>\n",
       "      <td>111</td>\n",
       "      <td>21</td>\n",
       "      <td>...</td>\n",
       "      <td>0</td>\n",
       "      <td>0</td>\n",
       "      <td>0</td>\n",
       "      <td>1</td>\n",
       "      <td>0</td>\n",
       "      <td>0</td>\n",
       "      <td>0</td>\n",
       "      <td>1</td>\n",
       "      <td>0</td>\n",
       "      <td>0</td>\n",
       "    </tr>\n",
       "    <tr>\n",
       "      <th>3</th>\n",
       "      <td>3</td>\n",
       "      <td>26646.0</td>\n",
       "      <td>1</td>\n",
       "      <td>0</td>\n",
       "      <td>26</td>\n",
       "      <td>11</td>\n",
       "      <td>4</td>\n",
       "      <td>20</td>\n",
       "      <td>10</td>\n",
       "      <td>3</td>\n",
       "      <td>...</td>\n",
       "      <td>0</td>\n",
       "      <td>0</td>\n",
       "      <td>0</td>\n",
       "      <td>1</td>\n",
       "      <td>0</td>\n",
       "      <td>0</td>\n",
       "      <td>0</td>\n",
       "      <td>1</td>\n",
       "      <td>0</td>\n",
       "      <td>0</td>\n",
       "    </tr>\n",
       "    <tr>\n",
       "      <th>4</th>\n",
       "      <td>4</td>\n",
       "      <td>58293.0</td>\n",
       "      <td>1</td>\n",
       "      <td>0</td>\n",
       "      <td>94</td>\n",
       "      <td>173</td>\n",
       "      <td>43</td>\n",
       "      <td>118</td>\n",
       "      <td>46</td>\n",
       "      <td>27</td>\n",
       "      <td>...</td>\n",
       "      <td>0</td>\n",
       "      <td>1</td>\n",
       "      <td>0</td>\n",
       "      <td>0</td>\n",
       "      <td>0</td>\n",
       "      <td>0</td>\n",
       "      <td>0</td>\n",
       "      <td>0</td>\n",
       "      <td>0</td>\n",
       "      <td>1</td>\n",
       "    </tr>\n",
       "    <tr>\n",
       "      <th>...</th>\n",
       "      <td>...</td>\n",
       "      <td>...</td>\n",
       "      <td>...</td>\n",
       "      <td>...</td>\n",
       "      <td>...</td>\n",
       "      <td>...</td>\n",
       "      <td>...</td>\n",
       "      <td>...</td>\n",
       "      <td>...</td>\n",
       "      <td>...</td>\n",
       "      <td>...</td>\n",
       "      <td>...</td>\n",
       "      <td>...</td>\n",
       "      <td>...</td>\n",
       "      <td>...</td>\n",
       "      <td>...</td>\n",
       "      <td>...</td>\n",
       "      <td>...</td>\n",
       "      <td>...</td>\n",
       "      <td>...</td>\n",
       "      <td>...</td>\n",
       "    </tr>\n",
       "    <tr>\n",
       "      <th>2200</th>\n",
       "      <td>2200</td>\n",
       "      <td>61223.0</td>\n",
       "      <td>0</td>\n",
       "      <td>1</td>\n",
       "      <td>46</td>\n",
       "      <td>709</td>\n",
       "      <td>43</td>\n",
       "      <td>182</td>\n",
       "      <td>42</td>\n",
       "      <td>118</td>\n",
       "      <td>...</td>\n",
       "      <td>0</td>\n",
       "      <td>1</td>\n",
       "      <td>0</td>\n",
       "      <td>0</td>\n",
       "      <td>0</td>\n",
       "      <td>0</td>\n",
       "      <td>0</td>\n",
       "      <td>1</td>\n",
       "      <td>0</td>\n",
       "      <td>0</td>\n",
       "    </tr>\n",
       "    <tr>\n",
       "      <th>2201</th>\n",
       "      <td>2201</td>\n",
       "      <td>64014.0</td>\n",
       "      <td>2</td>\n",
       "      <td>1</td>\n",
       "      <td>56</td>\n",
       "      <td>406</td>\n",
       "      <td>0</td>\n",
       "      <td>30</td>\n",
       "      <td>0</td>\n",
       "      <td>0</td>\n",
       "      <td>...</td>\n",
       "      <td>0</td>\n",
       "      <td>0</td>\n",
       "      <td>0</td>\n",
       "      <td>1</td>\n",
       "      <td>0</td>\n",
       "      <td>0</td>\n",
       "      <td>0</td>\n",
       "      <td>0</td>\n",
       "      <td>0</td>\n",
       "      <td>1</td>\n",
       "    </tr>\n",
       "    <tr>\n",
       "      <th>2202</th>\n",
       "      <td>2202</td>\n",
       "      <td>56981.0</td>\n",
       "      <td>0</td>\n",
       "      <td>0</td>\n",
       "      <td>91</td>\n",
       "      <td>908</td>\n",
       "      <td>48</td>\n",
       "      <td>217</td>\n",
       "      <td>32</td>\n",
       "      <td>12</td>\n",
       "      <td>...</td>\n",
       "      <td>1</td>\n",
       "      <td>0</td>\n",
       "      <td>0</td>\n",
       "      <td>0</td>\n",
       "      <td>0</td>\n",
       "      <td>0</td>\n",
       "      <td>0</td>\n",
       "      <td>1</td>\n",
       "      <td>0</td>\n",
       "      <td>0</td>\n",
       "    </tr>\n",
       "    <tr>\n",
       "      <th>2203</th>\n",
       "      <td>2203</td>\n",
       "      <td>69245.0</td>\n",
       "      <td>0</td>\n",
       "      <td>1</td>\n",
       "      <td>8</td>\n",
       "      <td>428</td>\n",
       "      <td>30</td>\n",
       "      <td>214</td>\n",
       "      <td>80</td>\n",
       "      <td>30</td>\n",
       "      <td>...</td>\n",
       "      <td>0</td>\n",
       "      <td>0</td>\n",
       "      <td>0</td>\n",
       "      <td>1</td>\n",
       "      <td>0</td>\n",
       "      <td>0</td>\n",
       "      <td>0</td>\n",
       "      <td>0</td>\n",
       "      <td>1</td>\n",
       "      <td>0</td>\n",
       "    </tr>\n",
       "    <tr>\n",
       "      <th>2204</th>\n",
       "      <td>2204</td>\n",
       "      <td>52869.0</td>\n",
       "      <td>1</td>\n",
       "      <td>1</td>\n",
       "      <td>40</td>\n",
       "      <td>84</td>\n",
       "      <td>3</td>\n",
       "      <td>61</td>\n",
       "      <td>2</td>\n",
       "      <td>1</td>\n",
       "      <td>...</td>\n",
       "      <td>0</td>\n",
       "      <td>1</td>\n",
       "      <td>0</td>\n",
       "      <td>0</td>\n",
       "      <td>0</td>\n",
       "      <td>0</td>\n",
       "      <td>0</td>\n",
       "      <td>0</td>\n",
       "      <td>0</td>\n",
       "      <td>1</td>\n",
       "    </tr>\n",
       "  </tbody>\n",
       "</table>\n",
       "<p>2205 rows × 54 columns</p>\n",
       "</div>"
      ],
      "text/plain": [
       "      Unnamed: 0   Income  Kidhome  Teenhome  Recency  MntWines  MntFruits  \\\n",
       "0              0  58138.0        0         0       58       635         88   \n",
       "1              1  46344.0        1         1       38        11          1   \n",
       "2              2  71613.0        0         0       26       426         49   \n",
       "3              3  26646.0        1         0       26        11          4   \n",
       "4              4  58293.0        1         0       94       173         43   \n",
       "...          ...      ...      ...       ...      ...       ...        ...   \n",
       "2200        2200  61223.0        0         1       46       709         43   \n",
       "2201        2201  64014.0        2         1       56       406          0   \n",
       "2202        2202  56981.0        0         0       91       908         48   \n",
       "2203        2203  69245.0        0         1        8       428         30   \n",
       "2204        2204  52869.0        1         1       40        84          3   \n",
       "\n",
       "      MntMeatProducts  MntFishProducts  MntSweetProducts  ...  \\\n",
       "0                 546              172                88  ...   \n",
       "1                   6                2                 1  ...   \n",
       "2                 127              111                21  ...   \n",
       "3                  20               10                 3  ...   \n",
       "4                 118               46                27  ...   \n",
       "...               ...              ...               ...  ...   \n",
       "2200              182               42               118  ...   \n",
       "2201               30                0                 0  ...   \n",
       "2202              217               32                12  ...   \n",
       "2203              214               80                30  ...   \n",
       "2204               61                2                 1  ...   \n",
       "\n",
       "      booleanomarital_Divorced  booleanomarital_Married  \\\n",
       "0                            0                        0   \n",
       "1                            0                        0   \n",
       "2                            0                        0   \n",
       "3                            0                        0   \n",
       "4                            0                        1   \n",
       "...                        ...                      ...   \n",
       "2200                         0                        1   \n",
       "2201                         0                        0   \n",
       "2202                         1                        0   \n",
       "2203                         0                        0   \n",
       "2204                         0                        1   \n",
       "\n",
       "      booleanomarital_Single  booleanomarital_Together  booleanomarital_Widow  \\\n",
       "0                          1                         0                      0   \n",
       "1                          1                         0                      0   \n",
       "2                          0                         1                      0   \n",
       "3                          0                         1                      0   \n",
       "4                          0                         0                      0   \n",
       "...                      ...                       ...                    ...   \n",
       "2200                       0                         0                      0   \n",
       "2201                       0                         1                      0   \n",
       "2202                       0                         0                      0   \n",
       "2203                       0                         1                      0   \n",
       "2204                       0                         0                      0   \n",
       "\n",
       "      booleanoeducation_2n Cycle  booleanoeducation_Basic  \\\n",
       "0                              0                        0   \n",
       "1                              0                        0   \n",
       "2                              0                        0   \n",
       "3                              0                        0   \n",
       "4                              0                        0   \n",
       "...                          ...                      ...   \n",
       "2200                           0                        0   \n",
       "2201                           0                        0   \n",
       "2202                           0                        0   \n",
       "2203                           0                        0   \n",
       "2204                           0                        0   \n",
       "\n",
       "      booleanoeducation_Graduation  booleanoeducation_Master  \\\n",
       "0                                1                         0   \n",
       "1                                1                         0   \n",
       "2                                1                         0   \n",
       "3                                1                         0   \n",
       "4                                0                         0   \n",
       "...                            ...                       ...   \n",
       "2200                             1                         0   \n",
       "2201                             0                         0   \n",
       "2202                             1                         0   \n",
       "2203                             0                         1   \n",
       "2204                             0                         0   \n",
       "\n",
       "      booleanoeducation_PhD  \n",
       "0                         0  \n",
       "1                         0  \n",
       "2                         0  \n",
       "3                         0  \n",
       "4                         1  \n",
       "...                     ...  \n",
       "2200                      0  \n",
       "2201                      1  \n",
       "2202                      0  \n",
       "2203                      0  \n",
       "2204                      1  \n",
       "\n",
       "[2205 rows x 54 columns]"
      ]
     },
     "execution_count": 19,
     "metadata": {},
     "output_type": "execute_result"
    }
   ],
   "source": [
    "# Observando as ultimas colunas\n",
    "df"
   ]
  },
  {
   "cell_type": "markdown",
   "id": "e23f2d81",
   "metadata": {},
   "source": [
    "Descobrindo a média, mediana, 25 percentil, 75 percentil, mínimo e máximo das colunas income, kids e expenses"
   ]
  },
  {
   "cell_type": "code",
   "execution_count": 20,
   "id": "f70f0c1a",
   "metadata": {},
   "outputs": [
    {
     "data": {
      "text/html": [
       "<div>\n",
       "<style scoped>\n",
       "    .dataframe tbody tr th:only-of-type {\n",
       "        vertical-align: middle;\n",
       "    }\n",
       "\n",
       "    .dataframe tbody tr th {\n",
       "        vertical-align: top;\n",
       "    }\n",
       "\n",
       "    .dataframe thead th {\n",
       "        text-align: right;\n",
       "    }\n",
       "</style>\n",
       "<table border=\"1\" class=\"dataframe\">\n",
       "  <thead>\n",
       "    <tr style=\"text-align: right;\">\n",
       "      <th></th>\n",
       "      <th>kids</th>\n",
       "      <th>Income</th>\n",
       "      <th>expenses</th>\n",
       "    </tr>\n",
       "  </thead>\n",
       "  <tbody>\n",
       "    <tr>\n",
       "      <th>count</th>\n",
       "      <td>2205.000000</td>\n",
       "      <td>2205.000000</td>\n",
       "      <td>2205.000000</td>\n",
       "    </tr>\n",
       "    <tr>\n",
       "      <th>mean</th>\n",
       "      <td>0.948753</td>\n",
       "      <td>51622.094785</td>\n",
       "      <td>562.764626</td>\n",
       "    </tr>\n",
       "    <tr>\n",
       "      <th>std</th>\n",
       "      <td>0.749231</td>\n",
       "      <td>20713.063826</td>\n",
       "      <td>575.936911</td>\n",
       "    </tr>\n",
       "    <tr>\n",
       "      <th>min</th>\n",
       "      <td>0.000000</td>\n",
       "      <td>1730.000000</td>\n",
       "      <td>4.000000</td>\n",
       "    </tr>\n",
       "    <tr>\n",
       "      <th>25%</th>\n",
       "      <td>0.000000</td>\n",
       "      <td>35196.000000</td>\n",
       "      <td>56.000000</td>\n",
       "    </tr>\n",
       "    <tr>\n",
       "      <th>50%</th>\n",
       "      <td>1.000000</td>\n",
       "      <td>51287.000000</td>\n",
       "      <td>343.000000</td>\n",
       "    </tr>\n",
       "    <tr>\n",
       "      <th>75%</th>\n",
       "      <td>1.000000</td>\n",
       "      <td>68281.000000</td>\n",
       "      <td>964.000000</td>\n",
       "    </tr>\n",
       "    <tr>\n",
       "      <th>max</th>\n",
       "      <td>3.000000</td>\n",
       "      <td>113734.000000</td>\n",
       "      <td>2491.000000</td>\n",
       "    </tr>\n",
       "  </tbody>\n",
       "</table>\n",
       "</div>"
      ],
      "text/plain": [
       "              kids         Income     expenses\n",
       "count  2205.000000    2205.000000  2205.000000\n",
       "mean      0.948753   51622.094785   562.764626\n",
       "std       0.749231   20713.063826   575.936911\n",
       "min       0.000000    1730.000000     4.000000\n",
       "25%       0.000000   35196.000000    56.000000\n",
       "50%       1.000000   51287.000000   343.000000\n",
       "75%       1.000000   68281.000000   964.000000\n",
       "max       3.000000  113734.000000  2491.000000"
      ]
     },
     "execution_count": 20,
     "metadata": {},
     "output_type": "execute_result"
    }
   ],
   "source": [
    "# Utilizando o describe() para mostrar as principais estatísticas das colunas numéricas de interesse\n",
    "df[['kids', 'Income', 'expenses']].describe()"
   ]
  },
  {
   "cell_type": "markdown",
   "id": "30b2228a",
   "metadata": {},
   "source": [
    "Descobrindo o maior salário no dataset através da coluna Income.\n",
    "\n",
    "Qual é a distribuição de salário na base? Existem clientes que ganham muito bem e outros que não ganham muito bem? Percebido na coluna Income."
   ]
  },
  {
   "cell_type": "code",
   "execution_count": 21,
   "id": "92f0b48c",
   "metadata": {},
   "outputs": [
    {
     "data": {
      "text/plain": [
       "<Axes: >"
      ]
     },
     "execution_count": 21,
     "metadata": {},
     "output_type": "execute_result"
    },
    {
     "data": {
      "image/png": "[encoded data removed]",
      "text/plain": [
       "<Figure size 640x480 with 1 Axes>"
      ]
     },
     "metadata": {},
     "output_type": "display_data"
    }
   ],
   "source": [
    "# Observando o histograma (Também pode ser usado a biblioteca PLOTLY)\n",
    "df['Income'].hist()"
   ]
  },
  {
   "cell_type": "code",
   "execution_count": 22,
   "id": "a58c871f",
   "metadata": {},
   "outputs": [
    {
     "name": "stdout",
     "output_type": "stream",
     "text": [
      "Requirement already satisfied: plotly in c:\\users\\user\\appdata\\local\\programs\\python\\python312\\lib\\site-packages (6.3.0)\n",
      "Requirement already satisfied: narwhals>=1.15.1 in c:\\users\\user\\appdata\\local\\programs\\python\\python312\\lib\\site-packages (from plotly) (2.3.0)\n",
      "Requirement already satisfied: packaging in c:\\users\\user\\appdata\\roaming\\python\\python312\\site-packages (from plotly) (24.1)\n"
     ]
    }
   ],
   "source": [
    "# Utilizando PLOTLY\n",
    "!pip install plotly"
   ]
  },
  {
   "cell_type": "code",
   "execution_count": 23,
   "id": "ab50645f",
   "metadata": {},
   "outputs": [
    {
     "name": "stdout",
     "output_type": "stream",
     "text": [
      "Requirement already satisfied: nbformat in c:\\users\\user\\appdata\\local\\programs\\python\\python312\\lib\\site-packages (5.10.4)\n",
      "Requirement already satisfied: fastjsonschema>=2.15 in c:\\users\\user\\appdata\\local\\programs\\python\\python312\\lib\\site-packages (from nbformat) (2.21.2)\n",
      "Requirement already satisfied: jsonschema>=2.6 in c:\\users\\user\\appdata\\local\\programs\\python\\python312\\lib\\site-packages (from nbformat) (4.25.1)\n",
      "Requirement already satisfied: jupyter-core!=5.0.*,>=4.12 in c:\\users\\user\\appdata\\roaming\\python\\python312\\site-packages (from nbformat) (5.7.2)\n",
      "Requirement already satisfied: traitlets>=5.1 in c:\\users\\user\\appdata\\roaming\\python\\python312\\site-packages (from nbformat) (5.14.3)\n",
      "Requirement already satisfied: attrs>=22.2.0 in c:\\users\\user\\appdata\\local\\programs\\python\\python312\\lib\\site-packages (from jsonschema>=2.6->nbformat) (25.3.0)\n",
      "Requirement already satisfied: jsonschema-specifications>=2023.03.6 in c:\\users\\user\\appdata\\local\\programs\\python\\python312\\lib\\site-packages (from jsonschema>=2.6->nbformat) (2025.9.1)\n",
      "Requirement already satisfied: referencing>=0.28.4 in c:\\users\\user\\appdata\\local\\programs\\python\\python312\\lib\\site-packages (from jsonschema>=2.6->nbformat) (0.36.2)\n",
      "Requirement already satisfied: rpds-py>=0.7.1 in c:\\users\\user\\appdata\\local\\programs\\python\\python312\\lib\\site-packages (from jsonschema>=2.6->nbformat) (0.27.1)\n",
      "Requirement already satisfied: platformdirs>=2.5 in c:\\users\\user\\appdata\\roaming\\python\\python312\\site-packages (from jupyter-core!=5.0.*,>=4.12->nbformat) (4.3.6)\n",
      "Requirement already satisfied: pywin32>=300 in c:\\users\\user\\appdata\\roaming\\python\\python312\\site-packages (from jupyter-core!=5.0.*,>=4.12->nbformat) (306)\n",
      "Requirement already satisfied: typing-extensions>=4.4.0 in c:\\users\\user\\appdata\\local\\programs\\python\\python312\\lib\\site-packages (from referencing>=0.28.4->jsonschema>=2.6->nbformat) (4.15.0)\n"
     ]
    }
   ],
   "source": [
    "!pip install nbformat --upgrade\n"
   ]
  },
  {
   "cell_type": "code",
   "execution_count": 25,
   "id": "27ce02c5",
   "metadata": {},
   "outputs": [
    {
     "data": {
      "text/html": [
       "<div>            <script src=\"https://cdnjs.cloudflare.com/ajax/libs/mathjax/2.7.5/MathJax.js?config=TeX-AMS-MML_SVG\"></script><script type=\"text/javascript\">if (window.MathJax && window.MathJax.Hub && window.MathJax.Hub.Config) {window.MathJax.Hub.Config({SVG: {font: \"STIX-Web\"}});}</script>                    <div id=\"12288e8f-1da2-4a62-a145-474b382b9998\" class=\"plotly-graph-div\" style=\"height:525px; width:100%;\"></div>            <script type=\"text/javascript\">                window.PLOTLYENV=window.PLOTLYENV || {};                                if (document.getElementById(\"12288e8f-1da2-4a62-a145-474b382b9998\")) {                    Plotly.newPlot(                        \"12288e8f-1da2-4a62-a145-474b382b9998\",                        [{\"bingroup\":\"x\",\"hovertemplate\":\"Income=%{x}\\u003cbr\\u003ecount=%{y}\\u003cextra\\u003e\\u003c\\u002fextra\\u003e\",\"legendgroup\":\"\",\"marker\":{\"color\":\"#636efa\",\"pattern\":{\"shape\":\"\"}},\"name\":\"\",\"nbinsx\":10,\"orientation\":\"v\",\"showlegend\":false,\"x\":{\"dtype\":\"f8\",\"bdata\":\"AAAAAEBj7EAAAAAAAKHmQAAAAADQe\\u002fFAAAAAAIAF2kAAAAAAoHbsQAAAAAAghu5AAAAAAGAq60AAAAAAwFXgQAAAAADAo91AAAAAAAAQtkAAAAAAAEy9QAAAAAAgx+5AAAAAAED77EAAAAAAwOrQQAAAAAAAN\\u002fRAAAAAAEBv5EAAAAAAAHDiQAAAAAAwzPJAAAAAAICC4EAAAAAAABbiQAAAAAAAHqNAAAAAAOCd7EAAAAAAgOXvQAAAAAAg3uNAAAAAAEAn0kAAAAAA4A3qQAAAAAAAu+JAAAAAAKCo9EAAAAAAgHHFQAAAAACA2+JAAAAAAIDM40AAAAAAQMLmQAAAAAAQw\\u002fBAAAAAAKAd6EAAAAAAkHHwQAAAAACAKddAAAAAAKC35EAAAAAAgObnQAAAAACwiPNAAAAAAMAT1EAAAAAAgHrVQAAAAAAATL1AAAAAAFCE80AAAAAAAEy9QAAAAAAAYORAAAAAAGC28UAAAAAAwPnvQAAAAABwUvNAAAAAAMB54UAAAAAAYCn0QAAAAABQNPBAAAAAAAAd9EAAAAAA8CjxQAAAAACASNtAAAAAAEBS60AAAAAAEIDyQAAAAADQRfBAAAAAAOAv7kAAAAAAAIbwQAAAAACgQPFAAAAAAEAe2UAAAAAAgLbfQAAAAAAgiPVAAAAAAIDe8EAAAAAAYEbyQAAAAADwWvBAAAAAAODA70AAAAAA4JrtQAAAAAAAq9tAAAAAAMCm40AAAAAAMF\\u002fyQAAAAAAQg\\u002fJAAAAAAIC12UAAAAAAwF3rQAAAAAAAEN1AAAAAAACw2UAAAAAAwAHXQAAAAACA2+JAAAAAABDd80AAAAAAAMDcQAAAAABApeFAAAAAAICa6EAAAAAAkG7zQAAAAABAdOpAAAAAAECz5EAAAAAAgBLXQAAAAAAAZN1AAAAAAIBl50AAAAAAoEzpQAAAAAAQKvNAAAAAAMB86EAAAAAA4FnnQAAAAABA3+BAAAAAANDr9EAAAAAAYBPwQAAAAACwSfVAAAAAAIAE2EAAAAAAAPnnQAAAAACgl+lAAAAAAKDT4kAAAAAAIL71QAAAAAAg3\\u002fJAAAAAAOCh8EAAAAAAAPnrQAAAAABQAfVAAAAAAMB45UAAAAAAIMzoQAAAAADQKPZAAAAAAMDY4UAAAAAAQAjeQAAAAACAZ9VAAAAAACBo60AAAAAAQMvfQAAAAACADdNAAAAAAABE3kAAAAAAIOX4QAAAAAAAdPFAAAAAAHBv80AAAAAAgInqQAAAAAAA5PJAAAAAAMDC7kAAAAAAYPLtQAAAAACA7vFAAAAAAOBJ5EAAAAAAoMDuQAAAAAAApsJAAAAAAEB84EAAAAAAgILhQAAAAAAgB+JAAAAAALCr9kAAAAAAAMrvQAAAAADwBfVAAAAAAACw8EAAAAAAYHPkQAAAAAAgNO1AAAAAAEBl10AAAAAAYNLiQAAAAAAAbeFAAAAAAKA46EAAAAAAQPvsQAAAAAAwDfBAAAAAAACh5kAAAAAAALDgQAAAAABAyu1AAAAAAMDv8EAAAAAA4GXoQAAAAADgZO1AAAAAAOAJ60AAAAAA0JvzQAAAAADAzt1AAAAAAEAt8UAAAAAAAK\\u002fWQAAAAABQG\\u002fJAAAAAAEA75UAAAAAA4IruQAAAAACAjelAAAAAAHBY8EAAAAAAwHrZQAAAAAAAVuBAAAAAAIAL3EAAAAAA4KHoQAAAAAAgJOpAAAAAAEBt6UAAAAAAsKLzQAAAAADQd\\u002fRAAAAAAKD44kAAAAAAoLHiQAAAAAAQKvNAAAAAAEA46UAAAAAAALzPQAAAAAAwUfBAAAAAAEDD3UAAAAAAQJbbQAAAAADArdhAAAAAAMCL30AAAAAAwOztQAAAAABAFfJAAAAAAOBX5kAAAAAAgEzYQAAAAADQWfBAAAAAAAD74kAAAAAAgPnoQAAAAABAnt5AAAAAANAB8UAAAAAAMIzzQAAAAADgK\\u002fVAAAAAAMDg5kAAAAAAYOHwQAAAAAAgifJAAAAAAKAZ70AAAAAAAPH4QAAAAACg1+NAAAAAAIBy0kAAAAAAAOncQAAAAAAgyudAAAAAAEDf5UAAAAAAIH7vQAAAAAAgguZAAAAAAEAJ80AAAAAAIKvlQAAAAADAd+ZAAAAAAHBS8UAAAAAAYDzkQAAAAABgfOlAAAAAAOB09EAAAAAA4MDlQAAAAABA+PBAAAAAAIAS5kAAAAAAwLDxQAAAAABg8\\u002fJAAAAAAAAD3kAAAAAA4DHvQAAAAABgg+RAAAAAACAV6UAAAAAAICrpQAAAAACgg\\u002fNAAAAAAADC4EAAAAAAwBniQAAAAABwA\\u002fRAAAAAAMDX4kAAAAAAgFzNQAAAAAAgo+5AAAAAAACx1UAAAAAAQBvXQAAAAAAQefNAAAAAAABMvUAAAAAA8O7xQAAAAAAguO9AAAAAAABF1kAAAAAAcP3xQAAAAABA0u1AAAAAAIDx3kAAAAAAYJDzQAAAAAAwUfJAAAAAAKB98EAAAAAAANPvQAAAAAAAbt5AAAAAAIA83UAAAAAAQBL5QAAAAACA3tlAAAAAAGB78kAAAAAAwCzeQAAAAADA7e5AAAAAAKB05kAAAAAAQEPSQAAAAAAg5ONAAAAAAIDbzUAAAAAAoALxQAAAAADgj+VAAAAAAKBq4kAAAAAAAGDlQAAAAABgpOJAAAAAAMCP80AAAAAAIJriQAAAAADAzvFAAAAAAICN1UAAAAAAMOnwQAAAAAAAC99AAAAAACA67kAAAAAAwKDcQAAAAABATOBAAAAAAJAw8EAAAAAAQKXtQAAAAACgA\\u002fNAAAAAALAO8UAAAAAAICzvQAAAAAAA6NdAAAAAACAV6UAAAAAAAHDiQAAAAACABvBAAAAAAOCj5UAAAAAAwOndQAAAAADgYPJAAAAAAEDa6EAAAAAAoITzQAAAAAAAS+FAAAAAAICn30AAAAAAILviQAAAAAAQJPRAAAAAAIA80EAAAAAAAPrcQAAAAADgUetAAAAAAIBH4UAAAAAAQLLkQAAAAAAwwfBAAAAAAABH7EAAAAAAwDXhQAAAAACguOxAAAAAACCl5kAAAAAAYGjjQAAAAAAAatdAAAAAAGDD80AAAAAAgGfaQAAAAAAQ6fJAAAAAAIBM70AAAAAAwNXkQAAAAACAjchAAAAAAIAL1kAAAAAA0E7xQAAAAADAdupAAAAAAMAp3EAAAAAAILDjQAAAAABwPPBAAAAAAEAc3kAAAAAAYKPvQAAAAACgzuBAAAAAACD25kAAAAAAoGjvQAAAAAAAwuNAAAAAAGBd7kAAAAAAgADNQAAAAADAndpAAAAAAACU6kAAAAAAwEvdQAAAAAAAgtdAAAAAAICZ4EAAAAAA4DHwQAAAAABALeFAAAAAAIB+1UAAAAAAgF\\u002fuQAAAAADQevJAAAAAAMD03UAAAAAAsEP0QAAAAADwwvBAAAAAAGA45EAAAAAAgPXqQAAAAACA8+xAAAAAAICN2kAAAAAA8Cv0QAAAAACAoeVAAAAAADC29EAAAAAAAKndQAAAAACgM+BAAAAAAJBc8UAAAAAAAJHxQAAAAADwB\\u002fFAAAAAADCa8UAAAAAAAEztQAAAAABg3uJAAAAAACDG6EAAAAAA4LbwQAAAAAAgxu9AAAAAACDL5kAAAAAAoDHzQAAAAABgXe5AAAAAAIDG20AAAAAAoGriQAAAAADgIulAAAAAAGDC6kAAAAAAoGrzQAAAAADA395AAAAAAJCV8UAAAAAAwLDpQAAAAACAbOFAAAAAAECG50AAAAAAANvcQAAAAABAKO9AAAAAAEDW4kAAAAAAQILmQAAAAABADtZAAAAAAMCR3UAAAAAAoDfwQAAAAACAGd5AAAAAAKBl4EAAAAAAgITTQAAAAABAx9pAAAAAAABt4UAAAAAA4KXhQAAAAACAAsRAAAAAAGBi5UAAAAAAoPLuQAAAAADg9OJAAAAAAABt9EAAAAAAwAv2QAAAAABghO5AAAAAAFAj8kAAAAAAgOjoQAAAAACQR\\u002fFAAAAAAKDE8EAAAAAAAGblQAAAAACA+M1AAAAAAIDk1kAAAAAAgFnMQAAAAADAqN5AAAAAAMBg8kAAAAAAoLDkQAAAAADAyt1AAAAAACAc60AAAAAAwHDnQAAAAABAk9pAAAAAAAAR8EAAAAAAwKPdQAAAAACgoOhAAAAAAAAQ10AAAAAAQEzqQAAAAAAQOvBAAAAAAGDp5kAAAAAAAFTyQAAAAACQhfJAAAAAAEBT00AAAAAAYJDzQAAAAACQO\\u002fZAAAAAACAs6EAAAAAAIEPiQAAAAAAAZN1AAAAAAAAP0kAAAAAAgCn0QAAAAAAwtvZAAAAAAMDF50AAAAAA4K72QAAAAACQavJAAAAAAABSxEAAAAAAQPDtQAAAAAAQuPRAAAAAAGCy5EAAAAAA0G7wQAAAAABAXvJAAAAAAMBP3UAAAAAA4N\\u002foQAAAAACAbPBAAAAAACAp6UAAAAAAwELfQAAAAAAATL1AAAAAAMAE3EAAAAAA4HPrQAAAAAAArdFAAAAAAMCR3UAAAAAAgKjTQAAAAADAv9ZAAAAAAEDP5EAAAAAA4NXzQAAAAADAdtdAAAAAAGAz60AAAAAA4EzsQAAAAACAu+tAAAAAAMCw4UAAAAAA0ErxQAAAAABwHPBAAAAAAIAJ40AAAAAAQN71QAAAAADgm+RAAAAAAICP6EAAAAAAgEbwQAAAAACglu1AAAAAAFAh8UAAAAAAAKvoQAAAAADAj\\u002fNAAAAAAOAz4EAAAAAAYEHwQAAAAADQX\\u002fJAAAAAAAAi30AAAAAAwEPqQAAAAACgDuhAAAAAAAAC7kAAAAAAwEPiQAAAAAAgzetAAAAAAODB4kAAAAAAgAnUQAAAAADghO5AAAAAAIBV5EAAAAAAQETrQAAAAABAR+5AAAAAAIAU5EAAAAAAIAbjQAAAAAAAcOJAAAAAAEB630AAAAAAIAblQAAAAADwTPRAAAAAAJA+80AAAAAAAMrvQAAAAACgV+1AAAAAAIBuy0AAAAAAQMrbQAAAAACARvNAAAAAAMCc5kAAAAAAUI7yQAAAAACAeOxAAAAAAMAn60AAAAAAAAXtQAAAAABgIetAAAAAACAz80AAAAAAcJTwQAAAAABg3+9AAAAAAMCQ2kAAAAAAQJnnQAAAAADAtddAAAAAAGBs70AAAAAA4N\\u002foQAAAAACgMupAAAAAABAI8EAAAAAAENTzQAAAAADgDuFAAAAAAEDo7UAAAAAAIF7jQAAAAAAAX+1AAAAAAADj50AAAAAAAML1QAAAAACAi+VAAAAAABDR80AAAAAAYMvhQAAAAADAe9lAAAAAAHBs8UAAAAAAgJPzQAAAAACA6d1AAAAAAODu8UAAAAAAYNjkQAAAAABwNvFAAAAAAEDy2EAAAAAAAA7gQAAAAABwAvNAAAAAACCW6EAAAAAA4DHuQAAAAABAAOhAAAAAAEBI50AAAAAAcL7xQAAAAABATOxAAAAAAIDk70AAAAAAwOXbQAAAAAAAH+dAAAAAAGDw5UAAAAAAYMvyQAAAAADg8+tAAAAAAABo1kAAAAAAwLjYQAAAAADATuVAAAAAAMDa5EAAAAAAkIz0QAAAAABAZepAAAAAAMAa2EAAAAAAQOf0QAAAAABAXedAAAAAAIAO00AAAAAAwIXaQAAAAACAT+NAAAAAAID41EAAAAAAAIvtQAAAAADA5NVAAAAAACDy80AAAAAAwDjlQAAAAAAAzOpAAAAAAECC80AAAAAAgOnNQAAAAACwbfVAAAAAAOAh4EAAAAAA0PTzQAAAAACwdPFAAAAAAECA7kAAAAAA4NPnQAAAAACgd+lAAAAAAFBA8EAAAAAAgJzcQAAAAABgSedAAAAAAACn4kAAAAAAoPflQAAAAABgxeJAAAAAACDY4kAAAAAAoHPvQAAAAADgC+JAAAAAAIBF7kAAAAAA4ArpQAAAAAAA5slAAAAAAAAu50AAAAAAYKnqQAAAAADgEuZAAAAAACDe40AAAAAAoFnnQAAAAACAztpAAAAAAKBD40AAAAAAgDjaQAAAAACAe\\u002fNAAAAAAEAs7kAAAAAA4EzqQAAAAABAp9dAAAAAAIBg40AAAAAAMID2QAAAAACgD\\u002fFAAAAAAEAz4EAAAAAAoEjtQAAAAADADNFAAAAAAIBZ10AAAAAAIJfkQAAAAAAAnNlAAAAAAEBc3kAAAAAAQGDdQAAAAADgqu5AAAAAAKDM8UAAAAAAYAPuQAAAAABAOuhAAAAAAABg1UAAAAAAoLfkQAAAAACAidlAAAAAAEAU3kAAAAAAANHzQAAAAABAP9pAAAAAAMD55UAAAAAAgIjSQAAAAACAC9ZAAAAAAACO50AAAAAAoGHmQAAAAADgeeFAAAAAAEBy6kAAAAAAgM7dQAAAAAAAl+pAAAAAAADk3kAAAAAAoKbxQAAAAADgDeJAAAAAALC78UAAAAAAAJzKQAAAAABAjvRAAAAAALBT8UAAAAAA4NbgQAAAAABAGNxAAAAAAMDd8EAAAAAAAPrvQAAAAABAgO5AAAAAAIB230AAAAAA0Hz0QAAAAADAguZAAAAAAOCl9EAAAAAAoG7rQAAAAAAA0u5AAAAAALD98UAAAAAAoPLuQAAAAADAlvJAAAAAAGCx7kAAAAAAQGrmQAAAAAAA9PJAAAAAAOCv5kAAAAAA8L\\u002f5QAAAAABA\\u002fupAAAAAAGA380AAAAAAYFTwQAAAAACQHfhAAAAAAMBr3EAAAAAAUHfwQAAAAAAAt+hAAAAAAOAi6EAAAAAAwOvtQAAAAACA3tlAAAAAADDW8UAAAAAAwNHmQAAAAACgd+tAAAAAAICE00AAAAAAQHvsQAAAAABAW9lAAAAAAICizEAAAAAAgEDSQAAAAACAAeZAAAAAAMCR1EAAAAAAwIDcQAAAAABAtOpAAAAAAAD17EAAAAAA4O3sQAAAAACwSvBAAAAAAJDi8kAAAAAAwLDpQAAAAADAH9pAAAAAAEDZ80AAAAAAECzxQAAAAAAgpuFAAAAAAODh70AAAAAAYKHwQAAAAABwyPBAAAAAAOAJ5EAAAAAAQATjQAAAAAAQD\\u002fBAAAAAAMA68EAAAAAAkDT1QAAAAABQAfNAAAAAAED28EAAAAAAYLboQAAAAAAg4+1AAAAAAGCp5EAAAAAAAI7JQAAAAABAOudAAAAAAGA87kAAAAAAAAHhQAAAAACA5dlAAAAAAEBu5kAAAAAAQCjzQAAAAABQQ\\u002fNAAAAAADBw8UAAAAAA4FbxQAAAAABwCPZAAAAAAOAu5EAAAAAAAJHxQAAAAABAbOFAAAAAACAW5UAAAAAAcDTwQAAAAABALeFAAAAAAACp2EAAAAAAQPrqQAAAAAAgPOBAAAAAAMCD7EAAAAAAAIzoQAAAAACgtPJAAAAAAJBQ9UAAAAAAwD7ZQAAAAADAquxAAAAAAAAN5kAAAAAAYEPyQAAAAADg3OxAAAAAAACL0kAAAAAA4J\\u002fxQAAAAAAATL1AAAAAAEDf5UAAAAAAsKDzQAAAAABAUPJAAAAAAEDQ60AAAAAAMPL1QAAAAABAjeFAAAAAACAr6kAAAAAAUDTwQAAAAAAAAuZAAAAAAODl9UAAAAAAkJXxQAAAAACAdvBAAAAAABA58UAAAAAAwBPRQAAAAABAtO5AAAAAAIBN70AAAAAAoA\\u002fhQAAAAADgz+dAAAAAAMDl4kAAAAAAABP0QAAAAABAePRAAAAAAMCa0EAAAAAAsF\\u002fxQAAAAAAgdOBAAAAAAIAJ70AAAAAAMF\\u002f0QAAAAADAJ+lAAAAAAEB77EAAAAAAgMPzQAAAAAAwb\\u002fJAAAAAAOAt70AAAAAAgGHuQAAAAAAAkuxAAAAAAMDa40AAAAAAoPXiQAAAAABgWOFAAAAAAKBS80AAAAAA0BzzQAAAAACA4t5AAAAAAHBX8kAAAAAAwMrnQAAAAACQTvJAAAAAAGB28EAAAAAAYOXmQAAAAABATe5AAAAAAPCX8UAAAAAAsEXzQAAAAAAA3ORAAAAAAMBq4EAAAAAAALO6QAAAAACAPeRAAAAAAADn40AAAAAAoCDyQAAAAACA9uhAAAAAACCk8UAAAAAAoHLxQAAAAABgt+FAAAAAAMAa1EAAAAAAwMDdQAAAAACA2d5AAAAAAEDy00AAAAAAAL7QQAAAAACAyORAAAAAAOBg5UAAAAAAgOnjQAAAAADgr+5AAAAAABAG9EAAAAAAQGvQQAAAAABgCOlAAAAAAIC35kAAAAAA4A\\u002fmQAAAAABQMfFAAAAAACBg7UAAAAAAYAzyQAAAAABA4NJAAAAAAAA27kAAAAAAAPHmQAAAAADAAuFAAAAAAMAx9EAAAAAAAIjnQAAAAAAgQuhAAAAAAEDC60AAAAAAYPzqQAAAAABAIu1AAAAAAICz8UAAAAAAAD7aQAAAAADA29RAAAAAACDd8UAAAAAAwMHpQAAAAADAavZAAAAAAAAb8EAAAAAAAA3eQAAAAADA+tVAAAAAAFAJ8EAAAAAAADPZQAAAAADAp\\u002fJAAAAAAMCL1UAAAAAAYODrQAAAAADA5NVAAAAAALBt9UAAAAAAECHzQAAAAADAzfZAAAAAAGB84kAAAAAAMMbzQAAAAABAJNBAAAAAAIAO60AAAAAAoNLnQAAAAADgn+tAAAAAAICK2EAAAAAAIE7hQAAAAADwbfFAAAAAAMAq6EAAAAAAYPLzQAAAAAAgaOZAAAAAAICm60AAAAAAQJ3gQAAAAAAgjuNAAAAAAACw4EAAAAAAwPbSQAAAAACAJPRAAAAAAFDT80AAAAAAQBbuQAAAAACA\\u002fupAAAAAAIBn6EAAAAAAAHDNQAAAAADAAehAAAAAAIDl70AAAAAAsBr0QAAAAADAHt5AAAAAAMCk5kAAAAAAQIftQAAAAAAA1uJAAAAAAKAH60AAAAAAwG\\u002fiQAAAAADg7PRAAAAAAACv1kAAAAAAQMflQAAAAAAATL1AAAAAAGDj4kAAAAAAQC3oQAAAAABARuxAAAAAAAA45UAAAAAAQAfTQAAAAACA9ulAAAAAAEDU3UAAAAAAsB7xQAAAAABAfu5AAAAAAMAq1UAAAAAAYLPkQAAAAABA9O1AAAAAAMC680AAAAAAYOrkQAAAAABAfuNAAAAAAIAZ9UAAAAAAQLfQQAAAAACALthAAAAAAKB64UAAAAAAYOLhQAAAAADg9OhAAAAAAJA09UAAAAAAgAn0QAAAAADgkuZAAAAAAGCg5EAAAAAAYP\\u002foQAAAAADAn\\u002fBAAAAAAIAR30AAAAAAwBfpQAAAAABgtfJAAAAAAAA92kAAAAAAgObnQAAAAACA++pAAAAAAEBL70AAAAAAsB\\u002fzQAAAAADgG+JAAAAAAIBV1UAAAAAAgNrzQAAAAAAgb+pAAAAAAJBQ8EAAAAAAgOHrQAAAAACgxOxAAAAAAADF9EAAAAAA0Bn1QAAAAACATuZAAAAAACBi50AAAAAAIGzmQAAAAABAJfNAAAAAAKBW8kAAAAAAwIbpQAAAAAAgZ+FAAAAAAJBS90AAAAAAgKzuQAAAAACQ2fFAAAAAAJCM9EAAAAAA4M3kQAAAAADQOPJAAAAAAOB35kAAAAAAIKrxQAAAAABAduNAAAAAAKDU4EAAAAAAkEX0QAAAAABA1NdAAAAAAPDw8kAAAAAAQBjyQAAAAABQI\\u002fJAAAAAANCy8EAAAAAAAHHzQAAAAABgg+ZAAAAAAMC270AAAAAAwNjYQAAAAABwV\\u002fJAAAAAAIAP4EAAAAAAQIfxQAAAAAAAffBAAAAAAOD46kAAAAAAQJHtQAAAAADgp+9AAAAAAGBg60AAAAAAkAb0QAAAAAAAC\\u002fdAAAAAAAAdzUAAAAAAYC3pQAAAAAAgSuxAAAAAACCr8EAAAAAAYGvjQAAAAABQk\\u002fBAAAAAAIBE20AAAAAAwHvpQAAAAABgguVAAAAAAODh5EAAAAAAQIPmQAAAAADAh9BAAAAAAEAt7UAAAAAAgDjqQAAAAAAg1OxAAAAAAKB76kAAAAAAcD\\u002fxQAAAAACgrulAAAAAAKAH5EAAAAAAIKXjQAAAAADggOhAAAAAACC86kAAAAAAsLH2QAAAAADgV+BAAAAAAIDk4EAAAAAAQH3lQAAAAACwj\\u002fRAAAAAAEDg40AAAAAAALLOQAAAAACA1exAAAAAANCr80AAAAAAMHD0QAAAAAAAKfRAAAAAAEDQ60AAAAAAAG\\u002fhQAAAAADg7elAAAAAAGDX5kAAAAAAAP2yQAAAAADAVuBAAAAAAKAZ70AAAAAAsLfzQAAAAAAA6e9AAAAAAKAP9EAAAAAA8H7yQAAAAACQdPNAAAAAAIBB4UAAAAAAMOv0QAAAAAAATdhAAAAAAKCE5EAAAAAAIHjvQAAAAABgie9AAAAAAAAB4UAAAAAA0GryQAAAAADAetlAAAAAAKDN6UAAAAAAwIDmQAAAAADADPNAAAAAABA890AAAAAAIILrQAAAAACA6NVAAAAAAEAI4kAAAAAAQKThQAAAAAAQAvBAAAAAAEB49EAAAAAAgA7TQAAAAAAA8OFAAAAAAADw8kAAAAAAYAToQAAAAAAAdt1AAAAAAKCg4EAAAAAAgKbiQAAAAACAAu1AAAAAAMBQ8UAAAAAAoHLqQAAAAAAAi99AAAAAAAC100AAAAAAIBLhQAAAAAAAxttAAAAAAAB\\u002f70AAAAAAgGPgQAAAAABA8NBAAAAAAACA60AAAAAAwPnbQAAAAAAAX81AAAAAAEBr30AAAAAAwK3wQAAAAACgMvJAAAAAAEBj9kAAAAAAcMXwQAAAAAAAVN5AAAAAAJBu80AAAAAAwGnbQAAAAADAOuJAAAAAAOCq5kAAAAAAwCDiQAAAAADgSudAAAAAAIDf7UAAAAAAwArjQAAAAAAAXL9AAAAAABCT8kAAAAAAAPXgQAAAAAAAMuBAAAAAACBm4EAAAAAA0M7yQAAAAACAL+FAAAAAACC+5UAAAAAAwFDxQAAAAAAAF9xAAAAAAKDe8EAAAAAAwFnZQAAAAAAAd9pAAAAAAEA88UAAAAAAoMfkQAAAAAAACOpAAAAAAECi8UAAAAAAUIHwQAAAAACgr+5AAAAAAIDV70AAAAAAAILkQAAAAACAguFAAAAAAMD+70AAAAAAAHfQQAAAAACAZPRAAAAAAABW70AAAAAAAMjVQAAAAADwXPBAAAAAAIAP4EAAAAAAkEPxQAAAAACgQu1AAAAAAEBl40AAAAAAQMLmQAAAAACwkfVAAAAAADBI9UAAAAAAwEbaQAAAAADAa+hAAAAAAMAG5EAAAAAAYC\\u002fwQAAAAABg7eFAAAAAAABm80AAAAAA4MPjQAAAAAAQZfJAAAAAACB76kAAAAAAwJjXQAAAAADAnvRAAAAAAABg5UAAAAAAsIDxQAAAAABA9fRAAAAAAMAi40AAAAAAcGzxQAAAAABA1uJAAAAAAIDy60AAAAAAIDDuQAAAAACwe\\u002fNAAAAAAODA80AAAAAAgPHaQAAAAADguOtAAAAAAFB39EAAAAAAQHjqQAAAAACAzeJAAAAAAGD46UAAAAAAwFHdQAAAAADQkPJAAAAAAMDW6EAAAAAAgOnNQAAAAADg9u9AAAAAAAA78EAAAAAAUL7yQAAAAAAg8vNAAAAAAECY6kAAAAAAkB34QAAAAACAxs9AAAAAALCI8UAAAAAAIGTgQAAAAADAtOFAAAAAAIAa1kAAAAAAIPbmQAAAAABgOvFAAAAAAEDd3kAAAAAAQGjpQAAAAADAsedAAAAAAMDR5kAAAAAAAFDjQAAAAABgFfVAAAAAAGDq5kAAAAAAQDHQQAAAAADAP+9AAAAAAFBz8EAAAAAAgFLZQAAAAACg2ORAAAAAAGDm9EAAAAAAcMzxQAAAAACgQOhAAAAAAED14UAAAAAAAOz0QAAAAACAccVAAAAAAMBB6EAAAAAAIGjrQAAAAABgJOJAAAAAAIDI1EAAAAAAYFHgQAAAAACg5u5AAAAAAMDB1EAAAAAAQJbkQAAAAABAlupAAAAAAAAy7EAAAAAAAPTZQAAAAAAgFexAAAAAAOCi8EAAAAAAAEy9QAAAAACQTPRAAAAAAKB26kAAAAAAwIzWQAAAAAAgfOZAAAAAAGCx60AAAAAAIGPzQAAAAAAA++tAAAAAAOCq5UAAAAAAQJbqQAAAAABAGe1AAAAAANCy80AAAAAAALPjQAAAAADAnu5AAAAAACDr50AAAAAAQD\\u002fhQAAAAABg1fJAAAAAAJDv80AAAAAAgCrMQAAAAACAqNNAAAAAAGAe8kAAAAAAYErwQAAAAAAAK9dAAAAAACAf50AAAAAAgFTgQAAAAABAjupAAAAAAIDX20AAAAAA4CD2QAAAAADAeOdAAAAAAIAQ5UAAAAAA4NXqQAAAAAAAaM1AAAAAAIBS2kAAAAAAwM3VQAAAAAAgreVAAAAAAABG7kAAAAAAQMLeQAAAAADAaOZAAAAAADAv80AAAAAAkHLwQAAAAAAghOxAAAAAAGBs7kAAAAAAIE\\u002flQAAAAAAgLO9AAAAAAGDl5kAAAAAAsBzxQAAAAACwD\\u002fNAAAAAAADm7EAAAAAAIMPqQAAAAAAgYOxAAAAAAIAa6UAAAAAAgNvNQAAAAADARPBAAAAAAKDi6EAAAAAAoKj0QAAAAADA69FAAAAAAGDA40AAAAAAoLvhQAAAAACgnORAAAAAAEAN8EAAAAAAQM\\u002fyQAAAAABgSvJAAAAAACCy60AAAAAAAJbkQAAAAADgDu5AAAAAAKBr4EAAAAAAoMTwQAAAAAAgyeBAAAAAAAB2wUAAAAAAAJ3ZQAAAAAAQ3\\u002fJAAAAAAGCi40AAAAAAwFPgQAAAAACAUfJAAAAAAIDs7UAAAAAAgP3VQAAAAABAuepAAAAAAIDG4kAAAAAAoLDlQAAAAACgpuJAAAAAAECA5EAAAAAAwMLbQAAAAABgQuJAAAAAAECa70AAAAAAIPrqQAAAAACguvRAAAAAAMAE3EAAAAAAoJblQAAAAADAGtlAAAAAAMDW7EAAAAAAALXyQAAAAAAAHfBAAAAAAMAI20AAAAAAAAibQAAAAAAATL1AAAAAACDJ40AAAAAAwPLTQAAAAABAyu9AAAAAABAV8UAAAAAAkHbwQAAAAABg\\u002fPJAAAAAAMA98kAAAAAAYKHwQAAAAADA7upAAAAAAIC\\u002f7kAAAAAA4BzyQAAAAACAN+NAAAAAANC28kAAAAAAgILhQAAAAADwI\\u002fZAAAAAAKDu8UAAAAAAgLfeQAAAAABgBOdAAAAAAFB39EAAAAAAQBDqQAAAAAAAMtNAAAAAAGBB5kAAAAAA0N70QAAAAACAUutAAAAAAOBX70AAAAAAAPPiQAAAAADg6+tAAAAAAAAx10AAAAAA8C\\u002fwQAAAAAAAP+JAAAAAAADs40AAAAAAcIrxQAAAAACgiOZAAAAAAPA180AAAAAAwPvnQAAAAAAgYOJAAAAAAOBq40AAAAAAQF3aQAAAAABAmOBAAAAAAGDg60AAAAAA4N3mQAAAAADwTPRAAAAAAGCm6UAAAAAAgMfOQAAAAAAARdZAAAAAAEAF5UAAAAAAoP7kQAAAAADA4udAAAAAACBQ7UAAAAAAYJ\\u002fgQAAAAABgOuxAAAAAAJAu80AAAAAAAEy9QAAAAAAAC\\u002fdAAAAAAACb1kAAAAAAYJ3lQAAAAACgfPFAAAAAAMC77UAAAAAAAIPoQAAAAACwyfNAAAAAACDS70AAAAAAgDvtQAAAAADwCfBAAAAAACCr70AAAAAA4ArmQAAAAABQQ\\u002fJAAAAAAIDW7EAAAAAAgJnaQAAAAAAg9OZAAAAAAMCB5kAAAAAAILDjQAAAAABgLuJAAAAAADD780AAAAAAgMzmQAAAAABg5PJAAAAAAMBx4kAAAAAAQPbRQAAAAADAx\\u002fFAAAAAAMAh2EAAAAAA4DfmQAAAAAAAoLlAAAAAAEB78UAAAAAAAJvaQAAAAAAAzudAAAAAAKBw8UAAAAAAoC32QAAAAAAQgvVAAAAAAIBd6UAAAAAA0IrxQAAAAACAhOFAAAAAACCO40AAAAAAgF3jQAAAAADgeehAAAAAAOAf5UAAAAAAoK\\u002fuQAAAAABAfNJAAAAAAMDL10AAAAAAIDzgQAAAAADAQdpAAAAAAMB86EAAAAAAoE3uQAAAAAAA7PRAAAAAAOCv8kAAAAAAMDfxQAAAAADAzNFAAAAAADDh8EAAAAAAUN\\u002fwQAAAAACw\\u002f\\u002fBAAAAAAACf4kAAAAAA4FnuQAAAAABws\\u002fNAAAAAAIBE4EAAAAAAQJfsQAAAAAAA2tBAAAAAAEDl6UAAAAAAYH3pQAAAAAAgGu1AAAAAACBZ8kAAAAAAIPbmQAAAAABgiuJAAAAAAOAu5EAAAAAAMGzwQAAAAABA\\u002f+tAAAAAAGCr6EAAAAAA4HnhQAAAAABgtuhAAAAAAEB260AAAAAAAOHnQAAAAABgdutAAAAAAMDa1EAAAAAAgAnsQAAAAADApuZAAAAAAMCI6kAAAAAAwGfUQAAAAACAi\\u002fZAAAAAAMBG2kAAAAAAgPTlQAAAAAAwb\\u002fJAAAAAACBA6kAAAAAAgCbWQAAAAADg\\u002fOJAAAAAAEBX5EAAAAAAwBfdQAAAAABgNe9AAAAAAICH40AAAAAAwCHaQAAAAAAgLO9AAAAAAODr6EAAAAAAAJDtQAAAAABQCfBAAAAAAIBq4kAAAAAAAADiQAAAAADgu+VAAAAAAGAK4kAAAAAAAB\\u002fnQAAAAADwYPBAAAAAAKDa60AAAAAAoAviQAAAAADQ8PBAAAAAAGCQ80AAAAAAwBDlQAAAAADQrPNAAAAAAIDN4EAAAAAAIBjsQAAAAACAGtZAAAAAAGAO6UAAAAAAQJfhQAAAAADAD9hAAAAAAEDi4EAAAAAAgArwQAAAAABAKO9AAAAAAIBu6kAAAAAAgEDSQAAAAAAAgdtAAAAAAIDk4EAAAAAAoCDlQAAAAACg6uJAAAAAAMAo30AAAAAAAHfaQAAAAADAbt5AAAAAAFCX9kAAAAAAoAThQAAAAADAS\\u002fFAAAAAAIBb3kAAAAAAAJDtQAAAAADAAtRAAAAAAGDD5EAAAAAAQH7jQAAAAABAT+BAAAAAAADH4UAAAAAAQCPVQAAAAACwJfNAAAAAABAu9EAAAAAAgFTpQAAAAACQDfNAAAAAAIDO6UAAAAAAYBnxQAAAAACQ8fBAAAAAAKB85kAAAAAA8OHyQAAAAABACvJAAAAAAACu40AAAAAAwPXfQAAAAABwxfBAAAAAAIAk5UAAAAAAgKzZQAAAAADg5fZAAAAAAEDB4kAAAAAAQKzvQAAAAACgTOxAAAAAAOB35kAAAAAAwCTQQAAAAAAAattAAAAAAIAo6EAAAAAAoMToQAAAAABAePRAAAAAACAX5EAAAAAAsHXwQAAAAACAntZAAAAAAIDJ4EAAAAAAAPLgQAAAAABwKfdAAAAAAIDP70AAAAAAQHvjQAAAAAAgq+9AAAAAAIA+7UAAAAAAgAfkQAAAAAAA3utAAAAAAECH7UAAAAAA4KruQAAAAACA9dJAAAAAAMCo0kAAAAAAwG3yQAAAAACwLvFAAAAAALBj80AAAAAAwEHvQAAAAABgzPJAAAAAAMBX6EAAAAAAIJXtQAAAAAAg7+RAAAAAAPBn9UAAAAAAYEHsQAAAAACgduFAAAAAAID670AAAAAAABfgQAAAAADAD+pAAAAAAKCB8UAAAAAAcLjwQAAAAACgAOpAAAAAAMBu3kAAAAAAwIPkQAAAAACAa+pAAAAAAGBA6EAAAAAAwNzuQAAAAAAA5utAAAAAAIDW5kAAAAAAMEXzQAAAAAAgW+pAAAAAALCP9EAAAAAAQILmQAAAAAAg9PFAAAAAAJBq80AAAAAAQH3UQAAAAADARulAAAAAAOA560AAAAAA4CHgQAAAAABgc+JAAAAAAICa2kAAAAAAQEn1QAAAAACgEvFAAAAAACBo4kAAAAAAIEPiQAAAAAAAXKtAAAAAAKCc7EAAAAAAAAf0QAAAAADAbdtAAAAAAEAR8kAAAAAAAEfTQAAAAACA2etAAAAAAGDr6UAAAAAAMOrwQAAAAABAguZAAAAAAMDI1kAAAAAAwMjWQAAAAACAE8JAAAAAAKCM8EAAAAAAEJLxQAAAAABg7OxAAAAAAAAu30AAAAAAEEjyQAAAAACwEfBAAAAAAGAa6UAAAAAA4GHpQAAAAABAsuRAAAAAAICt3UAAAAAAwEHeQAAAAAAQH\\u002fBAAAAAAIA04kAAAAAAQBfsQAAAAAAAwPJAAAAAAOA470AAAAAAEJPyQAAAAABQd\\u002fBAAAAAAMAX4kAAAAAA4AjnQAAAAADAHN9AAAAAAMCT2kAAAAAAMCLxQAAAAABAfuNAAAAAACBC6EAAAAAAQBHYQAAAAACQf\\u002fNAAAAAAECk5UAAAAAAwGrnQAAAAACAPO9AAAAAADBj8kAAAAAAoBvrQAAAAAAwYfJAAAAAAAA39EAAAAAAwArjQAAAAADgIPZAAAAAAECG2kAAAAAAwIPkQAAAAAAgp+JAAAAAAGAS5kAAAAAAYOrzQAAAAADgDuFAAAAAAECI7UAAAAAAIOngQAAAAADQEPNAAAAAAMAh9EAAAAAA4GnmQAAAAAAQ3fNAAAAAAICC4UAAAAAAQL\\u002fjQAAAAABABe5AAAAAAAAT4UAAAAAAIIHyQAAAAABAwt5AAAAAAMAh8kAAAAAAAM7KQAAAAADgCuZAAAAAACCr6UAAAAAAAKbnQAAAAAAAvtBAAAAAAICh4UAAAAAA0KnyQAAAAADg5uFAAAAAAGBK6kAAAAAAIAf2QAAAAADgPvFAAAAAAAC85UAAAAAAAHvaQAAAAAAAZ+pAAAAAAPCK8UAAAAAAQAbpQAAAAAAAgu1AAAAAAMD+70AAAAAA8MLwQAAAAACANMhAAAAAAKB\\u002f70AAAAAAYJTgQAAAAABAnt5AAAAAAEAR60AAAAAAwLHbQAAAAACA4etAAAAAADDh8EAAAAAAoN3pQAAAAACgQOlAAAAAAEBa0kAAAAAAgEbwQAAAAAAAvehAAAAAAMCR6kAAAAAAoKLqQAAAAADgAOdAAAAAAGAF5EAAAAAAAP3SQAAAAACgueFAAAAAADDW8UAAAAAAYN3kQAAAAADAzulAAAAAAMA91kAAAAAAIMvmQAAAAACgNe1AAAAAAEBq6EAAAAAAsAfxQAAAAADAheVAAAAAAADY3UAAAAAAgIrhQAAAAACAUe9AAAAAAECI60AAAAAAgATYQAAAAADgf\\u002fJAAAAAAIAn40AAAAAAwI\\u002fsQAAAAACAp+xAAAAAAADm60AAAAAA4JzrQAAAAAAA7NVAAAAAAOAF9EAAAAAAoLTgQAAAAACAw9hAAAAAAABb4UAAAAAAQOPhQAAAAADAme5AAAAAAMCT6EAAAAAAIJjxQAAAAAAgxehAAAAAAIAM4UAAAAAAgK\\u002fvQAAAAABASuVAAAAAAICZ4EAAAAAAIEDkQAAAAADA4e5AAAAAAIDv4UAAAAAAwN3wQAAAAABg\\u002fPJAAAAAACCF4kAAAAAAICX1QAAAAADQkPNAAAAAALC78UAAAAAAgNnwQAAAAABAuNNAAAAAAEDt2kAAAAAAAPvOQAAAAAAAMehAAAAAAIA54EAAAAAAgDLxQAAAAAAAq+JAAAAAAIAG1kAAAAAAAPzWQAAAAACgIOhAAAAAAOCe5EAAAAAAUDzzQAAAAADAmutAAAAAAMB97EAAAAAAENTzQAAAAABA+OdAAAAAAGAr7kAAAAAAQL7RQAAAAAAAxNdAAAAAAIDL0UAAAAAA4G\\u002fuQAAAAAAghuRAAAAAAEAj9UAAAAAAoDvkQAAAAACQ\\u002fvFAAAAAAADR7UAAAAAAgMbiQAAAAACA7dFAAAAAAIDc6kAAAAAAAP3CQAAAAADgo+JAAAAAAACk7EAAAAAAoHLpQAAAAACgpe9AAAAAAMB56kAAAAAAgGP0QAAAAAAA7fJAAAAAAEAY5EAAAAAA4KDzQAAAAACATtJAAAAAAIAv4UAAAAAAwGjtQAAAAAAAl9VAAAAAAACt5UAAAAAAABDrQAAAAAAARtFAAAAAALCU9kAAAAAAEAr2QAAAAACwKPRAAAAAACDO4kAAAAAAQEPQQAAAAABAy+RAAAAAAED61kAAAAAAEEjyQAAAAAAwXPFAAAAAAMDn5kAAAAAAgEDSQAAAAACAL+JAAAAAALAf9EAAAAAA4GTyQAAAAADAGfFAAAAAAKBS80AAAAAA0OfyQAAAAAAA2epAAAAAAGC05EAAAAAAIDrrQAAAAACANeJAAAAAAABB5kAAAAAAECvxQAAAAADAXOxAAAAAADD480AAAAAAQLnbQAAAAAAwUfBAAAAAANAQ8UAAAAAAgJ7zQAAAAADA7e5AAAAAAKD35UAAAAAAwBzfQAAAAAAgLulAAAAAAACp3UAAAAAAAEfPQAAAAAAAFORAAAAAAGBq40AAAAAAoOjiQAAAAADQCfNAAAAAACC37kAAAAAAgG7KQAAAAAAgC+1AAAAAAFCb8UAAAAAAwHDVQAAAAACwY\\u002fBAAAAAAED44UAAAAAA0IrxQAAAAABAlttAAAAAAABY50AAAAAAQOnYQAAAAACA6OhAAAAAAEA88UAAAAAAcNv0QAAAAAAA1eRAAAAAAEDL5EAAAAAAABDdQAAAAABAS9xAAAAAAGBB40AAAAAAQOvvQAAAAACAuNNAAAAAACC95EAAAAAAwInvQAAAAAAAZPFAAAAAAADl4EAAAAAAAOfmQAAAAADA+OdAAAAAAGCd4UAAAAAA4LTtQAAAAAAg3\\u002fJAAAAAAECd4EAAAAAAwOLnQAAAAACgDPRAAAAAACBo4kAAAAAAQKPgQAAAAAAA2ttAAAAAAOCI7kAAAAAAILbhQAAAAACA9e5AAAAAAOB\\u002f8kAAAAAAACXzQAAAAABge\\u002fJAAAAAACD\\u002f7EAAAAAAwBniQAAAAAAg0uVAAAAAACBb6kAAAAAAAOi7QAAAAABAQ9JAAAAAABAQ9kAAAAAA4NbuQAAAAADAb+JAAAAAAKDU5kAAAAAAYHfzQAAAAADg3O5AAAAAAHCY8UAAAAAAAFTVQAAAAADAmuxAAAAAAKCl8UAAAAAAYJroQAAAAADA0d9AAAAAAACN7kAAAAAAYMvlQAAAAACAROBAAAAAAOA770AAAAAAIKTpQAAAAABAs9hAAAAAAOBr6kAAAAAAoCPzQAAAAAAwtvNAAAAAAEAj1kAAAAAAAI3cQAAAAADg7eVAAAAAAKC06kAAAAAAQIfnQAAAAAAgw+pAAAAAAIBN5EAAAAAAAJ3zQAAAAADgT+dAAAAAAIC\\u002f7kAAAAAAoP7rQAAAAABAjt9AAAAAAJC99EAAAAAAwG\\u002faQAAAAABAo\\u002fBAAAAAAHAM8EAAAAAAQDP1QAAAAAAAbq9AAAAAAEBj3UAAAAAAIC3sQAAAAAAAbNhAAAAAAJBT9EAAAAAAAMLVQAAAAADwnfFAAAAAAIBg70AAAAAA0DL0QAAAAAAgI\\u002fJAAAAAACBt7EAAAAAAAIjUQAAAAABAHvFAAAAAAMBe6kAAAAAAcNzwQAAAAAAAXMZAAAAAACAw7kAAAAAAYE7xQAAAAABQ3\\u002fBAAAAAAABm7UAAAAAAIA\\u002fgQAAAAABA9uBAAAAAAIDS3UAAAAAAYBn0QAAAAACABNpAAAAAAMAS8UAAAAAA4LrlQAAAAAAAZe1AAAAAAMA86EAAAAAAgEXXQAAAAABgI+BAAAAAAJDM8UAAAAAAYATxQAAAAADAKfFAAAAAADA\\u002f8UAAAAAAAK\\u002fdQAAAAAAAt+hAAAAAAICm7kAAAAAAgJbdQAAAAACgl+lAAAAAAGCP5UAAAAAAMDz1QAAAAABAr\\u002fJAAAAAACCM5EAAAAAAoH3wQAAAAABAlvVAAAAAAIBt3kAAAAAA4BzuQAAAAABwBfFAAAAAAAAB6EAAAAAAgEzYQAAAAABQM\\u002fZAAAAAAGDE+0AAAAAAgPPsQAAAAADgV+ZAAAAAAACh1UAAAAAAMOvxQAAAAADAHt1AAAAAAABP5kAAAAAAgKzuQAAAAABgie1AAAAAAGA64EAAAAAAoG7hQAAAAADAy95AAAAAAMCY9kAAAAAAgHPwQAAAAADQq\\u002fNAAAAAAOAC80AAAAAAwIbpQAAAAABg4utAAAAAAEB80kAAAAAAwJjhQAAAAAAAtdNAAAAAAMC24EAAAAAAgCHfQAAAAABAUfFAAAAAABBH9kAAAAAA4PHyQAAAAABgxfNAAAAAAEAr1kAAAAAAgPXqQAAAAACQPfFAAAAAACCq70AAAAAAwJzuQAAAAACgO+5AAAAAAAB58EAAAAAAwJDUQAAAAADA2dxAAAAAAPCH8kAAAAAAABXhQAAAAADA2upAAAAAAICK6kAAAAAAQLjgQAAAAACA0NhAAAAAAMDo8UAAAAAAAKjbQAAAAADANNdAAAAAAKC38UAAAAAAINzgQAAAAACASPFAAAAAAGDd7kAAAAAAMHv0QAAAAAAgnOFAAAAAAEB740AAAAAAoPjoQAAAAABgzetAAAAAAIC+80AAAAAA8KjxQAAAAADALO5AAAAAAKDC8kAAAAAAgMncQAAAAADA8uZAAAAAALCk90AAAAAA4JzrQAAAAABQGvFAAAAAAGB\\u002f8UAAAAAA4KjlQAAAAADg9uNAAAAAAKDd50AAAAAAUC\\u002fyQAAAAABAe+9AAAAAAKDa8kAAAAAAMLzxQAAAAACg7vRAAAAAAMAw60AAAAAAwBLjQAAAAAAA5eBAAAAAAEDr40AAAAAAQLTqQAAAAAAATLFAAAAAAADe30AAAAAAgKviQAAAAACg9eFAAAAAAECm3kAAAAAAgP7XQAAAAABA6dhAAAAAACAb90AAAAAAwKLsQAAAAAAg+ulAAAAAAIB61UAAAAAAIOPrQAAAAACgFelAAAAAAEDt1kAAAAAAgGDsQAAAAACA0PFAAAAAAOBt40AAAAAAAGT2QAAAAACAEPdAAAAAAAC0ykAAAAAAMJL3QAAAAABQVvNAAAAAAOCd60AAAAAAAOHfQAAAAAAge\\u002fBAAAAAAICj10AAAAAAAMHbQAAAAADAcNZAAAAAAOA\\u002f4EAAAAAA4KrmQAAAAAAAqN1AAAAAAIAY70AAAAAAwFTkQAAAAABQzPBAAAAAAGAR8EAAAAAAwJHxQAAAAABAHeNAAAAAAMCm90AAAAAAoNHgQAAAAACQq\\u002fBAAAAAAIA04kAAAAAAwPbhQAAAAADASdtAAAAAAMC91UAAAAAAQI3dQAAAAADA6ttAAAAAAOBk5UAAAAAAYIjnQAAAAAAwzvJAAAAAAKBp8UAAAAAAQP\\u002ffQAAAAAAA+txAAAAAAAC61kAAAAAAAF\\u002foQAAAAAAATL1AAAAAAFCh8EAAAAAAkGnwQAAAAABAPNFAAAAAAEBN60AAAAAAYI\\u002fjQAAAAAAgve1AAAAAACBk8kAAAAAAIKLtQAAAAAAA4+JAAAAAAAD97UAAAAAA4EzoQAAAAACQVPRAAAAAAEBU3EAAAAAAIADmQAAAAADAI+JAAAAAAIAB5UAAAAAAQPTpQAAAAACA4+9AAAAAADCr8kAAAAAAQMnzQAAAAADgDOBAAAAAACA\\u002f60AAAAAAAKLyQAAAAADgB+JAAAAAAEDT50AAAAAAgO3WQAAAAACAXfFAAAAAADAi8UAAAAAAwAjtQAAAAAAgu+JAAAAAAGAZ8UAAAAAAQMfkQAAAAABQd\\u002fBAAAAAAGBe8EAAAAAAAJrkQAAAAACg8vJAAAAAAEAE30AAAAAAwMXgQAAAAADgp+pAAAAAAKCL8UAAAAAAQLPYQAAAAAAAguRAAAAAAAD58EAAAAAAIJnvQAAAAABAPNtAAAAAAMCa1UAAAAAAwCbbQAAAAABgOOlAAAAAAHC48EAAAAAAgLvrQAAAAACAPfVAAAAAAPB880AAAAAAABveQAAAAACgp+BAAAAAAOAO6kAAAAAAgN3VQAAAAACgafFAAAAAAMBY80AAAAAAAF\\u002foQAAAAABgx+dAAAAAAACR80AAAAAAgH3qQAAAAACQAPRAAAAAAECS8kAAAAAAgPrpQAAAAABwlPBAAAAAAADmzEAAAAAAABPzQAAAAAAAtstAAAAAAEDy00AAAAAAwKLsQAAAAABw0PFAAAAAAMCC50AAAAAAwBn0QAAAAABgdOxAAAAAACDz5UAAAAAAYOPgQAAAAABAAeVAAAAAAABV5kAAAAAAwDrwQAAAAABAFdtAAAAAANAK8UAAAAAAkKHxQAAAAACANtlAAAAAAKBQ4kAAAAAAAJbYQAAAAABASOVAAAAAAMD96UAAAAAAgHjoQAAAAACguvRAAAAAAMDs7UAAAAAA0Bn0QAAAAACA2O9AAAAAAMBm4EAAAAAAAETeQAAAAABQp\\u002fFAAAAAAIBCz0AAAAAA4PnvQAAAAACAqOxAAAAAAMDR40AAAAAAwBrUQAAAAACgle5AAAAAAMC+3EAAAAAAgOTSQAAAAACAeeFAAAAAAKAQ4kAAAAAAwPzWQAAAAACg5u9AAAAAADAq80AAAAAAAAndQAAAAABgJ+RAAAAAAIAD70AAAAAAIOLkQAAAAACANOhAAAAAAJDl8EAAAAAAAL\\u002fQQAAAAADA0eNAAAAAAADY3UAAAAAAgGTfQAAAAAAgXuRAAAAAAACw4EAAAAAAQI7sQAAAAADAJO1AAAAAAAC87UAAAAAAQMLuQAAAAAAAG+dAAAAAALBG8kAAAAAAgMrNQAAAAAAA0t5AAAAAAHCY8UAAAAAAQEL2QAAAAAAA+fVAAAAAAOB95EAAAAAA8OjwQAAAAACgCvBAAAAAAMDA7UAAAAAA0JHxQAAAAABA1+9AAAAAAGBU80AAAAAAQN7zQAAAAAAApudAAAAAAEDW6UAAAAAAQATjQAAAAADAdNlAAAAAAKCk5UAAAAAAYMPkQAAAAADA3dlAAAAAACD+6UAAAAAAQIjwQAAAAACgnPJAAAAAAFCJ9EAAAAAA4PnvQAAAAAAAothAAAAAAADh9UAAAAAAYPLjQAAAAABA09pAAAAAALAa9EAAAAAAsATyQAAAAAAAOsFAAAAAAEAn5UAAAAAAICXrQAAAAACgqOhAAAAAAKAb4kAAAAAAgJzPQAAAAABgMOxAAAAAAACm50AAAAAA8ATyQAAAAABAfNJAAAAAAKCG4UAAAAAAwMrtQAAAAAAAZN9AAAAAAAAjzUAAAAAAQAvmQAAAAAAgZeRAAAAAAFCQ9UAAAAAAwJTiQAAAAACQrvNAAAAAAAC5tEAAAAAA4PjhQAAAAADAwttAAAAAAAAH9EAAAAAAwD3WQAAAAACglONAAAAAACBV7EAAAAAAEIDyQAAAAAAATL1AAAAAAEBj4EAAAAAAQCXsQAAAAABAl+xAAAAAACAk70AAAAAA4E3sQAAAAACA3NdAAAAAAACCxUAAAAAAQODlQAAAAAAAMNpAAAAAAKDO4EAAAAAA4OTtQAAAAADAQe9AAAAAAKDS60AAAAAA0OfwQAAAAACg0OlA\"},\"xaxis\":\"x\",\"yaxis\":\"y\",\"type\":\"histogram\"}],                        {\"template\":{\"data\":{\"histogram2dcontour\":[{\"type\":\"histogram2dcontour\",\"colorbar\":{\"outlinewidth\":0,\"ticks\":\"\"},\"colorscale\":[[0.0,\"#0d0887\"],[0.1111111111111111,\"#46039f\"],[0.2222222222222222,\"#7201a8\"],[0.3333333333333333,\"#9c179e\"],[0.4444444444444444,\"#bd3786\"],[0.5555555555555556,\"#d8576b\"],[0.6666666666666666,\"#ed7953\"],[0.7777777777777778,\"#fb9f3a\"],[0.8888888888888888,\"#fdca26\"],[1.0,\"#f0f921\"]]}],\"choropleth\":[{\"type\":\"choropleth\",\"colorbar\":{\"outlinewidth\":0,\"ticks\":\"\"}}],\"histogram2d\":[{\"type\":\"histogram2d\",\"colorbar\":{\"outlinewidth\":0,\"ticks\":\"\"},\"colorscale\":[[0.0,\"#0d0887\"],[0.1111111111111111,\"#46039f\"],[0.2222222222222222,\"#7201a8\"],[0.3333333333333333,\"#9c179e\"],[0.4444444444444444,\"#bd3786\"],[0.5555555555555556,\"#d8576b\"],[0.6666666666666666,\"#ed7953\"],[0.7777777777777778,\"#fb9f3a\"],[0.8888888888888888,\"#fdca26\"],[1.0,\"#f0f921\"]]}],\"heatmap\":[{\"type\":\"heatmap\",\"colorbar\":{\"outlinewidth\":0,\"ticks\":\"\"},\"colorscale\":[[0.0,\"#0d0887\"],[0.1111111111111111,\"#46039f\"],[0.2222222222222222,\"#7201a8\"],[0.3333333333333333,\"#9c179e\"],[0.4444444444444444,\"#bd3786\"],[0.5555555555555556,\"#d8576b\"],[0.6666666666666666,\"#ed7953\"],[0.7777777777777778,\"#fb9f3a\"],[0.8888888888888888,\"#fdca26\"],[1.0,\"#f0f921\"]]}],\"contourcarpet\":[{\"type\":\"contourcarpet\",\"colorbar\":{\"outlinewidth\":0,\"ticks\":\"\"}}],\"contour\":[{\"type\":\"contour\",\"colorbar\":{\"outlinewidth\":0,\"ticks\":\"\"},\"colorscale\":[[0.0,\"#0d0887\"],[0.1111111111111111,\"#46039f\"],[0.2222222222222222,\"#7201a8\"],[0.3333333333333333,\"#9c179e\"],[0.4444444444444444,\"#bd3786\"],[0.5555555555555556,\"#d8576b\"],[0.6666666666666666,\"#ed7953\"],[0.7777777777777778,\"#fb9f3a\"],[0.8888888888888888,\"#fdca26\"],[1.0,\"#f0f921\"]]}],\"surface\":[{\"type\":\"surface\",\"colorbar\":{\"outlinewidth\":0,\"ticks\":\"\"},\"colorscale\":[[0.0,\"#0d0887\"],[0.1111111111111111,\"#46039f\"],[0.2222222222222222,\"#7201a8\"],[0.3333333333333333,\"#9c179e\"],[0.4444444444444444,\"#bd3786\"],[0.5555555555555556,\"#d8576b\"],[0.6666666666666666,\"#ed7953\"],[0.7777777777777778,\"#fb9f3a\"],[0.8888888888888888,\"#fdca26\"],[1.0,\"#f0f921\"]]}],\"mesh3d\":[{\"type\":\"mesh3d\",\"colorbar\":{\"outlinewidth\":0,\"ticks\":\"\"}}],\"scatter\":[{\"fillpattern\":{\"fillmode\":\"overlay\",\"size\":10,\"solidity\":0.2},\"type\":\"scatter\"}],\"parcoords\":[{\"type\":\"parcoords\",\"line\":{\"colorbar\":{\"outlinewidth\":0,\"ticks\":\"\"}}}],\"scatterpolargl\":[{\"type\":\"scatterpolargl\",\"marker\":{\"colorbar\":{\"outlinewidth\":0,\"ticks\":\"\"}}}],\"bar\":[{\"error_x\":{\"color\":\"#2a3f5f\"},\"error_y\":{\"color\":\"#2a3f5f\"},\"marker\":{\"line\":{\"color\":\"#E5ECF6\",\"width\":0.5},\"pattern\":{\"fillmode\":\"overlay\",\"size\":10,\"solidity\":0.2}},\"type\":\"bar\"}],\"scattergeo\":[{\"type\":\"scattergeo\",\"marker\":{\"colorbar\":{\"outlinewidth\":0,\"ticks\":\"\"}}}],\"scatterpolar\":[{\"type\":\"scatterpolar\",\"marker\":{\"colorbar\":{\"outlinewidth\":0,\"ticks\":\"\"}}}],\"histogram\":[{\"marker\":{\"pattern\":{\"fillmode\":\"overlay\",\"size\":10,\"solidity\":0.2}},\"type\":\"histogram\"}],\"scattergl\":[{\"type\":\"scattergl\",\"marker\":{\"colorbar\":{\"outlinewidth\":0,\"ticks\":\"\"}}}],\"scatter3d\":[{\"type\":\"scatter3d\",\"line\":{\"colorbar\":{\"outlinewidth\":0,\"ticks\":\"\"}},\"marker\":{\"colorbar\":{\"outlinewidth\":0,\"ticks\":\"\"}}}],\"scattermap\":[{\"type\":\"scattermap\",\"marker\":{\"colorbar\":{\"outlinewidth\":0,\"ticks\":\"\"}}}],\"scattermapbox\":[{\"type\":\"scattermapbox\",\"marker\":{\"colorbar\":{\"outlinewidth\":0,\"ticks\":\"\"}}}],\"scatterternary\":[{\"type\":\"scatterternary\",\"marker\":{\"colorbar\":{\"outlinewidth\":0,\"ticks\":\"\"}}}],\"scattercarpet\":[{\"type\":\"scattercarpet\",\"marker\":{\"colorbar\":{\"outlinewidth\":0,\"ticks\":\"\"}}}],\"carpet\":[{\"aaxis\":{\"endlinecolor\":\"#2a3f5f\",\"gridcolor\":\"white\",\"linecolor\":\"white\",\"minorgridcolor\":\"white\",\"startlinecolor\":\"#2a3f5f\"},\"baxis\":{\"endlinecolor\":\"#2a3f5f\",\"gridcolor\":\"white\",\"linecolor\":\"white\",\"minorgridcolor\":\"white\",\"startlinecolor\":\"#2a3f5f\"},\"type\":\"carpet\"}],\"table\":[{\"cells\":{\"fill\":{\"color\":\"#EBF0F8\"},\"line\":{\"color\":\"white\"}},\"header\":{\"fill\":{\"color\":\"#C8D4E3\"},\"line\":{\"color\":\"white\"}},\"type\":\"table\"}],\"barpolar\":[{\"marker\":{\"line\":{\"color\":\"#E5ECF6\",\"width\":0.5},\"pattern\":{\"fillmode\":\"overlay\",\"size\":10,\"solidity\":0.2}},\"type\":\"barpolar\"}],\"pie\":[{\"automargin\":true,\"type\":\"pie\"}]},\"layout\":{\"autotypenumbers\":\"strict\",\"colorway\":[\"#636efa\",\"#EF553B\",\"#00cc96\",\"#ab63fa\",\"#FFA15A\",\"#19d3f3\",\"#FF6692\",\"#B6E880\",\"#FF97FF\",\"#FECB52\"],\"font\":{\"color\":\"#2a3f5f\"},\"hovermode\":\"closest\",\"hoverlabel\":{\"align\":\"left\"},\"paper_bgcolor\":\"white\",\"plot_bgcolor\":\"#E5ECF6\",\"polar\":{\"bgcolor\":\"#E5ECF6\",\"angularaxis\":{\"gridcolor\":\"white\",\"linecolor\":\"white\",\"ticks\":\"\"},\"radialaxis\":{\"gridcolor\":\"white\",\"linecolor\":\"white\",\"ticks\":\"\"}},\"ternary\":{\"bgcolor\":\"#E5ECF6\",\"aaxis\":{\"gridcolor\":\"white\",\"linecolor\":\"white\",\"ticks\":\"\"},\"baxis\":{\"gridcolor\":\"white\",\"linecolor\":\"white\",\"ticks\":\"\"},\"caxis\":{\"gridcolor\":\"white\",\"linecolor\":\"white\",\"ticks\":\"\"}},\"coloraxis\":{\"colorbar\":{\"outlinewidth\":0,\"ticks\":\"\"}},\"colorscale\":{\"sequential\":[[0.0,\"#0d0887\"],[0.1111111111111111,\"#46039f\"],[0.2222222222222222,\"#7201a8\"],[0.3333333333333333,\"#9c179e\"],[0.4444444444444444,\"#bd3786\"],[0.5555555555555556,\"#d8576b\"],[0.6666666666666666,\"#ed7953\"],[0.7777777777777778,\"#fb9f3a\"],[0.8888888888888888,\"#fdca26\"],[1.0,\"#f0f921\"]],\"sequentialminus\":[[0.0,\"#0d0887\"],[0.1111111111111111,\"#46039f\"],[0.2222222222222222,\"#7201a8\"],[0.3333333333333333,\"#9c179e\"],[0.4444444444444444,\"#bd3786\"],[0.5555555555555556,\"#d8576b\"],[0.6666666666666666,\"#ed7953\"],[0.7777777777777778,\"#fb9f3a\"],[0.8888888888888888,\"#fdca26\"],[1.0,\"#f0f921\"]],\"diverging\":[[0,\"#8e0152\"],[0.1,\"#c51b7d\"],[0.2,\"#de77ae\"],[0.3,\"#f1b6da\"],[0.4,\"#fde0ef\"],[0.5,\"#f7f7f7\"],[0.6,\"#e6f5d0\"],[0.7,\"#b8e186\"],[0.8,\"#7fbc41\"],[0.9,\"#4d9221\"],[1,\"#276419\"]]},\"xaxis\":{\"gridcolor\":\"white\",\"linecolor\":\"white\",\"ticks\":\"\",\"title\":{\"standoff\":15},\"zerolinecolor\":\"white\",\"automargin\":true,\"zerolinewidth\":2},\"yaxis\":{\"gridcolor\":\"white\",\"linecolor\":\"white\",\"ticks\":\"\",\"title\":{\"standoff\":15},\"zerolinecolor\":\"white\",\"automargin\":true,\"zerolinewidth\":2},\"scene\":{\"xaxis\":{\"backgroundcolor\":\"#E5ECF6\",\"gridcolor\":\"white\",\"linecolor\":\"white\",\"showbackground\":true,\"ticks\":\"\",\"zerolinecolor\":\"white\",\"gridwidth\":2},\"yaxis\":{\"backgroundcolor\":\"#E5ECF6\",\"gridcolor\":\"white\",\"linecolor\":\"white\",\"showbackground\":true,\"ticks\":\"\",\"zerolinecolor\":\"white\",\"gridwidth\":2},\"zaxis\":{\"backgroundcolor\":\"#E5ECF6\",\"gridcolor\":\"white\",\"linecolor\":\"white\",\"showbackground\":true,\"ticks\":\"\",\"zerolinecolor\":\"white\",\"gridwidth\":2}},\"shapedefaults\":{\"line\":{\"color\":\"#2a3f5f\"}},\"annotationdefaults\":{\"arrowcolor\":\"#2a3f5f\",\"arrowhead\":0,\"arrowwidth\":1},\"geo\":{\"bgcolor\":\"white\",\"landcolor\":\"#E5ECF6\",\"subunitcolor\":\"white\",\"showland\":true,\"showlakes\":true,\"lakecolor\":\"white\"},\"title\":{\"x\":0.05},\"mapbox\":{\"style\":\"light\"}}},\"xaxis\":{\"anchor\":\"y\",\"domain\":[0.0,1.0],\"title\":{\"text\":\"Income\"}},\"yaxis\":{\"anchor\":\"x\",\"domain\":[0.0,1.0],\"title\":{\"text\":\"count\"}},\"legend\":{\"tracegroupgap\":0},\"title\":{\"text\":\"Distribui\\u00e7\\u00e3o de Renda\"},\"barmode\":\"relative\"},                        {\"responsive\": true}                    ).then(function(){\n",
       "                            \n",
       "var gd = document.getElementById('12288e8f-1da2-4a62-a145-474b382b9998');\n",
       "var x = new MutationObserver(function (mutations, observer) {{\n",
       "        var display = window.getComputedStyle(gd).display;\n",
       "        if (!display || display === 'none') {{\n",
       "            console.log([gd, 'removed!']);\n",
       "            Plotly.purge(gd);\n",
       "            observer.disconnect();\n",
       "        }}\n",
       "}});\n",
       "\n",
       "// Listen for the removal of the full notebook cells\n",
       "var notebookContainer = gd.closest('#notebook-container');\n",
       "if (notebookContainer) {{\n",
       "    x.observe(notebookContainer, {childList: true});\n",
       "}}\n",
       "\n",
       "// Listen for the clearing of the current output cell\n",
       "var outputEl = gd.closest('.output');\n",
       "if (outputEl) {{\n",
       "    x.observe(outputEl, {childList: true});\n",
       "}}\n",
       "\n",
       "                        })                };            </script>        </div>"
      ]
     },
     "metadata": {},
     "output_type": "display_data"
    }
   ],
   "source": [
    "import plotly.express as px\n",
    "\n",
    "fig = px.histogram(df, x=\"Income\", nbins=10, title=\"Distribuição de Renda\")\n",
    "\n",
    "fig.show()"
   ]
  },
  {
   "cell_type": "code",
   "execution_count": 26,
   "id": "7caebeb3",
   "metadata": {},
   "outputs": [
    {
     "data": {
      "text/plain": [
       "<Axes: ylabel='Income'>"
      ]
     },
     "execution_count": 26,
     "metadata": {},
     "output_type": "execute_result"
    },
    {
     "data": {
      "image/png": "[encoded data removed]",
      "text/plain": [
       "<Figure size 640x480 with 1 Axes>"
      ]
     },
     "metadata": {},
     "output_type": "display_data"
    }
   ],
   "source": [
    "# Boxplot - Na biblioteca PLOTLY\n",
    "sns.boxplot(df[\"Income\"])"
   ]
  },
  {
   "cell_type": "code",
   "execution_count": 27,
   "id": "5c0147b2",
   "metadata": {},
   "outputs": [
    {
     "data": {
      "text/html": [
       "<div>            <script src=\"https://cdnjs.cloudflare.com/ajax/libs/mathjax/2.7.5/MathJax.js?config=TeX-AMS-MML_SVG\"></script><script type=\"text/javascript\">if (window.MathJax && window.MathJax.Hub && window.MathJax.Hub.Config) {window.MathJax.Hub.Config({SVG: {font: \"STIX-Web\"}});}</script>                    <div id=\"8d640f61-b60c-4ae4-85ca-998b356e7c0d\" class=\"plotly-graph-div\" style=\"height:525px; width:100%;\"></div>            <script type=\"text/javascript\">                window.PLOTLYENV=window.PLOTLYENV || {};                                if (document.getElementById(\"8d640f61-b60c-4ae4-85ca-998b356e7c0d\")) {                    Plotly.newPlot(                        \"8d640f61-b60c-4ae4-85ca-998b356e7c0d\",                        [{\"alignmentgroup\":\"True\",\"hovertemplate\":\"Income=%{y}\\u003cextra\\u003e\\u003c\\u002fextra\\u003e\",\"legendgroup\":\"\",\"marker\":{\"color\":\"#636efa\"},\"name\":\"\",\"notched\":false,\"offsetgroup\":\"\",\"orientation\":\"v\",\"showlegend\":false,\"x0\":\" \",\"xaxis\":\"x\",\"y\":{\"dtype\":\"f8\",\"bdata\":\"AAAAAEBj7EAAAAAAAKHmQAAAAADQe\\u002fFAAAAAAIAF2kAAAAAAoHbsQAAAAAAghu5AAAAAAGAq60AAAAAAwFXgQAAAAADAo91AAAAAAAAQtkAAAAAAAEy9QAAAAAAgx+5AAAAAAED77EAAAAAAwOrQQAAAAAAAN\\u002fRAAAAAAEBv5EAAAAAAAHDiQAAAAAAwzPJAAAAAAICC4EAAAAAAABbiQAAAAAAAHqNAAAAAAOCd7EAAAAAAgOXvQAAAAAAg3uNAAAAAAEAn0kAAAAAA4A3qQAAAAAAAu+JAAAAAAKCo9EAAAAAAgHHFQAAAAACA2+JAAAAAAIDM40AAAAAAQMLmQAAAAAAQw\\u002fBAAAAAAKAd6EAAAAAAkHHwQAAAAACAKddAAAAAAKC35EAAAAAAgObnQAAAAACwiPNAAAAAAMAT1EAAAAAAgHrVQAAAAAAATL1AAAAAAFCE80AAAAAAAEy9QAAAAAAAYORAAAAAAGC28UAAAAAAwPnvQAAAAABwUvNAAAAAAMB54UAAAAAAYCn0QAAAAABQNPBAAAAAAAAd9EAAAAAA8CjxQAAAAACASNtAAAAAAEBS60AAAAAAEIDyQAAAAADQRfBAAAAAAOAv7kAAAAAAAIbwQAAAAACgQPFAAAAAAEAe2UAAAAAAgLbfQAAAAAAgiPVAAAAAAIDe8EAAAAAAYEbyQAAAAADwWvBAAAAAAODA70AAAAAA4JrtQAAAAAAAq9tAAAAAAMCm40AAAAAAMF\\u002fyQAAAAAAQg\\u002fJAAAAAAIC12UAAAAAAwF3rQAAAAAAAEN1AAAAAAACw2UAAAAAAwAHXQAAAAACA2+JAAAAAABDd80AAAAAAAMDcQAAAAABApeFAAAAAAICa6EAAAAAAkG7zQAAAAABAdOpAAAAAAECz5EAAAAAAgBLXQAAAAAAAZN1AAAAAAIBl50AAAAAAoEzpQAAAAAAQKvNAAAAAAMB86EAAAAAA4FnnQAAAAABA3+BAAAAAANDr9EAAAAAAYBPwQAAAAACwSfVAAAAAAIAE2EAAAAAAAPnnQAAAAACgl+lAAAAAAKDT4kAAAAAAIL71QAAAAAAg3\\u002fJAAAAAAOCh8EAAAAAAAPnrQAAAAABQAfVAAAAAAMB45UAAAAAAIMzoQAAAAADQKPZAAAAAAMDY4UAAAAAAQAjeQAAAAACAZ9VAAAAAACBo60AAAAAAQMvfQAAAAACADdNAAAAAAABE3kAAAAAAIOX4QAAAAAAAdPFAAAAAAHBv80AAAAAAgInqQAAAAAAA5PJAAAAAAMDC7kAAAAAAYPLtQAAAAACA7vFAAAAAAOBJ5EAAAAAAoMDuQAAAAAAApsJAAAAAAEB84EAAAAAAgILhQAAAAAAgB+JAAAAAALCr9kAAAAAAAMrvQAAAAADwBfVAAAAAAACw8EAAAAAAYHPkQAAAAAAgNO1AAAAAAEBl10AAAAAAYNLiQAAAAAAAbeFAAAAAAKA46EAAAAAAQPvsQAAAAAAwDfBAAAAAAACh5kAAAAAAALDgQAAAAABAyu1AAAAAAMDv8EAAAAAA4GXoQAAAAADgZO1AAAAAAOAJ60AAAAAA0JvzQAAAAADAzt1AAAAAAEAt8UAAAAAAAK\\u002fWQAAAAABQG\\u002fJAAAAAAEA75UAAAAAA4IruQAAAAACAjelAAAAAAHBY8EAAAAAAwHrZQAAAAAAAVuBAAAAAAIAL3EAAAAAA4KHoQAAAAAAgJOpAAAAAAEBt6UAAAAAAsKLzQAAAAADQd\\u002fRAAAAAAKD44kAAAAAAoLHiQAAAAAAQKvNAAAAAAEA46UAAAAAAALzPQAAAAAAwUfBAAAAAAEDD3UAAAAAAQJbbQAAAAADArdhAAAAAAMCL30AAAAAAwOztQAAAAABAFfJAAAAAAOBX5kAAAAAAgEzYQAAAAADQWfBAAAAAAAD74kAAAAAAgPnoQAAAAABAnt5AAAAAANAB8UAAAAAAMIzzQAAAAADgK\\u002fVAAAAAAMDg5kAAAAAAYOHwQAAAAAAgifJAAAAAAKAZ70AAAAAAAPH4QAAAAACg1+NAAAAAAIBy0kAAAAAAAOncQAAAAAAgyudAAAAAAEDf5UAAAAAAIH7vQAAAAAAgguZAAAAAAEAJ80AAAAAAIKvlQAAAAADAd+ZAAAAAAHBS8UAAAAAAYDzkQAAAAABgfOlAAAAAAOB09EAAAAAA4MDlQAAAAABA+PBAAAAAAIAS5kAAAAAAwLDxQAAAAABg8\\u002fJAAAAAAAAD3kAAAAAA4DHvQAAAAABgg+RAAAAAACAV6UAAAAAAICrpQAAAAACgg\\u002fNAAAAAAADC4EAAAAAAwBniQAAAAABwA\\u002fRAAAAAAMDX4kAAAAAAgFzNQAAAAAAgo+5AAAAAAACx1UAAAAAAQBvXQAAAAAAQefNAAAAAAABMvUAAAAAA8O7xQAAAAAAguO9AAAAAAABF1kAAAAAAcP3xQAAAAABA0u1AAAAAAIDx3kAAAAAAYJDzQAAAAAAwUfJAAAAAAKB98EAAAAAAANPvQAAAAAAAbt5AAAAAAIA83UAAAAAAQBL5QAAAAACA3tlAAAAAAGB78kAAAAAAwCzeQAAAAADA7e5AAAAAAKB05kAAAAAAQEPSQAAAAAAg5ONAAAAAAIDbzUAAAAAAoALxQAAAAADgj+VAAAAAAKBq4kAAAAAAAGDlQAAAAABgpOJAAAAAAMCP80AAAAAAIJriQAAAAADAzvFAAAAAAICN1UAAAAAAMOnwQAAAAAAAC99AAAAAACA67kAAAAAAwKDcQAAAAABATOBAAAAAAJAw8EAAAAAAQKXtQAAAAACgA\\u002fNAAAAAALAO8UAAAAAAICzvQAAAAAAA6NdAAAAAACAV6UAAAAAAAHDiQAAAAACABvBAAAAAAOCj5UAAAAAAwOndQAAAAADgYPJAAAAAAEDa6EAAAAAAoITzQAAAAAAAS+FAAAAAAICn30AAAAAAILviQAAAAAAQJPRAAAAAAIA80EAAAAAAAPrcQAAAAADgUetAAAAAAIBH4UAAAAAAQLLkQAAAAAAwwfBAAAAAAABH7EAAAAAAwDXhQAAAAACguOxAAAAAACCl5kAAAAAAYGjjQAAAAAAAatdAAAAAAGDD80AAAAAAgGfaQAAAAAAQ6fJAAAAAAIBM70AAAAAAwNXkQAAAAACAjchAAAAAAIAL1kAAAAAA0E7xQAAAAADAdupAAAAAAMAp3EAAAAAAILDjQAAAAABwPPBAAAAAAEAc3kAAAAAAYKPvQAAAAACgzuBAAAAAACD25kAAAAAAoGjvQAAAAAAAwuNAAAAAAGBd7kAAAAAAgADNQAAAAADAndpAAAAAAACU6kAAAAAAwEvdQAAAAAAAgtdAAAAAAICZ4EAAAAAA4DHwQAAAAABALeFAAAAAAIB+1UAAAAAAgF\\u002fuQAAAAADQevJAAAAAAMD03UAAAAAAsEP0QAAAAADwwvBAAAAAAGA45EAAAAAAgPXqQAAAAACA8+xAAAAAAICN2kAAAAAA8Cv0QAAAAACAoeVAAAAAADC29EAAAAAAAKndQAAAAACgM+BAAAAAAJBc8UAAAAAAAJHxQAAAAADwB\\u002fFAAAAAADCa8UAAAAAAAEztQAAAAABg3uJAAAAAACDG6EAAAAAA4LbwQAAAAAAgxu9AAAAAACDL5kAAAAAAoDHzQAAAAABgXe5AAAAAAIDG20AAAAAAoGriQAAAAADgIulAAAAAAGDC6kAAAAAAoGrzQAAAAADA395AAAAAAJCV8UAAAAAAwLDpQAAAAACAbOFAAAAAAECG50AAAAAAANvcQAAAAABAKO9AAAAAAEDW4kAAAAAAQILmQAAAAABADtZAAAAAAMCR3UAAAAAAoDfwQAAAAACAGd5AAAAAAKBl4EAAAAAAgITTQAAAAABAx9pAAAAAAABt4UAAAAAA4KXhQAAAAACAAsRAAAAAAGBi5UAAAAAAoPLuQAAAAADg9OJAAAAAAABt9EAAAAAAwAv2QAAAAABghO5AAAAAAFAj8kAAAAAAgOjoQAAAAACQR\\u002fFAAAAAAKDE8EAAAAAAAGblQAAAAACA+M1AAAAAAIDk1kAAAAAAgFnMQAAAAADAqN5AAAAAAMBg8kAAAAAAoLDkQAAAAADAyt1AAAAAACAc60AAAAAAwHDnQAAAAABAk9pAAAAAAAAR8EAAAAAAwKPdQAAAAACgoOhAAAAAAAAQ10AAAAAAQEzqQAAAAAAQOvBAAAAAAGDp5kAAAAAAAFTyQAAAAACQhfJAAAAAAEBT00AAAAAAYJDzQAAAAACQO\\u002fZAAAAAACAs6EAAAAAAIEPiQAAAAAAAZN1AAAAAAAAP0kAAAAAAgCn0QAAAAAAwtvZAAAAAAMDF50AAAAAA4K72QAAAAACQavJAAAAAAABSxEAAAAAAQPDtQAAAAAAQuPRAAAAAAGCy5EAAAAAA0G7wQAAAAABAXvJAAAAAAMBP3UAAAAAA4N\\u002foQAAAAACAbPBAAAAAACAp6UAAAAAAwELfQAAAAAAATL1AAAAAAMAE3EAAAAAA4HPrQAAAAAAArdFAAAAAAMCR3UAAAAAAgKjTQAAAAADAv9ZAAAAAAEDP5EAAAAAA4NXzQAAAAADAdtdAAAAAAGAz60AAAAAA4EzsQAAAAACAu+tAAAAAAMCw4UAAAAAA0ErxQAAAAABwHPBAAAAAAIAJ40AAAAAAQN71QAAAAADgm+RAAAAAAICP6EAAAAAAgEbwQAAAAACglu1AAAAAAFAh8UAAAAAAAKvoQAAAAADAj\\u002fNAAAAAAOAz4EAAAAAAYEHwQAAAAADQX\\u002fJAAAAAAAAi30AAAAAAwEPqQAAAAACgDuhAAAAAAAAC7kAAAAAAwEPiQAAAAAAgzetAAAAAAODB4kAAAAAAgAnUQAAAAADghO5AAAAAAIBV5EAAAAAAQETrQAAAAABAR+5AAAAAAIAU5EAAAAAAIAbjQAAAAAAAcOJAAAAAAEB630AAAAAAIAblQAAAAADwTPRAAAAAAJA+80AAAAAAAMrvQAAAAACgV+1AAAAAAIBuy0AAAAAAQMrbQAAAAACARvNAAAAAAMCc5kAAAAAAUI7yQAAAAACAeOxAAAAAAMAn60AAAAAAAAXtQAAAAABgIetAAAAAACAz80AAAAAAcJTwQAAAAABg3+9AAAAAAMCQ2kAAAAAAQJnnQAAAAADAtddAAAAAAGBs70AAAAAA4N\\u002foQAAAAACgMupAAAAAABAI8EAAAAAAENTzQAAAAADgDuFAAAAAAEDo7UAAAAAAIF7jQAAAAAAAX+1AAAAAAADj50AAAAAAAML1QAAAAACAi+VAAAAAABDR80AAAAAAYMvhQAAAAADAe9lAAAAAAHBs8UAAAAAAgJPzQAAAAACA6d1AAAAAAODu8UAAAAAAYNjkQAAAAABwNvFAAAAAAEDy2EAAAAAAAA7gQAAAAABwAvNAAAAAACCW6EAAAAAA4DHuQAAAAABAAOhAAAAAAEBI50AAAAAAcL7xQAAAAABATOxAAAAAAIDk70AAAAAAwOXbQAAAAAAAH+dAAAAAAGDw5UAAAAAAYMvyQAAAAADg8+tAAAAAAABo1kAAAAAAwLjYQAAAAADATuVAAAAAAMDa5EAAAAAAkIz0QAAAAABAZepAAAAAAMAa2EAAAAAAQOf0QAAAAABAXedAAAAAAIAO00AAAAAAwIXaQAAAAACAT+NAAAAAAID41EAAAAAAAIvtQAAAAADA5NVAAAAAACDy80AAAAAAwDjlQAAAAAAAzOpAAAAAAECC80AAAAAAgOnNQAAAAACwbfVAAAAAAOAh4EAAAAAA0PTzQAAAAACwdPFAAAAAAECA7kAAAAAA4NPnQAAAAACgd+lAAAAAAFBA8EAAAAAAgJzcQAAAAABgSedAAAAAAACn4kAAAAAAoPflQAAAAABgxeJAAAAAACDY4kAAAAAAoHPvQAAAAADgC+JAAAAAAIBF7kAAAAAA4ArpQAAAAAAA5slAAAAAAAAu50AAAAAAYKnqQAAAAADgEuZAAAAAACDe40AAAAAAoFnnQAAAAACAztpAAAAAAKBD40AAAAAAgDjaQAAAAACAe\\u002fNAAAAAAEAs7kAAAAAA4EzqQAAAAABAp9dAAAAAAIBg40AAAAAAMID2QAAAAACgD\\u002fFAAAAAAEAz4EAAAAAAoEjtQAAAAADADNFAAAAAAIBZ10AAAAAAIJfkQAAAAAAAnNlAAAAAAEBc3kAAAAAAQGDdQAAAAADgqu5AAAAAAKDM8UAAAAAAYAPuQAAAAABAOuhAAAAAAABg1UAAAAAAoLfkQAAAAACAidlAAAAAAEAU3kAAAAAAANHzQAAAAABAP9pAAAAAAMD55UAAAAAAgIjSQAAAAACAC9ZAAAAAAACO50AAAAAAoGHmQAAAAADgeeFAAAAAAEBy6kAAAAAAgM7dQAAAAAAAl+pAAAAAAADk3kAAAAAAoKbxQAAAAADgDeJAAAAAALC78UAAAAAAAJzKQAAAAABAjvRAAAAAALBT8UAAAAAA4NbgQAAAAABAGNxAAAAAAMDd8EAAAAAAAPrvQAAAAABAgO5AAAAAAIB230AAAAAA0Hz0QAAAAADAguZAAAAAAOCl9EAAAAAAoG7rQAAAAAAA0u5AAAAAALD98UAAAAAAoPLuQAAAAADAlvJAAAAAAGCx7kAAAAAAQGrmQAAAAAAA9PJAAAAAAOCv5kAAAAAA8L\\u002f5QAAAAABA\\u002fupAAAAAAGA380AAAAAAYFTwQAAAAACQHfhAAAAAAMBr3EAAAAAAUHfwQAAAAAAAt+hAAAAAAOAi6EAAAAAAwOvtQAAAAACA3tlAAAAAADDW8UAAAAAAwNHmQAAAAACgd+tAAAAAAICE00AAAAAAQHvsQAAAAABAW9lAAAAAAICizEAAAAAAgEDSQAAAAACAAeZAAAAAAMCR1EAAAAAAwIDcQAAAAABAtOpAAAAAAAD17EAAAAAA4O3sQAAAAACwSvBAAAAAAJDi8kAAAAAAwLDpQAAAAADAH9pAAAAAAEDZ80AAAAAAECzxQAAAAAAgpuFAAAAAAODh70AAAAAAYKHwQAAAAABwyPBAAAAAAOAJ5EAAAAAAQATjQAAAAAAQD\\u002fBAAAAAAMA68EAAAAAAkDT1QAAAAABQAfNAAAAAAED28EAAAAAAYLboQAAAAAAg4+1AAAAAAGCp5EAAAAAAAI7JQAAAAABAOudAAAAAAGA87kAAAAAAAAHhQAAAAACA5dlAAAAAAEBu5kAAAAAAQCjzQAAAAABQQ\\u002fNAAAAAADBw8UAAAAAA4FbxQAAAAABwCPZAAAAAAOAu5EAAAAAAAJHxQAAAAABAbOFAAAAAACAW5UAAAAAAcDTwQAAAAABALeFAAAAAAACp2EAAAAAAQPrqQAAAAAAgPOBAAAAAAMCD7EAAAAAAAIzoQAAAAACgtPJAAAAAAJBQ9UAAAAAAwD7ZQAAAAADAquxAAAAAAAAN5kAAAAAAYEPyQAAAAADg3OxAAAAAAACL0kAAAAAA4J\\u002fxQAAAAAAATL1AAAAAAEDf5UAAAAAAsKDzQAAAAABAUPJAAAAAAEDQ60AAAAAAMPL1QAAAAABAjeFAAAAAACAr6kAAAAAAUDTwQAAAAAAAAuZAAAAAAODl9UAAAAAAkJXxQAAAAACAdvBAAAAAABA58UAAAAAAwBPRQAAAAABAtO5AAAAAAIBN70AAAAAAoA\\u002fhQAAAAADgz+dAAAAAAMDl4kAAAAAAABP0QAAAAABAePRAAAAAAMCa0EAAAAAAsF\\u002fxQAAAAAAgdOBAAAAAAIAJ70AAAAAAMF\\u002f0QAAAAADAJ+lAAAAAAEB77EAAAAAAgMPzQAAAAAAwb\\u002fJAAAAAAOAt70AAAAAAgGHuQAAAAAAAkuxAAAAAAMDa40AAAAAAoPXiQAAAAABgWOFAAAAAAKBS80AAAAAA0BzzQAAAAACA4t5AAAAAAHBX8kAAAAAAwMrnQAAAAACQTvJAAAAAAGB28EAAAAAAYOXmQAAAAABATe5AAAAAAPCX8UAAAAAAsEXzQAAAAAAA3ORAAAAAAMBq4EAAAAAAALO6QAAAAACAPeRAAAAAAADn40AAAAAAoCDyQAAAAACA9uhAAAAAACCk8UAAAAAAoHLxQAAAAABgt+FAAAAAAMAa1EAAAAAAwMDdQAAAAACA2d5AAAAAAEDy00AAAAAAAL7QQAAAAACAyORAAAAAAOBg5UAAAAAAgOnjQAAAAADgr+5AAAAAABAG9EAAAAAAQGvQQAAAAABgCOlAAAAAAIC35kAAAAAA4A\\u002fmQAAAAABQMfFAAAAAACBg7UAAAAAAYAzyQAAAAABA4NJAAAAAAAA27kAAAAAAAPHmQAAAAADAAuFAAAAAAMAx9EAAAAAAAIjnQAAAAAAgQuhAAAAAAEDC60AAAAAAYPzqQAAAAABAIu1AAAAAAICz8UAAAAAAAD7aQAAAAADA29RAAAAAACDd8UAAAAAAwMHpQAAAAADAavZAAAAAAAAb8EAAAAAAAA3eQAAAAADA+tVAAAAAAFAJ8EAAAAAAADPZQAAAAADAp\\u002fJAAAAAAMCL1UAAAAAAYODrQAAAAADA5NVAAAAAALBt9UAAAAAAECHzQAAAAADAzfZAAAAAAGB84kAAAAAAMMbzQAAAAABAJNBAAAAAAIAO60AAAAAAoNLnQAAAAADgn+tAAAAAAICK2EAAAAAAIE7hQAAAAADwbfFAAAAAAMAq6EAAAAAAYPLzQAAAAAAgaOZAAAAAAICm60AAAAAAQJ3gQAAAAAAgjuNAAAAAAACw4EAAAAAAwPbSQAAAAACAJPRAAAAAAFDT80AAAAAAQBbuQAAAAACA\\u002fupAAAAAAIBn6EAAAAAAAHDNQAAAAADAAehAAAAAAIDl70AAAAAAsBr0QAAAAADAHt5AAAAAAMCk5kAAAAAAQIftQAAAAAAA1uJAAAAAAKAH60AAAAAAwG\\u002fiQAAAAADg7PRAAAAAAACv1kAAAAAAQMflQAAAAAAATL1AAAAAAGDj4kAAAAAAQC3oQAAAAABARuxAAAAAAAA45UAAAAAAQAfTQAAAAACA9ulAAAAAAEDU3UAAAAAAsB7xQAAAAABAfu5AAAAAAMAq1UAAAAAAYLPkQAAAAABA9O1AAAAAAMC680AAAAAAYOrkQAAAAABAfuNAAAAAAIAZ9UAAAAAAQLfQQAAAAACALthAAAAAAKB64UAAAAAAYOLhQAAAAADg9OhAAAAAAJA09UAAAAAAgAn0QAAAAADgkuZAAAAAAGCg5EAAAAAAYP\\u002foQAAAAADAn\\u002fBAAAAAAIAR30AAAAAAwBfpQAAAAABgtfJAAAAAAAA92kAAAAAAgObnQAAAAACA++pAAAAAAEBL70AAAAAAsB\\u002fzQAAAAADgG+JAAAAAAIBV1UAAAAAAgNrzQAAAAAAgb+pAAAAAAJBQ8EAAAAAAgOHrQAAAAACgxOxAAAAAAADF9EAAAAAA0Bn1QAAAAACATuZAAAAAACBi50AAAAAAIGzmQAAAAABAJfNAAAAAAKBW8kAAAAAAwIbpQAAAAAAgZ+FAAAAAAJBS90AAAAAAgKzuQAAAAACQ2fFAAAAAAJCM9EAAAAAA4M3kQAAAAADQOPJAAAAAAOB35kAAAAAAIKrxQAAAAABAduNAAAAAAKDU4EAAAAAAkEX0QAAAAABA1NdAAAAAAPDw8kAAAAAAQBjyQAAAAABQI\\u002fJAAAAAANCy8EAAAAAAAHHzQAAAAABgg+ZAAAAAAMC270AAAAAAwNjYQAAAAABwV\\u002fJAAAAAAIAP4EAAAAAAQIfxQAAAAAAAffBAAAAAAOD46kAAAAAAQJHtQAAAAADgp+9AAAAAAGBg60AAAAAAkAb0QAAAAAAAC\\u002fdAAAAAAAAdzUAAAAAAYC3pQAAAAAAgSuxAAAAAACCr8EAAAAAAYGvjQAAAAABQk\\u002fBAAAAAAIBE20AAAAAAwHvpQAAAAABgguVAAAAAAODh5EAAAAAAQIPmQAAAAADAh9BAAAAAAEAt7UAAAAAAgDjqQAAAAAAg1OxAAAAAAKB76kAAAAAAcD\\u002fxQAAAAACgrulAAAAAAKAH5EAAAAAAIKXjQAAAAADggOhAAAAAACC86kAAAAAAsLH2QAAAAADgV+BAAAAAAIDk4EAAAAAAQH3lQAAAAACwj\\u002fRAAAAAAEDg40AAAAAAALLOQAAAAACA1exAAAAAANCr80AAAAAAMHD0QAAAAAAAKfRAAAAAAEDQ60AAAAAAAG\\u002fhQAAAAADg7elAAAAAAGDX5kAAAAAAAP2yQAAAAADAVuBAAAAAAKAZ70AAAAAAsLfzQAAAAAAA6e9AAAAAAKAP9EAAAAAA8H7yQAAAAACQdPNAAAAAAIBB4UAAAAAAMOv0QAAAAAAATdhAAAAAAKCE5EAAAAAAIHjvQAAAAABgie9AAAAAAAAB4UAAAAAA0GryQAAAAADAetlAAAAAAKDN6UAAAAAAwIDmQAAAAADADPNAAAAAABA890AAAAAAIILrQAAAAACA6NVAAAAAAEAI4kAAAAAAQKThQAAAAAAQAvBAAAAAAEB49EAAAAAAgA7TQAAAAAAA8OFAAAAAAADw8kAAAAAAYAToQAAAAAAAdt1AAAAAAKCg4EAAAAAAgKbiQAAAAACAAu1AAAAAAMBQ8UAAAAAAoHLqQAAAAAAAi99AAAAAAAC100AAAAAAIBLhQAAAAAAAxttAAAAAAAB\\u002f70AAAAAAgGPgQAAAAABA8NBAAAAAAACA60AAAAAAwPnbQAAAAAAAX81AAAAAAEBr30AAAAAAwK3wQAAAAACgMvJAAAAAAEBj9kAAAAAAcMXwQAAAAAAAVN5AAAAAAJBu80AAAAAAwGnbQAAAAADAOuJAAAAAAOCq5kAAAAAAwCDiQAAAAADgSudAAAAAAIDf7UAAAAAAwArjQAAAAAAAXL9AAAAAABCT8kAAAAAAAPXgQAAAAAAAMuBAAAAAACBm4EAAAAAA0M7yQAAAAACAL+FAAAAAACC+5UAAAAAAwFDxQAAAAAAAF9xAAAAAAKDe8EAAAAAAwFnZQAAAAAAAd9pAAAAAAEA88UAAAAAAoMfkQAAAAAAACOpAAAAAAECi8UAAAAAAUIHwQAAAAACgr+5AAAAAAIDV70AAAAAAAILkQAAAAACAguFAAAAAAMD+70AAAAAAAHfQQAAAAACAZPRAAAAAAABW70AAAAAAAMjVQAAAAADwXPBAAAAAAIAP4EAAAAAAkEPxQAAAAACgQu1AAAAAAEBl40AAAAAAQMLmQAAAAACwkfVAAAAAADBI9UAAAAAAwEbaQAAAAADAa+hAAAAAAMAG5EAAAAAAYC\\u002fwQAAAAABg7eFAAAAAAABm80AAAAAA4MPjQAAAAAAQZfJAAAAAACB76kAAAAAAwJjXQAAAAADAnvRAAAAAAABg5UAAAAAAsIDxQAAAAABA9fRAAAAAAMAi40AAAAAAcGzxQAAAAABA1uJAAAAAAIDy60AAAAAAIDDuQAAAAACwe\\u002fNAAAAAAODA80AAAAAAgPHaQAAAAADguOtAAAAAAFB39EAAAAAAQHjqQAAAAACAzeJAAAAAAGD46UAAAAAAwFHdQAAAAADQkPJAAAAAAMDW6EAAAAAAgOnNQAAAAADg9u9AAAAAAAA78EAAAAAAUL7yQAAAAAAg8vNAAAAAAECY6kAAAAAAkB34QAAAAACAxs9AAAAAALCI8UAAAAAAIGTgQAAAAADAtOFAAAAAAIAa1kAAAAAAIPbmQAAAAABgOvFAAAAAAEDd3kAAAAAAQGjpQAAAAADAsedAAAAAAMDR5kAAAAAAAFDjQAAAAABgFfVAAAAAAGDq5kAAAAAAQDHQQAAAAADAP+9AAAAAAFBz8EAAAAAAgFLZQAAAAACg2ORAAAAAAGDm9EAAAAAAcMzxQAAAAACgQOhAAAAAAED14UAAAAAAAOz0QAAAAACAccVAAAAAAMBB6EAAAAAAIGjrQAAAAABgJOJAAAAAAIDI1EAAAAAAYFHgQAAAAACg5u5AAAAAAMDB1EAAAAAAQJbkQAAAAABAlupAAAAAAAAy7EAAAAAAAPTZQAAAAAAgFexAAAAAAOCi8EAAAAAAAEy9QAAAAACQTPRAAAAAAKB26kAAAAAAwIzWQAAAAAAgfOZAAAAAAGCx60AAAAAAIGPzQAAAAAAA++tAAAAAAOCq5UAAAAAAQJbqQAAAAABAGe1AAAAAANCy80AAAAAAALPjQAAAAADAnu5AAAAAACDr50AAAAAAQD\\u002fhQAAAAABg1fJAAAAAAJDv80AAAAAAgCrMQAAAAACAqNNAAAAAAGAe8kAAAAAAYErwQAAAAAAAK9dAAAAAACAf50AAAAAAgFTgQAAAAABAjupAAAAAAIDX20AAAAAA4CD2QAAAAADAeOdAAAAAAIAQ5UAAAAAA4NXqQAAAAAAAaM1AAAAAAIBS2kAAAAAAwM3VQAAAAAAgreVAAAAAAABG7kAAAAAAQMLeQAAAAADAaOZAAAAAADAv80AAAAAAkHLwQAAAAAAghOxAAAAAAGBs7kAAAAAAIE\\u002flQAAAAAAgLO9AAAAAAGDl5kAAAAAAsBzxQAAAAACwD\\u002fNAAAAAAADm7EAAAAAAIMPqQAAAAAAgYOxAAAAAAIAa6UAAAAAAgNvNQAAAAADARPBAAAAAAKDi6EAAAAAAoKj0QAAAAADA69FAAAAAAGDA40AAAAAAoLvhQAAAAACgnORAAAAAAEAN8EAAAAAAQM\\u002fyQAAAAABgSvJAAAAAACCy60AAAAAAAJbkQAAAAADgDu5AAAAAAKBr4EAAAAAAoMTwQAAAAAAgyeBAAAAAAAB2wUAAAAAAAJ3ZQAAAAAAQ3\\u002fJAAAAAAGCi40AAAAAAwFPgQAAAAACAUfJAAAAAAIDs7UAAAAAAgP3VQAAAAABAuepAAAAAAIDG4kAAAAAAoLDlQAAAAACgpuJAAAAAAECA5EAAAAAAwMLbQAAAAABgQuJAAAAAAECa70AAAAAAIPrqQAAAAACguvRAAAAAAMAE3EAAAAAAoJblQAAAAADAGtlAAAAAAMDW7EAAAAAAALXyQAAAAAAAHfBAAAAAAMAI20AAAAAAAAibQAAAAAAATL1AAAAAACDJ40AAAAAAwPLTQAAAAABAyu9AAAAAABAV8UAAAAAAkHbwQAAAAABg\\u002fPJAAAAAAMA98kAAAAAAYKHwQAAAAADA7upAAAAAAIC\\u002f7kAAAAAA4BzyQAAAAACAN+NAAAAAANC28kAAAAAAgILhQAAAAADwI\\u002fZAAAAAAKDu8UAAAAAAgLfeQAAAAABgBOdAAAAAAFB39EAAAAAAQBDqQAAAAAAAMtNAAAAAAGBB5kAAAAAA0N70QAAAAACAUutAAAAAAOBX70AAAAAAAPPiQAAAAADg6+tAAAAAAAAx10AAAAAA8C\\u002fwQAAAAAAAP+JAAAAAAADs40AAAAAAcIrxQAAAAACgiOZAAAAAAPA180AAAAAAwPvnQAAAAAAgYOJAAAAAAOBq40AAAAAAQF3aQAAAAABAmOBAAAAAAGDg60AAAAAA4N3mQAAAAADwTPRAAAAAAGCm6UAAAAAAgMfOQAAAAAAARdZAAAAAAEAF5UAAAAAAoP7kQAAAAADA4udAAAAAACBQ7UAAAAAAYJ\\u002fgQAAAAABgOuxAAAAAAJAu80AAAAAAAEy9QAAAAAAAC\\u002fdAAAAAAACb1kAAAAAAYJ3lQAAAAACgfPFAAAAAAMC77UAAAAAAAIPoQAAAAACwyfNAAAAAACDS70AAAAAAgDvtQAAAAADwCfBAAAAAACCr70AAAAAA4ArmQAAAAABQQ\\u002fJAAAAAAIDW7EAAAAAAgJnaQAAAAAAg9OZAAAAAAMCB5kAAAAAAILDjQAAAAABgLuJAAAAAADD780AAAAAAgMzmQAAAAABg5PJAAAAAAMBx4kAAAAAAQPbRQAAAAADAx\\u002fFAAAAAAMAh2EAAAAAA4DfmQAAAAAAAoLlAAAAAAEB78UAAAAAAAJvaQAAAAAAAzudAAAAAAKBw8UAAAAAAoC32QAAAAAAQgvVAAAAAAIBd6UAAAAAA0IrxQAAAAACAhOFAAAAAACCO40AAAAAAgF3jQAAAAADgeehAAAAAAOAf5UAAAAAAoK\\u002fuQAAAAABAfNJAAAAAAMDL10AAAAAAIDzgQAAAAADAQdpAAAAAAMB86EAAAAAAoE3uQAAAAAAA7PRAAAAAAOCv8kAAAAAAMDfxQAAAAADAzNFAAAAAADDh8EAAAAAAUN\\u002fwQAAAAACw\\u002f\\u002fBAAAAAAACf4kAAAAAA4FnuQAAAAABws\\u002fNAAAAAAIBE4EAAAAAAQJfsQAAAAAAA2tBAAAAAAEDl6UAAAAAAYH3pQAAAAAAgGu1AAAAAACBZ8kAAAAAAIPbmQAAAAABgiuJAAAAAAOAu5EAAAAAAMGzwQAAAAABA\\u002f+tAAAAAAGCr6EAAAAAA4HnhQAAAAABgtuhAAAAAAEB260AAAAAAAOHnQAAAAABgdutAAAAAAMDa1EAAAAAAgAnsQAAAAADApuZAAAAAAMCI6kAAAAAAwGfUQAAAAACAi\\u002fZAAAAAAMBG2kAAAAAAgPTlQAAAAAAwb\\u002fJAAAAAACBA6kAAAAAAgCbWQAAAAADg\\u002fOJAAAAAAEBX5EAAAAAAwBfdQAAAAABgNe9AAAAAAICH40AAAAAAwCHaQAAAAAAgLO9AAAAAAODr6EAAAAAAAJDtQAAAAABQCfBAAAAAAIBq4kAAAAAAAADiQAAAAADgu+VAAAAAAGAK4kAAAAAAAB\\u002fnQAAAAADwYPBAAAAAAKDa60AAAAAAoAviQAAAAADQ8PBAAAAAAGCQ80AAAAAAwBDlQAAAAADQrPNAAAAAAIDN4EAAAAAAIBjsQAAAAACAGtZAAAAAAGAO6UAAAAAAQJfhQAAAAADAD9hAAAAAAEDi4EAAAAAAgArwQAAAAABAKO9AAAAAAIBu6kAAAAAAgEDSQAAAAAAAgdtAAAAAAIDk4EAAAAAAoCDlQAAAAACg6uJAAAAAAMAo30AAAAAAAHfaQAAAAADAbt5AAAAAAFCX9kAAAAAAoAThQAAAAADAS\\u002fFAAAAAAIBb3kAAAAAAAJDtQAAAAADAAtRAAAAAAGDD5EAAAAAAQH7jQAAAAABAT+BAAAAAAADH4UAAAAAAQCPVQAAAAACwJfNAAAAAABAu9EAAAAAAgFTpQAAAAACQDfNAAAAAAIDO6UAAAAAAYBnxQAAAAACQ8fBAAAAAAKB85kAAAAAA8OHyQAAAAABACvJAAAAAAACu40AAAAAAwPXfQAAAAABwxfBAAAAAAIAk5UAAAAAAgKzZQAAAAADg5fZAAAAAAEDB4kAAAAAAQKzvQAAAAACgTOxAAAAAAOB35kAAAAAAwCTQQAAAAAAAattAAAAAAIAo6EAAAAAAoMToQAAAAABAePRAAAAAACAX5EAAAAAAsHXwQAAAAACAntZAAAAAAIDJ4EAAAAAAAPLgQAAAAABwKfdAAAAAAIDP70AAAAAAQHvjQAAAAAAgq+9AAAAAAIA+7UAAAAAAgAfkQAAAAAAA3utAAAAAAECH7UAAAAAA4KruQAAAAACA9dJAAAAAAMCo0kAAAAAAwG3yQAAAAACwLvFAAAAAALBj80AAAAAAwEHvQAAAAABgzPJAAAAAAMBX6EAAAAAAIJXtQAAAAAAg7+RAAAAAAPBn9UAAAAAAYEHsQAAAAACgduFAAAAAAID670AAAAAAABfgQAAAAADAD+pAAAAAAKCB8UAAAAAAcLjwQAAAAACgAOpAAAAAAMBu3kAAAAAAwIPkQAAAAACAa+pAAAAAAGBA6EAAAAAAwNzuQAAAAAAA5utAAAAAAIDW5kAAAAAAMEXzQAAAAAAgW+pAAAAAALCP9EAAAAAAQILmQAAAAAAg9PFAAAAAAJBq80AAAAAAQH3UQAAAAADARulAAAAAAOA560AAAAAA4CHgQAAAAABgc+JAAAAAAICa2kAAAAAAQEn1QAAAAACgEvFAAAAAACBo4kAAAAAAIEPiQAAAAAAAXKtAAAAAAKCc7EAAAAAAAAf0QAAAAADAbdtAAAAAAEAR8kAAAAAAAEfTQAAAAACA2etAAAAAAGDr6UAAAAAAMOrwQAAAAABAguZAAAAAAMDI1kAAAAAAwMjWQAAAAACAE8JAAAAAAKCM8EAAAAAAEJLxQAAAAABg7OxAAAAAAAAu30AAAAAAEEjyQAAAAACwEfBAAAAAAGAa6UAAAAAA4GHpQAAAAABAsuRAAAAAAICt3UAAAAAAwEHeQAAAAAAQH\\u002fBAAAAAAIA04kAAAAAAQBfsQAAAAAAAwPJAAAAAAOA470AAAAAAEJPyQAAAAABQd\\u002fBAAAAAAMAX4kAAAAAA4AjnQAAAAADAHN9AAAAAAMCT2kAAAAAAMCLxQAAAAABAfuNAAAAAACBC6EAAAAAAQBHYQAAAAACQf\\u002fNAAAAAAECk5UAAAAAAwGrnQAAAAACAPO9AAAAAADBj8kAAAAAAoBvrQAAAAAAwYfJAAAAAAAA39EAAAAAAwArjQAAAAADgIPZAAAAAAECG2kAAAAAAwIPkQAAAAAAgp+JAAAAAAGAS5kAAAAAAYOrzQAAAAADgDuFAAAAAAECI7UAAAAAAIOngQAAAAADQEPNAAAAAAMAh9EAAAAAA4GnmQAAAAAAQ3fNAAAAAAICC4UAAAAAAQL\\u002fjQAAAAABABe5AAAAAAAAT4UAAAAAAIIHyQAAAAABAwt5AAAAAAMAh8kAAAAAAAM7KQAAAAADgCuZAAAAAACCr6UAAAAAAAKbnQAAAAAAAvtBAAAAAAICh4UAAAAAA0KnyQAAAAADg5uFAAAAAAGBK6kAAAAAAIAf2QAAAAADgPvFAAAAAAAC85UAAAAAAAHvaQAAAAAAAZ+pAAAAAAPCK8UAAAAAAQAbpQAAAAAAAgu1AAAAAAMD+70AAAAAA8MLwQAAAAACANMhAAAAAAKB\\u002f70AAAAAAYJTgQAAAAABAnt5AAAAAAEAR60AAAAAAwLHbQAAAAACA4etAAAAAADDh8EAAAAAAoN3pQAAAAACgQOlAAAAAAEBa0kAAAAAAgEbwQAAAAAAAvehAAAAAAMCR6kAAAAAAoKLqQAAAAADgAOdAAAAAAGAF5EAAAAAAAP3SQAAAAACgueFAAAAAADDW8UAAAAAAYN3kQAAAAADAzulAAAAAAMA91kAAAAAAIMvmQAAAAACgNe1AAAAAAEBq6EAAAAAAsAfxQAAAAADAheVAAAAAAADY3UAAAAAAgIrhQAAAAACAUe9AAAAAAECI60AAAAAAgATYQAAAAADgf\\u002fJAAAAAAIAn40AAAAAAwI\\u002fsQAAAAACAp+xAAAAAAADm60AAAAAA4JzrQAAAAAAA7NVAAAAAAOAF9EAAAAAAoLTgQAAAAACAw9hAAAAAAABb4UAAAAAAQOPhQAAAAADAme5AAAAAAMCT6EAAAAAAIJjxQAAAAAAgxehAAAAAAIAM4UAAAAAAgK\\u002fvQAAAAABASuVAAAAAAICZ4EAAAAAAIEDkQAAAAADA4e5AAAAAAIDv4UAAAAAAwN3wQAAAAABg\\u002fPJAAAAAACCF4kAAAAAAICX1QAAAAADQkPNAAAAAALC78UAAAAAAgNnwQAAAAABAuNNAAAAAAEDt2kAAAAAAAPvOQAAAAAAAMehAAAAAAIA54EAAAAAAgDLxQAAAAAAAq+JAAAAAAIAG1kAAAAAAAPzWQAAAAACgIOhAAAAAAOCe5EAAAAAAUDzzQAAAAADAmutAAAAAAMB97EAAAAAAENTzQAAAAABA+OdAAAAAAGAr7kAAAAAAQL7RQAAAAAAAxNdAAAAAAIDL0UAAAAAA4G\\u002fuQAAAAAAghuRAAAAAAEAj9UAAAAAAoDvkQAAAAACQ\\u002fvFAAAAAAADR7UAAAAAAgMbiQAAAAACA7dFAAAAAAIDc6kAAAAAAAP3CQAAAAADgo+JAAAAAAACk7EAAAAAAoHLpQAAAAACgpe9AAAAAAMB56kAAAAAAgGP0QAAAAAAA7fJAAAAAAEAY5EAAAAAA4KDzQAAAAACATtJAAAAAAIAv4UAAAAAAwGjtQAAAAAAAl9VAAAAAAACt5UAAAAAAABDrQAAAAAAARtFAAAAAALCU9kAAAAAAEAr2QAAAAACwKPRAAAAAACDO4kAAAAAAQEPQQAAAAABAy+RAAAAAAED61kAAAAAAEEjyQAAAAAAwXPFAAAAAAMDn5kAAAAAAgEDSQAAAAACAL+JAAAAAALAf9EAAAAAA4GTyQAAAAADAGfFAAAAAAKBS80AAAAAA0OfyQAAAAAAA2epAAAAAAGC05EAAAAAAIDrrQAAAAACANeJAAAAAAABB5kAAAAAAECvxQAAAAADAXOxAAAAAADD480AAAAAAQLnbQAAAAAAwUfBAAAAAANAQ8UAAAAAAgJ7zQAAAAADA7e5AAAAAAKD35UAAAAAAwBzfQAAAAAAgLulAAAAAAACp3UAAAAAAAEfPQAAAAAAAFORAAAAAAGBq40AAAAAAoOjiQAAAAADQCfNAAAAAACC37kAAAAAAgG7KQAAAAAAgC+1AAAAAAFCb8UAAAAAAwHDVQAAAAACwY\\u002fBAAAAAAED44UAAAAAA0IrxQAAAAABAlttAAAAAAABY50AAAAAAQOnYQAAAAACA6OhAAAAAAEA88UAAAAAAcNv0QAAAAAAA1eRAAAAAAEDL5EAAAAAAABDdQAAAAABAS9xAAAAAAGBB40AAAAAAQOvvQAAAAACAuNNAAAAAACC95EAAAAAAwInvQAAAAAAAZPFAAAAAAADl4EAAAAAAAOfmQAAAAADA+OdAAAAAAGCd4UAAAAAA4LTtQAAAAAAg3\\u002fJAAAAAAECd4EAAAAAAwOLnQAAAAACgDPRAAAAAACBo4kAAAAAAQKPgQAAAAAAA2ttAAAAAAOCI7kAAAAAAILbhQAAAAACA9e5AAAAAAOB\\u002f8kAAAAAAACXzQAAAAABge\\u002fJAAAAAACD\\u002f7EAAAAAAwBniQAAAAAAg0uVAAAAAACBb6kAAAAAAAOi7QAAAAABAQ9JAAAAAABAQ9kAAAAAA4NbuQAAAAADAb+JAAAAAAKDU5kAAAAAAYHfzQAAAAADg3O5AAAAAAHCY8UAAAAAAAFTVQAAAAADAmuxAAAAAAKCl8UAAAAAAYJroQAAAAADA0d9AAAAAAACN7kAAAAAAYMvlQAAAAACAROBAAAAAAOA770AAAAAAIKTpQAAAAABAs9hAAAAAAOBr6kAAAAAAoCPzQAAAAAAwtvNAAAAAAEAj1kAAAAAAAI3cQAAAAADg7eVAAAAAAKC06kAAAAAAQIfnQAAAAAAgw+pAAAAAAIBN5EAAAAAAAJ3zQAAAAADgT+dAAAAAAIC\\u002f7kAAAAAAoP7rQAAAAABAjt9AAAAAAJC99EAAAAAAwG\\u002faQAAAAABAo\\u002fBAAAAAAHAM8EAAAAAAQDP1QAAAAAAAbq9AAAAAAEBj3UAAAAAAIC3sQAAAAAAAbNhAAAAAAJBT9EAAAAAAAMLVQAAAAADwnfFAAAAAAIBg70AAAAAA0DL0QAAAAAAgI\\u002fJAAAAAACBt7EAAAAAAAIjUQAAAAABAHvFAAAAAAMBe6kAAAAAAcNzwQAAAAAAAXMZAAAAAACAw7kAAAAAAYE7xQAAAAABQ3\\u002fBAAAAAAABm7UAAAAAAIA\\u002fgQAAAAABA9uBAAAAAAIDS3UAAAAAAYBn0QAAAAACABNpAAAAAAMAS8UAAAAAA4LrlQAAAAAAAZe1AAAAAAMA86EAAAAAAgEXXQAAAAABgI+BAAAAAAJDM8UAAAAAAYATxQAAAAADAKfFAAAAAADA\\u002f8UAAAAAAAK\\u002fdQAAAAAAAt+hAAAAAAICm7kAAAAAAgJbdQAAAAACgl+lAAAAAAGCP5UAAAAAAMDz1QAAAAABAr\\u002fJAAAAAACCM5EAAAAAAoH3wQAAAAABAlvVAAAAAAIBt3kAAAAAA4BzuQAAAAABwBfFAAAAAAAAB6EAAAAAAgEzYQAAAAABQM\\u002fZAAAAAAGDE+0AAAAAAgPPsQAAAAADgV+ZAAAAAAACh1UAAAAAAMOvxQAAAAADAHt1AAAAAAABP5kAAAAAAgKzuQAAAAABgie1AAAAAAGA64EAAAAAAoG7hQAAAAADAy95AAAAAAMCY9kAAAAAAgHPwQAAAAADQq\\u002fNAAAAAAOAC80AAAAAAwIbpQAAAAABg4utAAAAAAEB80kAAAAAAwJjhQAAAAAAAtdNAAAAAAMC24EAAAAAAgCHfQAAAAABAUfFAAAAAABBH9kAAAAAA4PHyQAAAAABgxfNAAAAAAEAr1kAAAAAAgPXqQAAAAACQPfFAAAAAACCq70AAAAAAwJzuQAAAAACgO+5AAAAAAAB58EAAAAAAwJDUQAAAAADA2dxAAAAAAPCH8kAAAAAAABXhQAAAAADA2upAAAAAAICK6kAAAAAAQLjgQAAAAACA0NhAAAAAAMDo8UAAAAAAAKjbQAAAAADANNdAAAAAAKC38UAAAAAAINzgQAAAAACASPFAAAAAAGDd7kAAAAAAMHv0QAAAAAAgnOFAAAAAAEB740AAAAAAoPjoQAAAAABgzetAAAAAAIC+80AAAAAA8KjxQAAAAADALO5AAAAAAKDC8kAAAAAAgMncQAAAAADA8uZAAAAAALCk90AAAAAA4JzrQAAAAABQGvFAAAAAAGB\\u002f8UAAAAAA4KjlQAAAAADg9uNAAAAAAKDd50AAAAAAUC\\u002fyQAAAAABAe+9AAAAAAKDa8kAAAAAAMLzxQAAAAACg7vRAAAAAAMAw60AAAAAAwBLjQAAAAAAA5eBAAAAAAEDr40AAAAAAQLTqQAAAAAAATLFAAAAAAADe30AAAAAAgKviQAAAAACg9eFAAAAAAECm3kAAAAAAgP7XQAAAAABA6dhAAAAAACAb90AAAAAAwKLsQAAAAAAg+ulAAAAAAIB61UAAAAAAIOPrQAAAAACgFelAAAAAAEDt1kAAAAAAgGDsQAAAAACA0PFAAAAAAOBt40AAAAAAAGT2QAAAAACAEPdAAAAAAAC0ykAAAAAAMJL3QAAAAABQVvNAAAAAAOCd60AAAAAAAOHfQAAAAAAge\\u002fBAAAAAAICj10AAAAAAAMHbQAAAAADAcNZAAAAAAOA\\u002f4EAAAAAA4KrmQAAAAAAAqN1AAAAAAIAY70AAAAAAwFTkQAAAAABQzPBAAAAAAGAR8EAAAAAAwJHxQAAAAABAHeNAAAAAAMCm90AAAAAAoNHgQAAAAACQq\\u002fBAAAAAAIA04kAAAAAAwPbhQAAAAADASdtAAAAAAMC91UAAAAAAQI3dQAAAAADA6ttAAAAAAOBk5UAAAAAAYIjnQAAAAAAwzvJAAAAAAKBp8UAAAAAAQP\\u002ffQAAAAAAA+txAAAAAAAC61kAAAAAAAF\\u002foQAAAAAAATL1AAAAAAFCh8EAAAAAAkGnwQAAAAABAPNFAAAAAAEBN60AAAAAAYI\\u002fjQAAAAAAgve1AAAAAACBk8kAAAAAAIKLtQAAAAAAA4+JAAAAAAAD97UAAAAAA4EzoQAAAAACQVPRAAAAAAEBU3EAAAAAAIADmQAAAAADAI+JAAAAAAIAB5UAAAAAAQPTpQAAAAACA4+9AAAAAADCr8kAAAAAAQMnzQAAAAADgDOBAAAAAACA\\u002f60AAAAAAAKLyQAAAAADgB+JAAAAAAEDT50AAAAAAgO3WQAAAAACAXfFAAAAAADAi8UAAAAAAwAjtQAAAAAAgu+JAAAAAAGAZ8UAAAAAAQMfkQAAAAABQd\\u002fBAAAAAAGBe8EAAAAAAAJrkQAAAAACg8vJAAAAAAEAE30AAAAAAwMXgQAAAAADgp+pAAAAAAKCL8UAAAAAAQLPYQAAAAAAAguRAAAAAAAD58EAAAAAAIJnvQAAAAABAPNtAAAAAAMCa1UAAAAAAwCbbQAAAAABgOOlAAAAAAHC48EAAAAAAgLvrQAAAAACAPfVAAAAAAPB880AAAAAAABveQAAAAACgp+BAAAAAAOAO6kAAAAAAgN3VQAAAAACgafFAAAAAAMBY80AAAAAAAF\\u002foQAAAAABgx+dAAAAAAACR80AAAAAAgH3qQAAAAACQAPRAAAAAAECS8kAAAAAAgPrpQAAAAABwlPBAAAAAAADmzEAAAAAAABPzQAAAAAAAtstAAAAAAEDy00AAAAAAwKLsQAAAAABw0PFAAAAAAMCC50AAAAAAwBn0QAAAAABgdOxAAAAAACDz5UAAAAAAYOPgQAAAAABAAeVAAAAAAABV5kAAAAAAwDrwQAAAAABAFdtAAAAAANAK8UAAAAAAkKHxQAAAAACANtlAAAAAAKBQ4kAAAAAAAJbYQAAAAABASOVAAAAAAMD96UAAAAAAgHjoQAAAAACguvRAAAAAAMDs7UAAAAAA0Bn0QAAAAACA2O9AAAAAAMBm4EAAAAAAAETeQAAAAABQp\\u002fFAAAAAAIBCz0AAAAAA4PnvQAAAAACAqOxAAAAAAMDR40AAAAAAwBrUQAAAAACgle5AAAAAAMC+3EAAAAAAgOTSQAAAAACAeeFAAAAAAKAQ4kAAAAAAwPzWQAAAAACg5u9AAAAAADAq80AAAAAAAAndQAAAAABgJ+RAAAAAAIAD70AAAAAAIOLkQAAAAACANOhAAAAAAJDl8EAAAAAAAL\\u002fQQAAAAADA0eNAAAAAAADY3UAAAAAAgGTfQAAAAAAgXuRAAAAAAACw4EAAAAAAQI7sQAAAAADAJO1AAAAAAAC87UAAAAAAQMLuQAAAAAAAG+dAAAAAALBG8kAAAAAAgMrNQAAAAAAA0t5AAAAAAHCY8UAAAAAAQEL2QAAAAAAA+fVAAAAAAOB95EAAAAAA8OjwQAAAAACgCvBAAAAAAMDA7UAAAAAA0JHxQAAAAABA1+9AAAAAAGBU80AAAAAAQN7zQAAAAAAApudAAAAAAEDW6UAAAAAAQATjQAAAAADAdNlAAAAAAKCk5UAAAAAAYMPkQAAAAADA3dlAAAAAACD+6UAAAAAAQIjwQAAAAACgnPJAAAAAAFCJ9EAAAAAA4PnvQAAAAAAAothAAAAAAADh9UAAAAAAYPLjQAAAAABA09pAAAAAALAa9EAAAAAAsATyQAAAAAAAOsFAAAAAAEAn5UAAAAAAICXrQAAAAACgqOhAAAAAAKAb4kAAAAAAgJzPQAAAAABgMOxAAAAAAACm50AAAAAA8ATyQAAAAABAfNJAAAAAAKCG4UAAAAAAwMrtQAAAAAAAZN9AAAAAAAAjzUAAAAAAQAvmQAAAAAAgZeRAAAAAAFCQ9UAAAAAAwJTiQAAAAACQrvNAAAAAAAC5tEAAAAAA4PjhQAAAAADAwttAAAAAAAAH9EAAAAAAwD3WQAAAAACglONAAAAAACBV7EAAAAAAEIDyQAAAAAAATL1AAAAAAEBj4EAAAAAAQCXsQAAAAABAl+xAAAAAACAk70AAAAAA4E3sQAAAAACA3NdAAAAAAACCxUAAAAAAQODlQAAAAAAAMNpAAAAAAKDO4EAAAAAA4OTtQAAAAADAQe9AAAAAAKDS60AAAAAA0OfwQAAAAACg0OlA\"},\"y0\":\" \",\"yaxis\":\"y\",\"type\":\"box\"}],                        {\"template\":{\"data\":{\"histogram2dcontour\":[{\"type\":\"histogram2dcontour\",\"colorbar\":{\"outlinewidth\":0,\"ticks\":\"\"},\"colorscale\":[[0.0,\"#0d0887\"],[0.1111111111111111,\"#46039f\"],[0.2222222222222222,\"#7201a8\"],[0.3333333333333333,\"#9c179e\"],[0.4444444444444444,\"#bd3786\"],[0.5555555555555556,\"#d8576b\"],[0.6666666666666666,\"#ed7953\"],[0.7777777777777778,\"#fb9f3a\"],[0.8888888888888888,\"#fdca26\"],[1.0,\"#f0f921\"]]}],\"choropleth\":[{\"type\":\"choropleth\",\"colorbar\":{\"outlinewidth\":0,\"ticks\":\"\"}}],\"histogram2d\":[{\"type\":\"histogram2d\",\"colorbar\":{\"outlinewidth\":0,\"ticks\":\"\"},\"colorscale\":[[0.0,\"#0d0887\"],[0.1111111111111111,\"#46039f\"],[0.2222222222222222,\"#7201a8\"],[0.3333333333333333,\"#9c179e\"],[0.4444444444444444,\"#bd3786\"],[0.5555555555555556,\"#d8576b\"],[0.6666666666666666,\"#ed7953\"],[0.7777777777777778,\"#fb9f3a\"],[0.8888888888888888,\"#fdca26\"],[1.0,\"#f0f921\"]]}],\"heatmap\":[{\"type\":\"heatmap\",\"colorbar\":{\"outlinewidth\":0,\"ticks\":\"\"},\"colorscale\":[[0.0,\"#0d0887\"],[0.1111111111111111,\"#46039f\"],[0.2222222222222222,\"#7201a8\"],[0.3333333333333333,\"#9c179e\"],[0.4444444444444444,\"#bd3786\"],[0.5555555555555556,\"#d8576b\"],[0.6666666666666666,\"#ed7953\"],[0.7777777777777778,\"#fb9f3a\"],[0.8888888888888888,\"#fdca26\"],[1.0,\"#f0f921\"]]}],\"contourcarpet\":[{\"type\":\"contourcarpet\",\"colorbar\":{\"outlinewidth\":0,\"ticks\":\"\"}}],\"contour\":[{\"type\":\"contour\",\"colorbar\":{\"outlinewidth\":0,\"ticks\":\"\"},\"colorscale\":[[0.0,\"#0d0887\"],[0.1111111111111111,\"#46039f\"],[0.2222222222222222,\"#7201a8\"],[0.3333333333333333,\"#9c179e\"],[0.4444444444444444,\"#bd3786\"],[0.5555555555555556,\"#d8576b\"],[0.6666666666666666,\"#ed7953\"],[0.7777777777777778,\"#fb9f3a\"],[0.8888888888888888,\"#fdca26\"],[1.0,\"#f0f921\"]]}],\"surface\":[{\"type\":\"surface\",\"colorbar\":{\"outlinewidth\":0,\"ticks\":\"\"},\"colorscale\":[[0.0,\"#0d0887\"],[0.1111111111111111,\"#46039f\"],[0.2222222222222222,\"#7201a8\"],[0.3333333333333333,\"#9c179e\"],[0.4444444444444444,\"#bd3786\"],[0.5555555555555556,\"#d8576b\"],[0.6666666666666666,\"#ed7953\"],[0.7777777777777778,\"#fb9f3a\"],[0.8888888888888888,\"#fdca26\"],[1.0,\"#f0f921\"]]}],\"mesh3d\":[{\"type\":\"mesh3d\",\"colorbar\":{\"outlinewidth\":0,\"ticks\":\"\"}}],\"scatter\":[{\"fillpattern\":{\"fillmode\":\"overlay\",\"size\":10,\"solidity\":0.2},\"type\":\"scatter\"}],\"parcoords\":[{\"type\":\"parcoords\",\"line\":{\"colorbar\":{\"outlinewidth\":0,\"ticks\":\"\"}}}],\"scatterpolargl\":[{\"type\":\"scatterpolargl\",\"marker\":{\"colorbar\":{\"outlinewidth\":0,\"ticks\":\"\"}}}],\"bar\":[{\"error_x\":{\"color\":\"#2a3f5f\"},\"error_y\":{\"color\":\"#2a3f5f\"},\"marker\":{\"line\":{\"color\":\"#E5ECF6\",\"width\":0.5},\"pattern\":{\"fillmode\":\"overlay\",\"size\":10,\"solidity\":0.2}},\"type\":\"bar\"}],\"scattergeo\":[{\"type\":\"scattergeo\",\"marker\":{\"colorbar\":{\"outlinewidth\":0,\"ticks\":\"\"}}}],\"scatterpolar\":[{\"type\":\"scatterpolar\",\"marker\":{\"colorbar\":{\"outlinewidth\":0,\"ticks\":\"\"}}}],\"histogram\":[{\"marker\":{\"pattern\":{\"fillmode\":\"overlay\",\"size\":10,\"solidity\":0.2}},\"type\":\"histogram\"}],\"scattergl\":[{\"type\":\"scattergl\",\"marker\":{\"colorbar\":{\"outlinewidth\":0,\"ticks\":\"\"}}}],\"scatter3d\":[{\"type\":\"scatter3d\",\"line\":{\"colorbar\":{\"outlinewidth\":0,\"ticks\":\"\"}},\"marker\":{\"colorbar\":{\"outlinewidth\":0,\"ticks\":\"\"}}}],\"scattermap\":[{\"type\":\"scattermap\",\"marker\":{\"colorbar\":{\"outlinewidth\":0,\"ticks\":\"\"}}}],\"scattermapbox\":[{\"type\":\"scattermapbox\",\"marker\":{\"colorbar\":{\"outlinewidth\":0,\"ticks\":\"\"}}}],\"scatterternary\":[{\"type\":\"scatterternary\",\"marker\":{\"colorbar\":{\"outlinewidth\":0,\"ticks\":\"\"}}}],\"scattercarpet\":[{\"type\":\"scattercarpet\",\"marker\":{\"colorbar\":{\"outlinewidth\":0,\"ticks\":\"\"}}}],\"carpet\":[{\"aaxis\":{\"endlinecolor\":\"#2a3f5f\",\"gridcolor\":\"white\",\"linecolor\":\"white\",\"minorgridcolor\":\"white\",\"startlinecolor\":\"#2a3f5f\"},\"baxis\":{\"endlinecolor\":\"#2a3f5f\",\"gridcolor\":\"white\",\"linecolor\":\"white\",\"minorgridcolor\":\"white\",\"startlinecolor\":\"#2a3f5f\"},\"type\":\"carpet\"}],\"table\":[{\"cells\":{\"fill\":{\"color\":\"#EBF0F8\"},\"line\":{\"color\":\"white\"}},\"header\":{\"fill\":{\"color\":\"#C8D4E3\"},\"line\":{\"color\":\"white\"}},\"type\":\"table\"}],\"barpolar\":[{\"marker\":{\"line\":{\"color\":\"#E5ECF6\",\"width\":0.5},\"pattern\":{\"fillmode\":\"overlay\",\"size\":10,\"solidity\":0.2}},\"type\":\"barpolar\"}],\"pie\":[{\"automargin\":true,\"type\":\"pie\"}]},\"layout\":{\"autotypenumbers\":\"strict\",\"colorway\":[\"#636efa\",\"#EF553B\",\"#00cc96\",\"#ab63fa\",\"#FFA15A\",\"#19d3f3\",\"#FF6692\",\"#B6E880\",\"#FF97FF\",\"#FECB52\"],\"font\":{\"color\":\"#2a3f5f\"},\"hovermode\":\"closest\",\"hoverlabel\":{\"align\":\"left\"},\"paper_bgcolor\":\"white\",\"plot_bgcolor\":\"#E5ECF6\",\"polar\":{\"bgcolor\":\"#E5ECF6\",\"angularaxis\":{\"gridcolor\":\"white\",\"linecolor\":\"white\",\"ticks\":\"\"},\"radialaxis\":{\"gridcolor\":\"white\",\"linecolor\":\"white\",\"ticks\":\"\"}},\"ternary\":{\"bgcolor\":\"#E5ECF6\",\"aaxis\":{\"gridcolor\":\"white\",\"linecolor\":\"white\",\"ticks\":\"\"},\"baxis\":{\"gridcolor\":\"white\",\"linecolor\":\"white\",\"ticks\":\"\"},\"caxis\":{\"gridcolor\":\"white\",\"linecolor\":\"white\",\"ticks\":\"\"}},\"coloraxis\":{\"colorbar\":{\"outlinewidth\":0,\"ticks\":\"\"}},\"colorscale\":{\"sequential\":[[0.0,\"#0d0887\"],[0.1111111111111111,\"#46039f\"],[0.2222222222222222,\"#7201a8\"],[0.3333333333333333,\"#9c179e\"],[0.4444444444444444,\"#bd3786\"],[0.5555555555555556,\"#d8576b\"],[0.6666666666666666,\"#ed7953\"],[0.7777777777777778,\"#fb9f3a\"],[0.8888888888888888,\"#fdca26\"],[1.0,\"#f0f921\"]],\"sequentialminus\":[[0.0,\"#0d0887\"],[0.1111111111111111,\"#46039f\"],[0.2222222222222222,\"#7201a8\"],[0.3333333333333333,\"#9c179e\"],[0.4444444444444444,\"#bd3786\"],[0.5555555555555556,\"#d8576b\"],[0.6666666666666666,\"#ed7953\"],[0.7777777777777778,\"#fb9f3a\"],[0.8888888888888888,\"#fdca26\"],[1.0,\"#f0f921\"]],\"diverging\":[[0,\"#8e0152\"],[0.1,\"#c51b7d\"],[0.2,\"#de77ae\"],[0.3,\"#f1b6da\"],[0.4,\"#fde0ef\"],[0.5,\"#f7f7f7\"],[0.6,\"#e6f5d0\"],[0.7,\"#b8e186\"],[0.8,\"#7fbc41\"],[0.9,\"#4d9221\"],[1,\"#276419\"]]},\"xaxis\":{\"gridcolor\":\"white\",\"linecolor\":\"white\",\"ticks\":\"\",\"title\":{\"standoff\":15},\"zerolinecolor\":\"white\",\"automargin\":true,\"zerolinewidth\":2},\"yaxis\":{\"gridcolor\":\"white\",\"linecolor\":\"white\",\"ticks\":\"\",\"title\":{\"standoff\":15},\"zerolinecolor\":\"white\",\"automargin\":true,\"zerolinewidth\":2},\"scene\":{\"xaxis\":{\"backgroundcolor\":\"#E5ECF6\",\"gridcolor\":\"white\",\"linecolor\":\"white\",\"showbackground\":true,\"ticks\":\"\",\"zerolinecolor\":\"white\",\"gridwidth\":2},\"yaxis\":{\"backgroundcolor\":\"#E5ECF6\",\"gridcolor\":\"white\",\"linecolor\":\"white\",\"showbackground\":true,\"ticks\":\"\",\"zerolinecolor\":\"white\",\"gridwidth\":2},\"zaxis\":{\"backgroundcolor\":\"#E5ECF6\",\"gridcolor\":\"white\",\"linecolor\":\"white\",\"showbackground\":true,\"ticks\":\"\",\"zerolinecolor\":\"white\",\"gridwidth\":2}},\"shapedefaults\":{\"line\":{\"color\":\"#2a3f5f\"}},\"annotationdefaults\":{\"arrowcolor\":\"#2a3f5f\",\"arrowhead\":0,\"arrowwidth\":1},\"geo\":{\"bgcolor\":\"white\",\"landcolor\":\"#E5ECF6\",\"subunitcolor\":\"white\",\"showland\":true,\"showlakes\":true,\"lakecolor\":\"white\"},\"title\":{\"x\":0.05},\"mapbox\":{\"style\":\"light\"}}},\"xaxis\":{\"anchor\":\"y\",\"domain\":[0.0,1.0]},\"yaxis\":{\"anchor\":\"x\",\"domain\":[0.0,1.0],\"title\":{\"text\":\"Income\"}},\"legend\":{\"tracegroupgap\":0},\"title\":{\"text\":\"Boxplot da Distribui\\u00e7\\u00e3o de Renda\"},\"boxmode\":\"group\"},                        {\"responsive\": true}                    ).then(function(){\n",
       "                            \n",
       "var gd = document.getElementById('8d640f61-b60c-4ae4-85ca-998b356e7c0d');\n",
       "var x = new MutationObserver(function (mutations, observer) {{\n",
       "        var display = window.getComputedStyle(gd).display;\n",
       "        if (!display || display === 'none') {{\n",
       "            console.log([gd, 'removed!']);\n",
       "            Plotly.purge(gd);\n",
       "            observer.disconnect();\n",
       "        }}\n",
       "}});\n",
       "\n",
       "// Listen for the removal of the full notebook cells\n",
       "var notebookContainer = gd.closest('#notebook-container');\n",
       "if (notebookContainer) {{\n",
       "    x.observe(notebookContainer, {childList: true});\n",
       "}}\n",
       "\n",
       "// Listen for the clearing of the current output cell\n",
       "var outputEl = gd.closest('.output');\n",
       "if (outputEl) {{\n",
       "    x.observe(outputEl, {childList: true});\n",
       "}}\n",
       "\n",
       "                        })                };            </script>        </div>"
      ]
     },
     "metadata": {},
     "output_type": "display_data"
    }
   ],
   "source": [
    "import plotly.express as px\n",
    "\n",
    "fig = px.box(df, y=\"Income\", title=\"Boxplot da Distribuição de Renda\")\n",
    "\n",
    "fig.show()"
   ]
  },
  {
   "cell_type": "markdown",
   "id": "da2fea47",
   "metadata": {},
   "source": [
    "Para além de verificar o boxplot e histograma, vamos calcular o coeficiente de variação (CV) da variável Income. Para relembrar, O CV é uma medida que fornece uma compreensão relativa da variabilidade dos dados, facilitando comparações entre diferentes conjuntos de dados, especialmente aqueles com médias diferentes. Este valor é geralmente dado em decimal, ou porcentagem. O que significa que quanto mais próximo de 1 (100%) mais dispersos os seus dados são em relação à média."
   ]
  },
  {
   "cell_type": "code",
   "execution_count": 28,
   "id": "cd2e62a3",
   "metadata": {},
   "outputs": [
    {
     "data": {
      "text/plain": [
       "np.float64(0.4012441554786958)"
      ]
     },
     "execution_count": 28,
     "metadata": {},
     "output_type": "execute_result"
    }
   ],
   "source": [
    "# calcular o coeficiente de variação\n",
    "df[\"Income\"].std()/df[\"Income\"].mean()"
   ]
  },
  {
   "cell_type": "markdown",
   "id": "52051967",
   "metadata": {},
   "source": [
    "Para compreender melhor a distribuição dos dados e verificar se eles se aproximam de uma curva normal, podemos utilizar o calculo do skewness. O skewness fornece um calculo para verificarmos o quanto nossos dados estão distribuidos simetricamente em relação à média. Este valor geralmente fica entre -1 e 1. Quanto mais próximos das extremidades deste intervalo, mais os dados são assimétricos. Podemos resumir da seguinte maneira:\n",
    "\n",
    "skew > 0 : assimetria positiva (à direita). A calda da curva será mais longa para valores maiores do eixo x.\n",
    "skew < 0: assimetria negativa (à esquerda). A calda da curva será mais longa para valores menores do eixo x.\n",
    "skew = 0: Distribuição simétrica (Curva normal)."
   ]
  },
  {
   "cell_type": "code",
   "execution_count": 29,
   "id": "a8fcd9b4",
   "metadata": {},
   "outputs": [
    {
     "data": {
      "text/plain": [
       "np.float64(0.013164263414417078)"
      ]
     },
     "execution_count": 29,
     "metadata": {},
     "output_type": "execute_result"
    }
   ],
   "source": [
    "df['Income'].skew()"
   ]
  },
  {
   "cell_type": "markdown",
   "id": "d4307552",
   "metadata": {},
   "source": [
    "Os salarios parecem bem distribuidos na base. Algumas poucas pessoas ganham pouco e algumas poucas ganham muito, porém não há outliers. A dispersão por outro lado é grande (muitos dados se afastam da média). Pelo skew e pelo boxplot, podemos dizer que apesar de não completamente normal, a curva se aproxima de uma normal."
   ]
  },
  {
   "cell_type": "markdown",
   "id": "b5959fa3",
   "metadata": {},
   "source": [
    "Verificando se os clientes tem níveis de educação maiores ou menores! Utilizando a coluna education_level"
   ]
  },
  {
   "cell_type": "code",
   "execution_count": 30,
   "id": "cda9f8c9",
   "metadata": {},
   "outputs": [
    {
     "data": {
      "text/plain": [
       "<Axes: xlabel='education_level', ylabel='count'>"
      ]
     },
     "execution_count": 30,
     "metadata": {},
     "output_type": "execute_result"
    },
    {
     "data": {
      "image/png": "[encoded data removed]",
      "text/plain": [
       "<Figure size 640x480 with 1 Axes>"
      ]
     },
     "metadata": {},
     "output_type": "display_data"
    }
   ],
   "source": [
    "# Gráfico de barras por educação - utilizando a biblioteca PLOTLY\n",
    "sns.countplot(x=df['education_level'])"
   ]
  },
  {
   "cell_type": "markdown",
   "id": "558a19e8",
   "metadata": {},
   "source": [
    "A maior parte dos clientes tem graduação completa. Poucos clientes concluíram somente o nível básico. No geral, podemos dizer que os clientes tem níveis superiores de educação."
   ]
  },
  {
   "cell_type": "markdown",
   "id": "0a07b06e",
   "metadata": {},
   "source": [
    "Quantos clientes existem em cada estado civil? Utilizando a coluna marital_status"
   ]
  },
  {
   "cell_type": "code",
   "execution_count": null,
   "id": "6f622a3c",
   "metadata": {},
   "outputs": [
    {
     "data": {
      "text/plain": [
       "<Axes: xlabel='marital_status', ylabel='count'>"
      ]
     },
     "execution_count": 31,
     "metadata": {},
     "output_type": "execute_result"
    },
    {
     "data": {
      "image/png": "[encoded data removed]",
      "text/plain": [
       "<Figure size 640x480 with 1 Axes>"
      ]
     },
     "metadata": {},
     "output_type": "display_data"
    }
   ],
   "source": [
    "# Gráfico de barras por estado civil - utilizando a biblioteca PLOTLY\n",
    "sns.countplot(x=df['marital_status'])"
   ]
  },
  {
   "cell_type": "markdown",
   "id": "7e739ed3",
   "metadata": {},
   "source": [
    "Verificando a relação de estado civil com número de filhos? Será que as pessoas casadas têm um maior número de filhos? Filhos está na coluna kids"
   ]
  },
  {
   "cell_type": "code",
   "execution_count": 32,
   "id": "ded7b40c",
   "metadata": {},
   "outputs": [
    {
     "data": {
      "text/plain": [
       "<Axes: xlabel='marital_status', ylabel='kids'>"
      ]
     },
     "execution_count": 32,
     "metadata": {},
     "output_type": "execute_result"
    },
    {
     "data": {
      "image/png": "[encoded data removed]",
      "text/plain": [
       "<Figure size 640x480 with 1 Axes>"
      ]
     },
     "metadata": {},
     "output_type": "display_data"
    }
   ],
   "source": [
    "# Verificando a relação de estado civil com número de filhos\n",
    "sns.boxplot(x='marital_status', y='kids', data=df)"
   ]
  },
  {
   "cell_type": "code",
   "execution_count": 34,
   "id": "2c2d599c",
   "metadata": {},
   "outputs": [
    {
     "data": {
      "text/html": [
       "<div>\n",
       "<style scoped>\n",
       "    .dataframe tbody tr th:only-of-type {\n",
       "        vertical-align: middle;\n",
       "    }\n",
       "\n",
       "    .dataframe tbody tr th {\n",
       "        vertical-align: top;\n",
       "    }\n",
       "\n",
       "    .dataframe thead th {\n",
       "        text-align: right;\n",
       "    }\n",
       "</style>\n",
       "<table border=\"1\" class=\"dataframe\">\n",
       "  <thead>\n",
       "    <tr style=\"text-align: right;\">\n",
       "      <th></th>\n",
       "      <th>count</th>\n",
       "      <th>mean</th>\n",
       "      <th>std</th>\n",
       "      <th>min</th>\n",
       "      <th>25%</th>\n",
       "      <th>50%</th>\n",
       "      <th>75%</th>\n",
       "      <th>max</th>\n",
       "    </tr>\n",
       "    <tr>\n",
       "      <th>marital_status</th>\n",
       "      <th></th>\n",
       "      <th></th>\n",
       "      <th></th>\n",
       "      <th></th>\n",
       "      <th></th>\n",
       "      <th></th>\n",
       "      <th></th>\n",
       "      <th></th>\n",
       "    </tr>\n",
       "  </thead>\n",
       "  <tbody>\n",
       "    <tr>\n",
       "      <th>Divorced</th>\n",
       "      <td>230.0</td>\n",
       "      <td>1.008696</td>\n",
       "      <td>0.741716</td>\n",
       "      <td>0.0</td>\n",
       "      <td>1.0</td>\n",
       "      <td>1.0</td>\n",
       "      <td>1.0</td>\n",
       "      <td>3.0</td>\n",
       "    </tr>\n",
       "    <tr>\n",
       "      <th>Married</th>\n",
       "      <td>854.0</td>\n",
       "      <td>0.967213</td>\n",
       "      <td>0.732019</td>\n",
       "      <td>0.0</td>\n",
       "      <td>0.0</td>\n",
       "      <td>1.0</td>\n",
       "      <td>1.0</td>\n",
       "      <td>3.0</td>\n",
       "    </tr>\n",
       "    <tr>\n",
       "      <th>Single</th>\n",
       "      <td>477.0</td>\n",
       "      <td>0.859539</td>\n",
       "      <td>0.777289</td>\n",
       "      <td>0.0</td>\n",
       "      <td>0.0</td>\n",
       "      <td>1.0</td>\n",
       "      <td>1.0</td>\n",
       "      <td>3.0</td>\n",
       "    </tr>\n",
       "    <tr>\n",
       "      <th>Together</th>\n",
       "      <td>568.0</td>\n",
       "      <td>0.980634</td>\n",
       "      <td>0.749823</td>\n",
       "      <td>0.0</td>\n",
       "      <td>0.0</td>\n",
       "      <td>1.0</td>\n",
       "      <td>1.0</td>\n",
       "      <td>3.0</td>\n",
       "    </tr>\n",
       "    <tr>\n",
       "      <th>Widow</th>\n",
       "      <td>76.0</td>\n",
       "      <td>0.881579</td>\n",
       "      <td>0.747745</td>\n",
       "      <td>0.0</td>\n",
       "      <td>0.0</td>\n",
       "      <td>1.0</td>\n",
       "      <td>1.0</td>\n",
       "      <td>2.0</td>\n",
       "    </tr>\n",
       "  </tbody>\n",
       "</table>\n",
       "</div>"
      ],
      "text/plain": [
       "                count      mean       std  min  25%  50%  75%  max\n",
       "marital_status                                                    \n",
       "Divorced        230.0  1.008696  0.741716  0.0  1.0  1.0  1.0  3.0\n",
       "Married         854.0  0.967213  0.732019  0.0  0.0  1.0  1.0  3.0\n",
       "Single          477.0  0.859539  0.777289  0.0  0.0  1.0  1.0  3.0\n",
       "Together        568.0  0.980634  0.749823  0.0  0.0  1.0  1.0  3.0\n",
       "Widow            76.0  0.881579  0.747745  0.0  0.0  1.0  1.0  2.0"
      ]
     },
     "execution_count": 34,
     "metadata": {},
     "output_type": "execute_result"
    }
   ],
   "source": [
    "df.groupby(['marital_status'])['kids'].describe()"
   ]
  },
  {
   "cell_type": "markdown",
   "id": "fd29d5ee",
   "metadata": {},
   "source": [
    "Calculando a média de filhos por status de união"
   ]
  },
  {
   "cell_type": "code",
   "execution_count": 35,
   "id": "7d87e9c5",
   "metadata": {},
   "outputs": [
    {
     "data": {
      "text/plain": [
       "marital_status\n",
       "Divorced    1.008696\n",
       "Married     0.967213\n",
       "Single      0.859539\n",
       "Together    0.980634\n",
       "Widow       0.881579\n",
       "Name: kids, dtype: float64"
      ]
     },
     "execution_count": 35,
     "metadata": {},
     "output_type": "execute_result"
    }
   ],
   "source": [
    "df.groupby('marital_status')['kids'].mean()"
   ]
  },
  {
   "cell_type": "code",
   "execution_count": null,
   "id": "56e803dd",
   "metadata": {},
   "outputs": [],
   "source": [
    "Calculando a mediana de filhos por status de união"
   ]
  },
  {
   "cell_type": "code",
   "execution_count": 37,
   "id": "7c6a3218",
   "metadata": {},
   "outputs": [
    {
     "data": {
      "text/plain": [
       "marital_status\n",
       "Divorced    1.0\n",
       "Married     1.0\n",
       "Single      1.0\n",
       "Together    1.0\n",
       "Widow       1.0\n",
       "Name: kids, dtype: float64"
      ]
     },
     "execution_count": 37,
     "metadata": {},
     "output_type": "execute_result"
    }
   ],
   "source": [
    "# Calculando a mediana de filhos por status de união\n",
    "df.groupby('marital_status')['kids'].median()"
   ]
  },
  {
   "cell_type": "markdown",
   "id": "75b07397",
   "metadata": {},
   "source": [
    "Apesar dos números serem muito próximos, olhando apenas a média dizemos que single (solteiros) tem uma quantidade menor de filhos quando comparado aos outros grupos. Porém, como podemos ver no boxplot e na mediana, é um número muito próximo um do outro. Precisaríamos de um teste de hipótese para comprovar diferenças."
   ]
  },
  {
   "cell_type": "markdown",
   "id": "b8e040f6",
   "metadata": {},
   "source": [
    "As pessoas gastam mais ou menos na plataforma quando têm filhos? Explorando as colunas expenses e kids"
   ]
  },
  {
   "cell_type": "code",
   "execution_count": 38,
   "id": "0c16c8e5",
   "metadata": {},
   "outputs": [
    {
     "data": {
      "text/plain": [
       "<Axes: xlabel='kids', ylabel='expenses'>"
      ]
     },
     "execution_count": 38,
     "metadata": {},
     "output_type": "execute_result"
    },
    {
     "data": {
      "image/png": "[encoded data removed]",
      "text/plain": [
       "<Figure size 640x480 with 1 Axes>"
      ]
     },
     "metadata": {},
     "output_type": "display_data"
    }
   ],
   "source": [
    "sns.boxplot(x='kids', y='expenses', data=df)"
   ]
  },
  {
   "cell_type": "markdown",
   "id": "862423ed",
   "metadata": {},
   "source": [
    "Calculando a média de expenses por status de união"
   ]
  },
  {
   "cell_type": "code",
   "execution_count": 39,
   "id": "c0b922e2",
   "metadata": {},
   "outputs": [
    {
     "data": {
      "text/plain": [
       "kids\n",
       "0    1041.207006\n",
       "1     434.530576\n",
       "2     221.568675\n",
       "3     237.380000\n",
       "Name: expenses, dtype: float64"
      ]
     },
     "execution_count": 39,
     "metadata": {},
     "output_type": "execute_result"
    }
   ],
   "source": [
    "# Calculando a média de gastos\n",
    "df.groupby('kids')['expenses'].mean()"
   ]
  },
  {
   "cell_type": "code",
   "execution_count": 40,
   "id": "2bd54b65",
   "metadata": {},
   "outputs": [
    {
     "data": {
      "text/plain": [
       "kids\n",
       "0    1106.5\n",
       "1     264.0\n",
       "2      84.0\n",
       "3      62.0\n",
       "Name: expenses, dtype: float64"
      ]
     },
     "execution_count": 40,
     "metadata": {},
     "output_type": "execute_result"
    }
   ],
   "source": [
    "# Calculando a mediana\n",
    "df.groupby('kids')['expenses'].median()"
   ]
  },
  {
   "cell_type": "markdown",
   "id": "6a9312e2",
   "metadata": {},
   "source": [
    "Podemos ver que tanto a média quanto a mediana 0 e 1 filho é maior nessa amostra de dados, porém a média de 2 filhos é menor do que de 3 filhos, enquanto a mediana de 2 filhos é maior do que de 3 filhos. Ambos os grupos 2 e 3 tem médias bem maiores do que a mediana, indicando outliers superiores (o próprio gráfico já mostra isso). Grupo 1 também tem outliers superiores, mas essa diferença é menos acentuada. Pessoas com nenhum filho tem uma distribuição um pouco mais similar a uma normal (sem outliers, e mediana levemente centrada do meio do boxplot)"
   ]
  },
  {
   "cell_type": "markdown",
   "id": "32090562",
   "metadata": {},
   "source": [
    "Pessoas que têm um maior salário gastam mais? Explorando as colunas Income e expenses"
   ]
  },
  {
   "cell_type": "code",
   "execution_count": 41,
   "id": "fed7f1d0",
   "metadata": {},
   "outputs": [
    {
     "data": {
      "image/png": "[encoded data removed]",
      "text/plain": [
       "<Figure size 640x480 with 1 Axes>"
      ]
     },
     "metadata": {},
     "output_type": "display_data"
    }
   ],
   "source": [
    "# Gráfico de dispersão mostrando expenses versus income\n",
    "plt.scatter(df['expenses'], df['Income'])\n",
    "plt.show()"
   ]
  },
  {
   "cell_type": "code",
   "execution_count": 42,
   "id": "eafcb9ff",
   "metadata": {},
   "outputs": [
    {
     "data": {
      "text/plain": [
       "np.float64(0.823066002139838)"
      ]
     },
     "execution_count": 42,
     "metadata": {},
     "output_type": "execute_result"
    }
   ],
   "source": [
    "# Verificando a correlação de Pearson\n",
    "df['expenses'].corr(df['Income'])"
   ]
  },
  {
   "cell_type": "markdown",
   "id": "363f813a",
   "metadata": {},
   "source": [
    "A correlação de pearson é dada pela fórmula acima. O resultado foi 0.82."
   ]
  },
  {
   "cell_type": "markdown",
   "id": "ecf5ca7f",
   "metadata": {},
   "source": [
    "Aparentemente existe uma correlação diretamente proporcional, em que pessoas que ganham mais também gastam mais."
   ]
  }
 ],
 "metadata": {
  "kernelspec": {
   "display_name": "Python 3",
   "language": "python",
   "name": "python3"
  },
  "language_info": {
   "codemirror_mode": {
    "name": "ipython",
    "version": 3
   },
   "file_extension": ".py",
   "mimetype": "text/x-python",
   "name": "python",
   "nbconvert_exporter": "python",
   "pygments_lexer": "ipython3",
   "version": "3.12.6"
  }
 },
 "nbformat": 4,
 "nbformat_minor": 5
}
